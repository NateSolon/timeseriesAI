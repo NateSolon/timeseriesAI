{
 "cells": [
  {
   "cell_type": "markdown",
   "metadata": {},
   "source": [
    "[This notebook is based on work by Ignacio Oguiza.](https://github.com/timeseriesAI/timeseriesAI)\n",
    "\n",
    "The purpose is to provide a quick, easy, and reproducible way to evaluate time series classification models. The models are evaluated on the [UCR Time Series Classification Archive](https://www.cs.ucr.edu/~eamonn/time_series_data_2018/).\n",
    "\n",
    "The only thing you need to provide is your \"model\": a function that takes as input X_train, y_train, and X_valid and outputs predictions. Currently a random choice model and [ROCKET](https://arxiv.org/pdf/1910.13051.pdf) are provided.\n",
    "\n",
    "Of course, no one-size-fits-all evaluation script is perfect. See [this paper](https://arxiv.org/pdf/1810.07758.pdf) for important things to consider when evaluating time series models."
   ]
  },
  {
   "cell_type": "code",
   "execution_count": 6,
   "metadata": {},
   "outputs": [],
   "source": [
    "from eval_tools import *"
   ]
  },
  {
   "cell_type": "code",
   "execution_count": 7,
   "metadata": {},
   "outputs": [
    {
     "name": "stdout",
     "output_type": "stream",
     "text": [
      "\n",
      "Processing ACSF1 dataset...\n",
      "\n",
      "    1 - score: 0.89000  time(s):    6\n",
      "    2 - score: 0.88000  time(s):    6\n",
      "\n",
      "Processing Adiac dataset...\n",
      "\n",
      "    1 - score: 0.79540  time(s):    3\n",
      "    2 - score: 0.79540  time(s):    4\n",
      "\n",
      "Processing AllGestureWiimoteX dataset...\n",
      "\n",
      "...AllGestureWiimoteX contains inf or nan\n",
      "\n",
      "\n",
      "Processing AllGestureWiimoteY dataset...\n",
      "\n",
      "...AllGestureWiimoteY contains inf or nan\n",
      "\n",
      "\n",
      "Processing AllGestureWiimoteZ dataset...\n",
      "\n",
      "...AllGestureWiimoteZ contains inf or nan\n",
      "\n",
      "\n",
      "Processing ArrowHead dataset...\n",
      "\n",
      "    1 - score: 0.82286  time(s):    1\n",
      "    2 - score: 0.81143  time(s):    1\n",
      "\n",
      "Processing AsphaltObstacles dataset...\n",
      "\n",
      "...AsphaltObstacles contains inf or nan\n",
      "\n",
      "\n",
      "Processing BME dataset...\n",
      "\n",
      "    1 - score: 1.00000  time(s):    1\n",
      "    2 - score: 1.00000  time(s):    1\n",
      "\n",
      "Processing Beef dataset...\n",
      "\n",
      "    1 - score: 0.80000  time(s):    1\n",
      "    2 - score: 0.80000  time(s):    1\n",
      "\n",
      "Processing BeetleFly dataset...\n",
      "\n",
      "    1 - score: 0.90000  time(s):    1\n",
      "    2 - score: 0.90000  time(s):    1\n",
      "(*) datasets with data issues: ['AllGestureWiimoteX', 'AllGestureWiimoteY', 'AllGestureWiimoteZ', 'AsphaltObstacles']\n"
     ]
    }
   ],
   "source": [
    "model = rocket_vanilla # replace with your model of choice\n",
    "datasets = sorted(get_UCR_univariate_list())[:10]\n",
    "df = evaluate(model, iterations=2, datasets=datasets)"
   ]
  },
  {
   "cell_type": "code",
   "execution_count": 8,
   "metadata": {},
   "outputs": [
    {
     "data": {
      "text/html": [
       "<div>\n",
       "<style scoped>\n",
       "    .dataframe tbody tr th:only-of-type {\n",
       "        vertical-align: middle;\n",
       "    }\n",
       "\n",
       "    .dataframe tbody tr th {\n",
       "        vertical-align: top;\n",
       "    }\n",
       "\n",
       "    .dataframe thead th {\n",
       "        text-align: right;\n",
       "    }\n",
       "</style>\n",
       "<table border=\"1\" class=\"dataframe\">\n",
       "  <thead>\n",
       "    <tr style=\"text-align: right;\">\n",
       "      <th></th>\n",
       "      <th>dataset</th>\n",
       "      <th>type</th>\n",
       "      <th>iterations</th>\n",
       "      <th>mean_accuracy</th>\n",
       "      <th>std_accuracy</th>\n",
       "      <th>time(s)</th>\n",
       "    </tr>\n",
       "  </thead>\n",
       "  <tbody>\n",
       "    <tr>\n",
       "      <th>0</th>\n",
       "      <td>ACSF1</td>\n",
       "      <td>univariate</td>\n",
       "      <td>2</td>\n",
       "      <td>0.885000</td>\n",
       "      <td>0.005000</td>\n",
       "      <td>6</td>\n",
       "    </tr>\n",
       "    <tr>\n",
       "      <th>1</th>\n",
       "      <td>Adiac</td>\n",
       "      <td>univariate</td>\n",
       "      <td>2</td>\n",
       "      <td>0.795396</td>\n",
       "      <td>0.000000</td>\n",
       "      <td>3</td>\n",
       "    </tr>\n",
       "    <tr>\n",
       "      <th>2</th>\n",
       "      <td>ArrowHead</td>\n",
       "      <td>univariate</td>\n",
       "      <td>2</td>\n",
       "      <td>0.817143</td>\n",
       "      <td>0.005714</td>\n",
       "      <td>1</td>\n",
       "    </tr>\n",
       "    <tr>\n",
       "      <th>3</th>\n",
       "      <td>BME</td>\n",
       "      <td>univariate</td>\n",
       "      <td>2</td>\n",
       "      <td>1.000000</td>\n",
       "      <td>0.000000</td>\n",
       "      <td>1</td>\n",
       "    </tr>\n",
       "    <tr>\n",
       "      <th>4</th>\n",
       "      <td>Beef</td>\n",
       "      <td>univariate</td>\n",
       "      <td>2</td>\n",
       "      <td>0.800000</td>\n",
       "      <td>0.000000</td>\n",
       "      <td>1</td>\n",
       "    </tr>\n",
       "    <tr>\n",
       "      <th>5</th>\n",
       "      <td>BeetleFly</td>\n",
       "      <td>univariate</td>\n",
       "      <td>2</td>\n",
       "      <td>0.900000</td>\n",
       "      <td>0.000000</td>\n",
       "      <td>1</td>\n",
       "    </tr>\n",
       "  </tbody>\n",
       "</table>\n",
       "</div>"
      ],
      "text/plain": [
       "     dataset        type iterations mean_accuracy std_accuracy time(s)\n",
       "0      ACSF1  univariate          2      0.885000     0.005000       6\n",
       "1      Adiac  univariate          2      0.795396     0.000000       3\n",
       "2  ArrowHead  univariate          2      0.817143     0.005714       1\n",
       "3        BME  univariate          2      1.000000     0.000000       1\n",
       "4       Beef  univariate          2      0.800000     0.000000       1\n",
       "5  BeetleFly  univariate          2      0.900000     0.000000       1"
      ]
     },
     "metadata": {},
     "output_type": "display_data"
    }
   ],
   "source": [
    "display(df)"
   ]
  },
  {
   "cell_type": "code",
   "execution_count": 9,
   "metadata": {},
   "outputs": [
    {
     "data": {
      "text/plain": [
       "0.8662565"
      ]
     },
     "execution_count": 9,
     "metadata": {},
     "output_type": "execute_result"
    }
   ],
   "source": [
    "df['mean_accuracy'].astype('float').mean()"
   ]
  },
  {
   "cell_type": "code",
   "execution_count": null,
   "metadata": {},
   "outputs": [],
   "source": []
  }
 ],
 "metadata": {
  "kernelspec": {
   "display_name": "Python 3",
   "language": "python",
   "name": "python3"
  },
  "language_info": {
   "codemirror_mode": {
    "name": "ipython",
    "version": 3
   },
   "file_extension": ".py",
   "mimetype": "text/x-python",
   "name": "python",
   "nbconvert_exporter": "python",
   "pygments_lexer": "ipython3",
   "version": "3.6.7"
  }
 },
 "nbformat": 4,
 "nbformat_minor": 2
}
