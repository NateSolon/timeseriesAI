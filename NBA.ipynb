{
 "cells": [
  {
   "cell_type": "markdown",
   "metadata": {},
   "source": [
    "## Benchmarking"
   ]
  },
  {
   "cell_type": "code",
   "execution_count": 1,
   "metadata": {},
   "outputs": [],
   "source": [
    "import pandas as pd\n",
    "import numpy as np"
   ]
  },
  {
   "cell_type": "code",
   "execution_count": 2,
   "metadata": {},
   "outputs": [],
   "source": [
    "%matplotlib inline"
   ]
  },
  {
   "cell_type": "markdown",
   "metadata": {},
   "source": [
    "The NBA data is included in a compressed format because it's pretty big. The first time you run this notebook you'll need to uncomment the line below to unzip the data."
   ]
  },
  {
   "cell_type": "code",
   "execution_count": 3,
   "metadata": {
    "scrolled": true
   },
   "outputs": [],
   "source": [
    "# !tar -xzvf data/nba.tar.gz -C data/"
   ]
  },
  {
   "cell_type": "code",
   "execution_count": 4,
   "metadata": {},
   "outputs": [
    {
     "data": {
      "text/html": [
       "<div>\n",
       "<style scoped>\n",
       "    .dataframe tbody tr th:only-of-type {\n",
       "        vertical-align: middle;\n",
       "    }\n",
       "\n",
       "    .dataframe tbody tr th {\n",
       "        vertical-align: top;\n",
       "    }\n",
       "\n",
       "    .dataframe thead th {\n",
       "        text-align: right;\n",
       "    }\n",
       "</style>\n",
       "<table border=\"1\" class=\"dataframe\">\n",
       "  <thead>\n",
       "    <tr style=\"text-align: right;\">\n",
       "      <th></th>\n",
       "      <th>SEASON_YEAR</th>\n",
       "      <th>PLAYER_ID</th>\n",
       "      <th>PLAYER_NAME</th>\n",
       "      <th>TEAM_ID</th>\n",
       "      <th>TEAM_ABBREVIATION</th>\n",
       "      <th>TEAM_NAME</th>\n",
       "      <th>GAME_ID</th>\n",
       "      <th>GAME_DATE</th>\n",
       "      <th>MATCHUP</th>\n",
       "      <th>WL</th>\n",
       "      <th>...</th>\n",
       "      <th>BLKA</th>\n",
       "      <th>PF</th>\n",
       "      <th>PFD</th>\n",
       "      <th>PTS</th>\n",
       "      <th>PLUS_MINUS</th>\n",
       "      <th>NBA_FANTASY_PTS</th>\n",
       "      <th>DD2</th>\n",
       "      <th>TD3</th>\n",
       "      <th>Season</th>\n",
       "      <th>date</th>\n",
       "    </tr>\n",
       "  </thead>\n",
       "  <tbody>\n",
       "    <tr>\n",
       "      <th>559702</th>\n",
       "      <td>1996-97</td>\n",
       "      <td>239</td>\n",
       "      <td>Darrick Martin</td>\n",
       "      <td>1610612746</td>\n",
       "      <td>LAC</td>\n",
       "      <td>Los Angeles Clippers</td>\n",
       "      <td>29600013</td>\n",
       "      <td>1996-11-01</td>\n",
       "      <td>LAC @ GSW</td>\n",
       "      <td>W</td>\n",
       "      <td>...</td>\n",
       "      <td>1</td>\n",
       "      <td>3</td>\n",
       "      <td>0</td>\n",
       "      <td>13</td>\n",
       "      <td>7</td>\n",
       "      <td>19.7</td>\n",
       "      <td>0</td>\n",
       "      <td>0</td>\n",
       "      <td>1996-97</td>\n",
       "      <td>1996-11-01</td>\n",
       "    </tr>\n",
       "    <tr>\n",
       "      <th>559506</th>\n",
       "      <td>1996-97</td>\n",
       "      <td>63</td>\n",
       "      <td>Michael Smith</td>\n",
       "      <td>1610612758</td>\n",
       "      <td>SAC</td>\n",
       "      <td>Sacramento Kings</td>\n",
       "      <td>29600009</td>\n",
       "      <td>1996-11-01</td>\n",
       "      <td>SAC @ HOU</td>\n",
       "      <td>L</td>\n",
       "      <td>...</td>\n",
       "      <td>0</td>\n",
       "      <td>4</td>\n",
       "      <td>0</td>\n",
       "      <td>8</td>\n",
       "      <td>-10</td>\n",
       "      <td>23.5</td>\n",
       "      <td>0</td>\n",
       "      <td>0</td>\n",
       "      <td>1996-97</td>\n",
       "      <td>1996-11-01</td>\n",
       "    </tr>\n",
       "    <tr>\n",
       "      <th>559507</th>\n",
       "      <td>1996-97</td>\n",
       "      <td>251</td>\n",
       "      <td>Sean Elliott</td>\n",
       "      <td>1610612759</td>\n",
       "      <td>SAS</td>\n",
       "      <td>San Antonio Spurs</td>\n",
       "      <td>29600008</td>\n",
       "      <td>1996-11-01</td>\n",
       "      <td>SAS @ MIN</td>\n",
       "      <td>L</td>\n",
       "      <td>...</td>\n",
       "      <td>4</td>\n",
       "      <td>3</td>\n",
       "      <td>0</td>\n",
       "      <td>14</td>\n",
       "      <td>-11</td>\n",
       "      <td>29.1</td>\n",
       "      <td>0</td>\n",
       "      <td>0</td>\n",
       "      <td>1996-97</td>\n",
       "      <td>1996-11-01</td>\n",
       "    </tr>\n",
       "    <tr>\n",
       "      <th>559508</th>\n",
       "      <td>1996-97</td>\n",
       "      <td>112</td>\n",
       "      <td>Dontonio Wingfield</td>\n",
       "      <td>1610612757</td>\n",
       "      <td>POR</td>\n",
       "      <td>Portland Trail Blazers</td>\n",
       "      <td>29600014</td>\n",
       "      <td>1996-11-01</td>\n",
       "      <td>POR @ VAN</td>\n",
       "      <td>W</td>\n",
       "      <td>...</td>\n",
       "      <td>1</td>\n",
       "      <td>6</td>\n",
       "      <td>0</td>\n",
       "      <td>4</td>\n",
       "      <td>16</td>\n",
       "      <td>29.8</td>\n",
       "      <td>0</td>\n",
       "      <td>0</td>\n",
       "      <td>1996-97</td>\n",
       "      <td>1996-11-01</td>\n",
       "    </tr>\n",
       "    <tr>\n",
       "      <th>559509</th>\n",
       "      <td>1996-97</td>\n",
       "      <td>210</td>\n",
       "      <td>Terrell Brandon</td>\n",
       "      <td>1610612739</td>\n",
       "      <td>CLE</td>\n",
       "      <td>Cleveland Cavaliers</td>\n",
       "      <td>29600002</td>\n",
       "      <td>1996-11-01</td>\n",
       "      <td>CLE @ NJN</td>\n",
       "      <td>W</td>\n",
       "      <td>...</td>\n",
       "      <td>1</td>\n",
       "      <td>4</td>\n",
       "      <td>0</td>\n",
       "      <td>25</td>\n",
       "      <td>15</td>\n",
       "      <td>45.7</td>\n",
       "      <td>0</td>\n",
       "      <td>0</td>\n",
       "      <td>1996-97</td>\n",
       "      <td>1996-11-01</td>\n",
       "    </tr>\n",
       "  </tbody>\n",
       "</table>\n",
       "<p>5 rows × 37 columns</p>\n",
       "</div>"
      ],
      "text/plain": [
       "       SEASON_YEAR  PLAYER_ID         PLAYER_NAME     TEAM_ID  \\\n",
       "559702     1996-97        239      Darrick Martin  1610612746   \n",
       "559506     1996-97         63       Michael Smith  1610612758   \n",
       "559507     1996-97        251        Sean Elliott  1610612759   \n",
       "559508     1996-97        112  Dontonio Wingfield  1610612757   \n",
       "559509     1996-97        210     Terrell Brandon  1610612739   \n",
       "\n",
       "       TEAM_ABBREVIATION               TEAM_NAME   GAME_ID   GAME_DATE  \\\n",
       "559702               LAC    Los Angeles Clippers  29600013  1996-11-01   \n",
       "559506               SAC        Sacramento Kings  29600009  1996-11-01   \n",
       "559507               SAS       San Antonio Spurs  29600008  1996-11-01   \n",
       "559508               POR  Portland Trail Blazers  29600014  1996-11-01   \n",
       "559509               CLE     Cleveland Cavaliers  29600002  1996-11-01   \n",
       "\n",
       "          MATCHUP WL    ...      BLKA  PF  PFD  PTS  PLUS_MINUS  \\\n",
       "559702  LAC @ GSW  W    ...         1   3    0   13           7   \n",
       "559506  SAC @ HOU  L    ...         0   4    0    8         -10   \n",
       "559507  SAS @ MIN  L    ...         4   3    0   14         -11   \n",
       "559508  POR @ VAN  W    ...         1   6    0    4          16   \n",
       "559509  CLE @ NJN  W    ...         1   4    0   25          15   \n",
       "\n",
       "        NBA_FANTASY_PTS  DD2  TD3   Season       date  \n",
       "559702             19.7    0    0  1996-97 1996-11-01  \n",
       "559506             23.5    0    0  1996-97 1996-11-01  \n",
       "559507             29.1    0    0  1996-97 1996-11-01  \n",
       "559508             29.8    0    0  1996-97 1996-11-01  \n",
       "559509             45.7    0    0  1996-97 1996-11-01  \n",
       "\n",
       "[5 rows x 37 columns]"
      ]
     },
     "execution_count": 4,
     "metadata": {},
     "output_type": "execute_result"
    }
   ],
   "source": [
    "df = pd.read_csv('data/nba.csv')\n",
    "df['date'] = pd.to_datetime(df['GAME_DATE'])\n",
    "df.sort_values(by=['date'], inplace=True)\n",
    "df.head()"
   ]
  },
  {
   "cell_type": "code",
   "execution_count": 5,
   "metadata": {
    "scrolled": true
   },
   "outputs": [
    {
     "data": {
      "text/plain": [
       "(559703, 37)"
      ]
     },
     "execution_count": 5,
     "metadata": {},
     "output_type": "execute_result"
    }
   ],
   "source": [
    "df.shape"
   ]
  },
  {
   "cell_type": "code",
   "execution_count": 6,
   "metadata": {},
   "outputs": [
    {
     "data": {
      "text/plain": [
       "559702    13\n",
       "559506     8\n",
       "559507    14\n",
       "559508     4\n",
       "559509    25\n",
       "559510     0\n",
       "559511    12\n",
       "559505     2\n",
       "559512     6\n",
       "559514    14\n",
       "Name: PTS, dtype: int64"
      ]
     },
     "execution_count": 6,
     "metadata": {},
     "output_type": "execute_result"
    }
   ],
   "source": [
    "df['PTS'][:10]"
   ]
  },
  {
   "cell_type": "markdown",
   "metadata": {},
   "source": [
    "I created some basic statistical features that can be used as forecasts. I also threw in home/away since it seemed like it might be important."
   ]
  },
  {
   "cell_type": "code",
   "execution_count": 8,
   "metadata": {},
   "outputs": [],
   "source": [
    "def make_features(player_df, focus='PTS'):\n",
    "    player_df = player_df.assign(\n",
    "        target=player_df[focus].shift(-1),\n",
    "        sample_mean=player_df[focus].expanding().mean(),\n",
    "        ewma=player_df[focus].ewm(alpha=0.1).mean(),\n",
    "        last_day=player_df[focus],\n",
    "        moving_window=player_df[focus].rolling(10).mean(),\n",
    "        home=player_df['MATCHUP'].shift(-1).apply(lambda x: x if type(x)==np.float else int(x.split()[1]=='vs.'))\n",
    "    )\n",
    "    \n",
    "    features = ['date', 'last_day', 'sample_mean', 'moving_window', 'ewma', 'home', 'target']    \n",
    "    features = player_df[features].copy()\n",
    "    features = features[10:-1] # drop rows with missing data\n",
    "    return features"
   ]
  },
  {
   "cell_type": "code",
   "execution_count": 9,
   "metadata": {},
   "outputs": [],
   "source": [
    "# Split the df by player, generate the features, then recombine into a single df\n",
    "combined = None\n",
    "\n",
    "for player in df['PLAYER_ID'].unique():\n",
    "    player_df = df[df['PLAYER_ID']==player].reset_index(drop=True)\n",
    "    features = make_features(player_df)\n",
    "    if combined is None: combined = features\n",
    "    else: combined = pd.concat([combined, features])"
   ]
  },
  {
   "cell_type": "code",
   "execution_count": 10,
   "metadata": {},
   "outputs": [
    {
     "data": {
      "text/html": [
       "<div>\n",
       "<style scoped>\n",
       "    .dataframe tbody tr th:only-of-type {\n",
       "        vertical-align: middle;\n",
       "    }\n",
       "\n",
       "    .dataframe tbody tr th {\n",
       "        vertical-align: top;\n",
       "    }\n",
       "\n",
       "    .dataframe thead th {\n",
       "        text-align: right;\n",
       "    }\n",
       "</style>\n",
       "<table border=\"1\" class=\"dataframe\">\n",
       "  <thead>\n",
       "    <tr style=\"text-align: right;\">\n",
       "      <th></th>\n",
       "      <th>date</th>\n",
       "      <th>last_day</th>\n",
       "      <th>sample_mean</th>\n",
       "      <th>moving_window</th>\n",
       "      <th>ewma</th>\n",
       "      <th>home</th>\n",
       "      <th>target</th>\n",
       "    </tr>\n",
       "  </thead>\n",
       "  <tbody>\n",
       "    <tr>\n",
       "      <th>10</th>\n",
       "      <td>1996-11-21</td>\n",
       "      <td>7</td>\n",
       "      <td>5.090909</td>\n",
       "      <td>4.3</td>\n",
       "      <td>5.084948</td>\n",
       "      <td>0.0</td>\n",
       "      <td>4.0</td>\n",
       "    </tr>\n",
       "    <tr>\n",
       "      <th>11</th>\n",
       "      <td>1996-11-23</td>\n",
       "      <td>4</td>\n",
       "      <td>5.000000</td>\n",
       "      <td>4.5</td>\n",
       "      <td>4.933751</td>\n",
       "      <td>1.0</td>\n",
       "      <td>5.0</td>\n",
       "    </tr>\n",
       "    <tr>\n",
       "      <th>12</th>\n",
       "      <td>1996-11-25</td>\n",
       "      <td>5</td>\n",
       "      <td>5.000000</td>\n",
       "      <td>5.0</td>\n",
       "      <td>4.942634</td>\n",
       "      <td>1.0</td>\n",
       "      <td>18.0</td>\n",
       "    </tr>\n",
       "    <tr>\n",
       "      <th>13</th>\n",
       "      <td>1996-11-27</td>\n",
       "      <td>18</td>\n",
       "      <td>5.928571</td>\n",
       "      <td>6.8</td>\n",
       "      <td>6.635687</td>\n",
       "      <td>0.0</td>\n",
       "      <td>18.0</td>\n",
       "    </tr>\n",
       "    <tr>\n",
       "      <th>14</th>\n",
       "      <td>1996-11-29</td>\n",
       "      <td>18</td>\n",
       "      <td>6.733333</td>\n",
       "      <td>7.9</td>\n",
       "      <td>8.066764</td>\n",
       "      <td>1.0</td>\n",
       "      <td>12.0</td>\n",
       "    </tr>\n",
       "  </tbody>\n",
       "</table>\n",
       "</div>"
      ],
      "text/plain": [
       "         date  last_day  sample_mean  moving_window      ewma  home  target\n",
       "10 1996-11-21         7     5.090909            4.3  5.084948   0.0     4.0\n",
       "11 1996-11-23         4     5.000000            4.5  4.933751   1.0     5.0\n",
       "12 1996-11-25         5     5.000000            5.0  4.942634   1.0    18.0\n",
       "13 1996-11-27        18     5.928571            6.8  6.635687   0.0    18.0\n",
       "14 1996-11-29        18     6.733333            7.9  8.066764   1.0    12.0"
      ]
     },
     "execution_count": 10,
     "metadata": {},
     "output_type": "execute_result"
    }
   ],
   "source": [
    "combined.head()"
   ]
  },
  {
   "cell_type": "code",
   "execution_count": 11,
   "metadata": {
    "scrolled": true
   },
   "outputs": [
    {
     "data": {
      "text/plain": [
       "(537795, 7)"
      ]
     },
     "execution_count": 11,
     "metadata": {},
     "output_type": "execute_result"
    }
   ],
   "source": [
    "combined.shape"
   ]
  },
  {
   "cell_type": "code",
   "execution_count": 12,
   "metadata": {},
   "outputs": [],
   "source": [
    "def mae(targ, pred): return (pred-targ).abs().mean()"
   ]
  },
  {
   "cell_type": "code",
   "execution_count": 13,
   "metadata": {
    "scrolled": false
   },
   "outputs": [
    {
     "data": {
      "text/plain": [
       "5.551758569715226"
      ]
     },
     "execution_count": 13,
     "metadata": {},
     "output_type": "execute_result"
    }
   ],
   "source": [
    "mae(combined['target'], combined['last_day'])"
   ]
  },
  {
   "cell_type": "code",
   "execution_count": 14,
   "metadata": {},
   "outputs": [
    {
     "data": {
      "text/plain": [
       "4.9634851880663335"
      ]
     },
     "execution_count": 14,
     "metadata": {},
     "output_type": "execute_result"
    }
   ],
   "source": [
    "mae(combined['target'], combined['sample_mean'])"
   ]
  },
  {
   "cell_type": "code",
   "execution_count": 15,
   "metadata": {},
   "outputs": [
    {
     "data": {
      "text/plain": [
       "4.319840755362905"
      ]
     },
     "execution_count": 15,
     "metadata": {},
     "output_type": "execute_result"
    }
   ],
   "source": [
    "mae(combined['target'], combined['ewma'])"
   ]
  },
  {
   "cell_type": "code",
   "execution_count": 16,
   "metadata": {},
   "outputs": [
    {
     "data": {
      "text/plain": [
       "4.389793508679368"
      ]
     },
     "execution_count": 16,
     "metadata": {},
     "output_type": "execute_result"
    }
   ],
   "source": [
    "mae(combined['target'], combined['moving_window'])"
   ]
  },
  {
   "cell_type": "markdown",
   "metadata": {},
   "source": [
    "The averaging techniques perform better than looking at the last day. This may suggest that the player has an underlying level of skill that is predictive of points, and short-term blips are not very telling. The exponentially weighted average performs best, perhaps because it's able to pick up on trends such as a player improving or getting worse."
   ]
  },
  {
   "cell_type": "markdown",
   "metadata": {},
   "source": [
    "## XGBoost"
   ]
  },
  {
   "cell_type": "code",
   "execution_count": 17,
   "metadata": {},
   "outputs": [],
   "source": [
    "import xgboost as xgb"
   ]
  },
  {
   "cell_type": "code",
   "execution_count": 18,
   "metadata": {},
   "outputs": [],
   "source": [
    "combined = combined.sort_values(by='date').reset_index(drop=True)"
   ]
  },
  {
   "cell_type": "code",
   "execution_count": 19,
   "metadata": {
    "scrolled": false
   },
   "outputs": [
    {
     "data": {
      "text/html": [
       "<div>\n",
       "<style scoped>\n",
       "    .dataframe tbody tr th:only-of-type {\n",
       "        vertical-align: middle;\n",
       "    }\n",
       "\n",
       "    .dataframe tbody tr th {\n",
       "        vertical-align: top;\n",
       "    }\n",
       "\n",
       "    .dataframe thead th {\n",
       "        text-align: right;\n",
       "    }\n",
       "</style>\n",
       "<table border=\"1\" class=\"dataframe\">\n",
       "  <thead>\n",
       "    <tr style=\"text-align: right;\">\n",
       "      <th></th>\n",
       "      <th>date</th>\n",
       "      <th>last_day</th>\n",
       "      <th>sample_mean</th>\n",
       "      <th>moving_window</th>\n",
       "      <th>ewma</th>\n",
       "      <th>home</th>\n",
       "      <th>target</th>\n",
       "    </tr>\n",
       "  </thead>\n",
       "  <tbody>\n",
       "    <tr>\n",
       "      <th>0</th>\n",
       "      <td>1996-11-17</td>\n",
       "      <td>11</td>\n",
       "      <td>16.818182</td>\n",
       "      <td>16.5</td>\n",
       "      <td>16.445124</td>\n",
       "      <td>1.0</td>\n",
       "      <td>20.0</td>\n",
       "    </tr>\n",
       "    <tr>\n",
       "      <th>1</th>\n",
       "      <td>1996-11-17</td>\n",
       "      <td>10</td>\n",
       "      <td>7.090909</td>\n",
       "      <td>7.0</td>\n",
       "      <td>6.909297</td>\n",
       "      <td>1.0</td>\n",
       "      <td>3.0</td>\n",
       "    </tr>\n",
       "    <tr>\n",
       "      <th>2</th>\n",
       "      <td>1996-11-17</td>\n",
       "      <td>6</td>\n",
       "      <td>8.909091</td>\n",
       "      <td>8.3</td>\n",
       "      <td>8.480440</td>\n",
       "      <td>1.0</td>\n",
       "      <td>6.0</td>\n",
       "    </tr>\n",
       "    <tr>\n",
       "      <th>3</th>\n",
       "      <td>1996-11-17</td>\n",
       "      <td>4</td>\n",
       "      <td>4.272727</td>\n",
       "      <td>3.9</td>\n",
       "      <td>4.283124</td>\n",
       "      <td>1.0</td>\n",
       "      <td>6.0</td>\n",
       "    </tr>\n",
       "    <tr>\n",
       "      <th>4</th>\n",
       "      <td>1996-11-17</td>\n",
       "      <td>18</td>\n",
       "      <td>9.727273</td>\n",
       "      <td>9.8</td>\n",
       "      <td>9.540422</td>\n",
       "      <td>1.0</td>\n",
       "      <td>14.0</td>\n",
       "    </tr>\n",
       "  </tbody>\n",
       "</table>\n",
       "</div>"
      ],
      "text/plain": [
       "        date  last_day  sample_mean  moving_window       ewma  home  target\n",
       "0 1996-11-17        11    16.818182           16.5  16.445124   1.0    20.0\n",
       "1 1996-11-17        10     7.090909            7.0   6.909297   1.0     3.0\n",
       "2 1996-11-17         6     8.909091            8.3   8.480440   1.0     6.0\n",
       "3 1996-11-17         4     4.272727            3.9   4.283124   1.0     6.0\n",
       "4 1996-11-17        18     9.727273            9.8   9.540422   1.0    14.0"
      ]
     },
     "execution_count": 19,
     "metadata": {},
     "output_type": "execute_result"
    }
   ],
   "source": [
    "combined.head()"
   ]
  },
  {
   "cell_type": "code",
   "execution_count": 20,
   "metadata": {},
   "outputs": [],
   "source": [
    "combined.drop(columns='date', inplace=True)"
   ]
  },
  {
   "cell_type": "code",
   "execution_count": 21,
   "metadata": {},
   "outputs": [
    {
     "data": {
      "text/plain": [
       "403346"
      ]
     },
     "execution_count": 21,
     "metadata": {},
     "output_type": "execute_result"
    }
   ],
   "source": [
    "split = int(len(combined) * .75); split"
   ]
  },
  {
   "cell_type": "code",
   "execution_count": 22,
   "metadata": {},
   "outputs": [],
   "source": [
    "combined_train = combined.iloc[:split]\n",
    "combined_test = combined.iloc[split:]"
   ]
  },
  {
   "cell_type": "code",
   "execution_count": 23,
   "metadata": {},
   "outputs": [
    {
     "data": {
      "text/plain": [
       "((403346, 6), (134449, 6))"
      ]
     },
     "execution_count": 23,
     "metadata": {},
     "output_type": "execute_result"
    }
   ],
   "source": [
    "combined_train.shape, combined_test.shape"
   ]
  },
  {
   "cell_type": "code",
   "execution_count": 24,
   "metadata": {},
   "outputs": [],
   "source": [
    "X_train = combined_train.drop(columns=['target'])\n",
    "y_train = combined_train['target']\n",
    "\n",
    "X_test = combined_test.drop(columns=['target'])\n",
    "y_test = combined_test['target']"
   ]
  },
  {
   "cell_type": "code",
   "execution_count": 25,
   "metadata": {},
   "outputs": [
    {
     "name": "stderr",
     "output_type": "stream",
     "text": [
      "/opt/conda/envs/fastai/lib/python3.6/site-packages/xgboost/core.py:587: FutureWarning: Series.base is deprecated and will be removed in a future version\n",
      "  if getattr(data, 'base', None) is not None and \\\n",
      "/opt/conda/envs/fastai/lib/python3.6/site-packages/xgboost/core.py:588: FutureWarning: Series.base is deprecated and will be removed in a future version\n",
      "  data.base is not None and isinstance(data, np.ndarray) \\\n"
     ]
    },
    {
     "name": "stdout",
     "output_type": "stream",
     "text": [
      "[13:45:51] WARNING: /workspace/src/objective/regression_obj.cu:152: reg:linear is now deprecated in favor of reg:squarederror.\n"
     ]
    },
    {
     "data": {
      "text/plain": [
       "XGBRegressor(base_score=0.5, booster='gbtree', colsample_bylevel=1,\n",
       "             colsample_bynode=1, colsample_bytree=1, gamma=0,\n",
       "             importance_type='gain', learning_rate=0.1, max_delta_step=0,\n",
       "             max_depth=3, min_child_weight=1, missing=None, n_estimators=1000,\n",
       "             n_jobs=1, nthread=None, objective='reg:linear', random_state=0,\n",
       "             reg_alpha=0, reg_lambda=1, scale_pos_weight=1, seed=None,\n",
       "             silent=None, subsample=1, verbosity=1)"
      ]
     },
     "execution_count": 25,
     "metadata": {},
     "output_type": "execute_result"
    }
   ],
   "source": [
    "# training model; may take several minutes\n",
    "reg = xgb.XGBRegressor(n_estimators=1000)\n",
    "reg.fit(X_train, y_train,\n",
    "       verbose=False)"
   ]
  },
  {
   "cell_type": "code",
   "execution_count": 26,
   "metadata": {
    "scrolled": true
   },
   "outputs": [
    {
     "data": {
      "text/plain": [
       "<matplotlib.axes._subplots.AxesSubplot at 0x7fa968f12e80>"
      ]
     },
     "execution_count": 26,
     "metadata": {},
     "output_type": "execute_result"
    },
    {
     "data": {
      "image/png": "[encoded data removed]",
      "text/plain": [
       "<Figure size 432x288 with 1 Axes>"
      ]
     },
     "metadata": {
      "needs_background": "light"
     },
     "output_type": "display_data"
    }
   ],
   "source": [
    "xgb.plot_importance(reg)"
   ]
  },
  {
   "cell_type": "code",
   "execution_count": 27,
   "metadata": {},
   "outputs": [],
   "source": [
    "preds = reg.predict(X_test)"
   ]
  },
  {
   "cell_type": "code",
   "execution_count": 28,
   "metadata": {},
   "outputs": [
    {
     "data": {
      "text/plain": [
       "4.3907351797624115"
      ]
     },
     "execution_count": 28,
     "metadata": {},
     "output_type": "execute_result"
    }
   ],
   "source": [
    "mae(y_test, preds)"
   ]
  },
  {
   "cell_type": "markdown",
   "metadata": {},
   "source": [
    "Of course there are many other features that could improve performance, such as playoff/regular season, days since last game, etc."
   ]
  },
  {
   "cell_type": "markdown",
   "metadata": {},
   "source": [
    "## fastai time series"
   ]
  },
  {
   "cell_type": "code",
   "execution_count": 29,
   "metadata": {},
   "outputs": [],
   "source": [
    "df = pd.read_csv('data/nba.csv')\n",
    "df['date'] = pd.to_datetime(df['GAME_DATE'])\n",
    "df.sort_values(by=['date'], inplace=True)"
   ]
  },
  {
   "cell_type": "code",
   "execution_count": 30,
   "metadata": {},
   "outputs": [
    {
     "data": {
      "text/html": [
       "<div>\n",
       "<style scoped>\n",
       "    .dataframe tbody tr th:only-of-type {\n",
       "        vertical-align: middle;\n",
       "    }\n",
       "\n",
       "    .dataframe tbody tr th {\n",
       "        vertical-align: top;\n",
       "    }\n",
       "\n",
       "    .dataframe thead th {\n",
       "        text-align: right;\n",
       "    }\n",
       "</style>\n",
       "<table border=\"1\" class=\"dataframe\">\n",
       "  <thead>\n",
       "    <tr style=\"text-align: right;\">\n",
       "      <th></th>\n",
       "      <th>SEASON_YEAR</th>\n",
       "      <th>PLAYER_ID</th>\n",
       "      <th>PLAYER_NAME</th>\n",
       "      <th>TEAM_ID</th>\n",
       "      <th>TEAM_ABBREVIATION</th>\n",
       "      <th>TEAM_NAME</th>\n",
       "      <th>GAME_ID</th>\n",
       "      <th>GAME_DATE</th>\n",
       "      <th>MATCHUP</th>\n",
       "      <th>WL</th>\n",
       "      <th>...</th>\n",
       "      <th>BLKA</th>\n",
       "      <th>PF</th>\n",
       "      <th>PFD</th>\n",
       "      <th>PTS</th>\n",
       "      <th>PLUS_MINUS</th>\n",
       "      <th>NBA_FANTASY_PTS</th>\n",
       "      <th>DD2</th>\n",
       "      <th>TD3</th>\n",
       "      <th>Season</th>\n",
       "      <th>date</th>\n",
       "    </tr>\n",
       "  </thead>\n",
       "  <tbody>\n",
       "    <tr>\n",
       "      <th>559702</th>\n",
       "      <td>1996-97</td>\n",
       "      <td>239</td>\n",
       "      <td>Darrick Martin</td>\n",
       "      <td>1610612746</td>\n",
       "      <td>LAC</td>\n",
       "      <td>Los Angeles Clippers</td>\n",
       "      <td>29600013</td>\n",
       "      <td>1996-11-01</td>\n",
       "      <td>LAC @ GSW</td>\n",
       "      <td>W</td>\n",
       "      <td>...</td>\n",
       "      <td>1</td>\n",
       "      <td>3</td>\n",
       "      <td>0</td>\n",
       "      <td>13</td>\n",
       "      <td>7</td>\n",
       "      <td>19.7</td>\n",
       "      <td>0</td>\n",
       "      <td>0</td>\n",
       "      <td>1996-97</td>\n",
       "      <td>1996-11-01</td>\n",
       "    </tr>\n",
       "    <tr>\n",
       "      <th>559506</th>\n",
       "      <td>1996-97</td>\n",
       "      <td>63</td>\n",
       "      <td>Michael Smith</td>\n",
       "      <td>1610612758</td>\n",
       "      <td>SAC</td>\n",
       "      <td>Sacramento Kings</td>\n",
       "      <td>29600009</td>\n",
       "      <td>1996-11-01</td>\n",
       "      <td>SAC @ HOU</td>\n",
       "      <td>L</td>\n",
       "      <td>...</td>\n",
       "      <td>0</td>\n",
       "      <td>4</td>\n",
       "      <td>0</td>\n",
       "      <td>8</td>\n",
       "      <td>-10</td>\n",
       "      <td>23.5</td>\n",
       "      <td>0</td>\n",
       "      <td>0</td>\n",
       "      <td>1996-97</td>\n",
       "      <td>1996-11-01</td>\n",
       "    </tr>\n",
       "    <tr>\n",
       "      <th>559507</th>\n",
       "      <td>1996-97</td>\n",
       "      <td>251</td>\n",
       "      <td>Sean Elliott</td>\n",
       "      <td>1610612759</td>\n",
       "      <td>SAS</td>\n",
       "      <td>San Antonio Spurs</td>\n",
       "      <td>29600008</td>\n",
       "      <td>1996-11-01</td>\n",
       "      <td>SAS @ MIN</td>\n",
       "      <td>L</td>\n",
       "      <td>...</td>\n",
       "      <td>4</td>\n",
       "      <td>3</td>\n",
       "      <td>0</td>\n",
       "      <td>14</td>\n",
       "      <td>-11</td>\n",
       "      <td>29.1</td>\n",
       "      <td>0</td>\n",
       "      <td>0</td>\n",
       "      <td>1996-97</td>\n",
       "      <td>1996-11-01</td>\n",
       "    </tr>\n",
       "    <tr>\n",
       "      <th>559508</th>\n",
       "      <td>1996-97</td>\n",
       "      <td>112</td>\n",
       "      <td>Dontonio Wingfield</td>\n",
       "      <td>1610612757</td>\n",
       "      <td>POR</td>\n",
       "      <td>Portland Trail Blazers</td>\n",
       "      <td>29600014</td>\n",
       "      <td>1996-11-01</td>\n",
       "      <td>POR @ VAN</td>\n",
       "      <td>W</td>\n",
       "      <td>...</td>\n",
       "      <td>1</td>\n",
       "      <td>6</td>\n",
       "      <td>0</td>\n",
       "      <td>4</td>\n",
       "      <td>16</td>\n",
       "      <td>29.8</td>\n",
       "      <td>0</td>\n",
       "      <td>0</td>\n",
       "      <td>1996-97</td>\n",
       "      <td>1996-11-01</td>\n",
       "    </tr>\n",
       "    <tr>\n",
       "      <th>559509</th>\n",
       "      <td>1996-97</td>\n",
       "      <td>210</td>\n",
       "      <td>Terrell Brandon</td>\n",
       "      <td>1610612739</td>\n",
       "      <td>CLE</td>\n",
       "      <td>Cleveland Cavaliers</td>\n",
       "      <td>29600002</td>\n",
       "      <td>1996-11-01</td>\n",
       "      <td>CLE @ NJN</td>\n",
       "      <td>W</td>\n",
       "      <td>...</td>\n",
       "      <td>1</td>\n",
       "      <td>4</td>\n",
       "      <td>0</td>\n",
       "      <td>25</td>\n",
       "      <td>15</td>\n",
       "      <td>45.7</td>\n",
       "      <td>0</td>\n",
       "      <td>0</td>\n",
       "      <td>1996-97</td>\n",
       "      <td>1996-11-01</td>\n",
       "    </tr>\n",
       "  </tbody>\n",
       "</table>\n",
       "<p>5 rows × 37 columns</p>\n",
       "</div>"
      ],
      "text/plain": [
       "       SEASON_YEAR  PLAYER_ID         PLAYER_NAME     TEAM_ID  \\\n",
       "559702     1996-97        239      Darrick Martin  1610612746   \n",
       "559506     1996-97         63       Michael Smith  1610612758   \n",
       "559507     1996-97        251        Sean Elliott  1610612759   \n",
       "559508     1996-97        112  Dontonio Wingfield  1610612757   \n",
       "559509     1996-97        210     Terrell Brandon  1610612739   \n",
       "\n",
       "       TEAM_ABBREVIATION               TEAM_NAME   GAME_ID   GAME_DATE  \\\n",
       "559702               LAC    Los Angeles Clippers  29600013  1996-11-01   \n",
       "559506               SAC        Sacramento Kings  29600009  1996-11-01   \n",
       "559507               SAS       San Antonio Spurs  29600008  1996-11-01   \n",
       "559508               POR  Portland Trail Blazers  29600014  1996-11-01   \n",
       "559509               CLE     Cleveland Cavaliers  29600002  1996-11-01   \n",
       "\n",
       "          MATCHUP WL    ...      BLKA  PF  PFD  PTS  PLUS_MINUS  \\\n",
       "559702  LAC @ GSW  W    ...         1   3    0   13           7   \n",
       "559506  SAC @ HOU  L    ...         0   4    0    8         -10   \n",
       "559507  SAS @ MIN  L    ...         4   3    0   14         -11   \n",
       "559508  POR @ VAN  W    ...         1   6    0    4          16   \n",
       "559509  CLE @ NJN  W    ...         1   4    0   25          15   \n",
       "\n",
       "        NBA_FANTASY_PTS  DD2  TD3   Season       date  \n",
       "559702             19.7    0    0  1996-97 1996-11-01  \n",
       "559506             23.5    0    0  1996-97 1996-11-01  \n",
       "559507             29.1    0    0  1996-97 1996-11-01  \n",
       "559508             29.8    0    0  1996-97 1996-11-01  \n",
       "559509             45.7    0    0  1996-97 1996-11-01  \n",
       "\n",
       "[5 rows x 37 columns]"
      ]
     },
     "execution_count": 30,
     "metadata": {},
     "output_type": "execute_result"
    }
   ],
   "source": [
    "df.head()"
   ]
  },
  {
   "cell_type": "markdown",
   "metadata": {},
   "source": [
    "## Make data\n",
    "First I split the df by player (each player is really their own time series). Then I generate the training data as follows: X is 10 contiguous games, y is the game immediately after that (11th game). Do this as many times as the player series allows, stepping forward one day each time. This does mean there's a lot of overlap between the samples - I don't know if that's a problem. I split train/valid/test by season, partly for convenience, partly because I'm worried that the overlap in the samples could allow some data leakage. Because the test set is a season the model hasn't seen at all, the score on the test set should at least be a fair measure of how well it's working."
   ]
  },
  {
   "cell_type": "code",
   "execution_count": 31,
   "metadata": {},
   "outputs": [],
   "source": [
    "def make_arrays(player_df, window=10):\n",
    "    pts=player_df['PTS']\n",
    "    xs,ys = [],[]\n",
    "    for start in range(len(pts) - window):\n",
    "        end = start + window\n",
    "        x = pts[start:end]\n",
    "        y = pts[end]\n",
    "        xs.append(x)\n",
    "        ys.append(y)\n",
    "    return xs,ys"
   ]
  },
  {
   "cell_type": "code",
   "execution_count": 32,
   "metadata": {},
   "outputs": [],
   "source": [
    "def make_data(df):\n",
    "    all_xs, all_ys = [],[]\n",
    "    for player in df['PLAYER_ID'].unique():\n",
    "        player_df = df[df['PLAYER_ID']==player].reset_index(drop=True)\n",
    "        player_xs, player_ys = make_arrays(player_df)\n",
    "        all_xs += player_xs\n",
    "        all_ys += player_ys\n",
    "\n",
    "    X = np.array(all_xs).astype('float32')\n",
    "    X = X[:,np.newaxis,:] # Data must be in the shape samples, features, sequence length. In this case we only have one feature, points.\n",
    "    y = np.array(all_ys).astype('float32')\n",
    "    return X, y"
   ]
  },
  {
   "cell_type": "code",
   "execution_count": 33,
   "metadata": {},
   "outputs": [],
   "source": [
    "train_df = df[df['SEASON_YEAR'].isin(['2016-17', '2015-16', '2014-15'])].reset_index(drop=True)\n",
    "valid_df = df[df['SEASON_YEAR']=='2017-18'].reset_index(drop=True)\n",
    "test_df = df[df['SEASON_YEAR']=='2018-19'].reset_index(drop=True)"
   ]
  },
  {
   "cell_type": "code",
   "execution_count": 34,
   "metadata": {
    "scrolled": true
   },
   "outputs": [],
   "source": [
    "X_train, y_train = make_data(train_df)\n",
    "X_valid, y_valid = make_data(valid_df)\n",
    "X_test, y_test = make_data(test_df)"
   ]
  },
  {
   "cell_type": "code",
   "execution_count": 35,
   "metadata": {},
   "outputs": [
    {
     "data": {
      "text/plain": [
       "[(71833, 1, 10), (71833,), (21144, 1, 10), (21144,), (21168, 1, 10), (21168,)]"
      ]
     },
     "execution_count": 35,
     "metadata": {},
     "output_type": "execute_result"
    }
   ],
   "source": [
    "list(map(lambda x: x.shape, (X_train, y_train, X_valid, y_valid, X_test, y_test)))"
   ]
  },
  {
   "cell_type": "code",
   "execution_count": 37,
   "metadata": {},
   "outputs": [
    {
     "data": {
      "text/html": [
       "<style>.container { width:100% !important; }</style>"
      ],
      "text/plain": [
       "<IPython.core.display.HTML object>"
      ]
     },
     "metadata": {},
     "output_type": "display_data"
    },
    {
     "name": "stdout",
     "output_type": "stream",
     "text": [
      "/storage/timeseriesAI\n",
      "fastai : 1.0.58\n",
      "torch  : 1.0.0\n",
      "device : cuda\n"
     ]
    }
   ],
   "source": [
    "import fastai, os\n",
    "from fastai_timeseries import *\n",
    "from torchtimeseries.models import *\n",
    "path = Path(os.getcwd())\n",
    "print(path)\n",
    "print('fastai :', fastai.__version__)\n",
    "print('torch  :', torch.__version__)\n",
    "print('device :', device)"
   ]
  },
  {
   "cell_type": "code",
   "execution_count": 59,
   "metadata": {},
   "outputs": [],
   "source": [
    "bs = 64                            # ✳️\n",
    "seed = 1234                        # ✳️\n",
    "scale_type = 'standardize'         # ✳️ 'standardize', 'normalize'\n",
    "scale_subtype = 'per_channel'      # ✳️ 'all_samples', 'per_channel', 'per_sample'\n",
    "scale_range = (-1, 1)              # ✳️ for normalization only: usually left to (-1, 1)"
   ]
  },
  {
   "cell_type": "code",
   "execution_count": 60,
   "metadata": {},
   "outputs": [
    {
     "data": {
      "text/plain": [
       "TSDataBunch;\n",
       "\n",
       "Train: LabelList (71833 items)\n",
       "x: TimeSeriesList\n",
       "TimeSeries(ch=1, seq_len=10),TimeSeries(ch=1, seq_len=10),TimeSeries(ch=1, seq_len=10),TimeSeries(ch=1, seq_len=10),TimeSeries(ch=1, seq_len=10)\n",
       "y: FloatList\n",
       "0.0,9.0,2.0,9.0,8.0\n",
       "Path: .;\n",
       "\n",
       "Valid: LabelList (21144 items)\n",
       "x: TimeSeriesList\n",
       "TimeSeries(ch=1, seq_len=10),TimeSeries(ch=1, seq_len=10),TimeSeries(ch=1, seq_len=10),TimeSeries(ch=1, seq_len=10),TimeSeries(ch=1, seq_len=10)\n",
       "y: FloatList\n",
       "3.0,11.0,11.0,9.0,0.0\n",
       "Path: .;\n",
       "\n",
       "Test: None"
      ]
     },
     "execution_count": 60,
     "metadata": {},
     "output_type": "execute_result"
    }
   ],
   "source": [
    "db = (ItemLists('.', TimeSeriesList(X_train), TimeSeriesList(X_valid))\n",
    "      .label_from_lists(y_train, y_valid)\n",
    "      .databunch(bs=min(bs, len(X_train)), val_bs=min(len(X_valid), bs * 2), num_workers=cpus, device=device)\n",
    "      .scale(scale_type=scale_type, scale_subtype=scale_subtype, scale_range=scale_range)\n",
    "     )\n",
    "db"
   ]
  },
  {
   "cell_type": "code",
   "execution_count": 61,
   "metadata": {},
   "outputs": [
    {
     "data": {
      "image/png": "[encoded data removed]",
      "text/plain": [
       "<Figure size 720x720 with 25 Axes>"
      ]
     },
     "metadata": {},
     "output_type": "display_data"
    }
   ],
   "source": [
    "db.show_batch()"
   ]
  },
  {
   "cell_type": "code",
   "execution_count": 62,
   "metadata": {},
   "outputs": [],
   "source": [
    "from torchtimeseries.models import *\n",
    "# Select one arch from these state-of-the-art time series/ 1D models:\n",
    "# ResCNN, FCN, InceptionTime, ResNet\n",
    "arch = InceptionTime                     # ✳️   \n",
    "arch_kwargs = dict()                     # ✳️ \n",
    "opt_func=Ranger                          # ✳️ a state-of-the-art optimizer\n",
    "loss_func = FlattenedLoss(nn.L1Loss)     # ✳️ this is MAE loss"
   ]
  },
  {
   "cell_type": "code",
   "execution_count": 63,
   "metadata": {},
   "outputs": [
    {
     "name": "stdout",
     "output_type": "stream",
     "text": [
      "InceptionTime(\n",
      "  (block): InceptionBlock(\n",
      "    (inc_mods): ModuleList(\n",
      "      (0): Inception(\n",
      "        (conv_layers): ModuleList(\n",
      "          (0): Conv1d(1, 32, kernel_size=(39,), stride=(1,), padding=(19,))\n",
      "          (1): Conv1d(1, 32, kernel_size=(19,), stride=(1,), padding=(9,))\n",
      "          (2): Conv1d(1, 32, kernel_size=(9,), stride=(1,), padding=(4,))\n",
      "        )\n",
      "        (maxpool): MaxPool1d(kernel_size=3, stride=1, padding=1, dilation=1, ceil_mode=False)\n",
      "        (conv): Conv1d(1, 32, kernel_size=(1,), stride=(1,))\n",
      "        (bn): BatchNorm1d(128, eps=1e-05, momentum=0.1, affine=True, track_running_stats=True)\n",
      "        (act): ReLU()\n",
      "      )\n",
      "      (1): Inception(\n",
      "        (bottleneck): Conv1d(128, 32, kernel_size=(1,), stride=(1,))\n",
      "        (conv_layers): ModuleList(\n",
      "          (0): Conv1d(32, 32, kernel_size=(39,), stride=(1,), padding=(19,))\n",
      "          (1): Conv1d(32, 32, kernel_size=(19,), stride=(1,), padding=(9,))\n",
      "          (2): Conv1d(32, 32, kernel_size=(9,), stride=(1,), padding=(4,))\n",
      "        )\n",
      "        (maxpool): MaxPool1d(kernel_size=3, stride=1, padding=1, dilation=1, ceil_mode=False)\n",
      "        (conv): Conv1d(128, 32, kernel_size=(1,), stride=(1,))\n",
      "        (bn): BatchNorm1d(128, eps=1e-05, momentum=0.1, affine=True, track_running_stats=True)\n",
      "        (act): ReLU()\n",
      "      )\n",
      "      (2): Inception(\n",
      "        (bottleneck): Conv1d(128, 32, kernel_size=(1,), stride=(1,))\n",
      "        (conv_layers): ModuleList(\n",
      "          (0): Conv1d(32, 32, kernel_size=(39,), stride=(1,), padding=(19,))\n",
      "          (1): Conv1d(32, 32, kernel_size=(19,), stride=(1,), padding=(9,))\n",
      "          (2): Conv1d(32, 32, kernel_size=(9,), stride=(1,), padding=(4,))\n",
      "        )\n",
      "        (maxpool): MaxPool1d(kernel_size=3, stride=1, padding=1, dilation=1, ceil_mode=False)\n",
      "        (conv): Conv1d(128, 32, kernel_size=(1,), stride=(1,))\n",
      "        (bn): BatchNorm1d(128, eps=1e-05, momentum=0.1, affine=True, track_running_stats=True)\n",
      "        (act): ReLU()\n",
      "      )\n",
      "      (3): Inception(\n",
      "        (bottleneck): Conv1d(128, 32, kernel_size=(1,), stride=(1,))\n",
      "        (conv_layers): ModuleList(\n",
      "          (0): Conv1d(32, 32, kernel_size=(39,), stride=(1,), padding=(19,))\n",
      "          (1): Conv1d(32, 32, kernel_size=(19,), stride=(1,), padding=(9,))\n",
      "          (2): Conv1d(32, 32, kernel_size=(9,), stride=(1,), padding=(4,))\n",
      "        )\n",
      "        (maxpool): MaxPool1d(kernel_size=3, stride=1, padding=1, dilation=1, ceil_mode=False)\n",
      "        (conv): Conv1d(128, 32, kernel_size=(1,), stride=(1,))\n",
      "        (bn): BatchNorm1d(128, eps=1e-05, momentum=0.1, affine=True, track_running_stats=True)\n",
      "        (act): ReLU()\n",
      "      )\n",
      "      (4): Inception(\n",
      "        (bottleneck): Conv1d(128, 32, kernel_size=(1,), stride=(1,))\n",
      "        (conv_layers): ModuleList(\n",
      "          (0): Conv1d(32, 32, kernel_size=(39,), stride=(1,), padding=(19,))\n",
      "          (1): Conv1d(32, 32, kernel_size=(19,), stride=(1,), padding=(9,))\n",
      "          (2): Conv1d(32, 32, kernel_size=(9,), stride=(1,), padding=(4,))\n",
      "        )\n",
      "        (maxpool): MaxPool1d(kernel_size=3, stride=1, padding=1, dilation=1, ceil_mode=False)\n",
      "        (conv): Conv1d(128, 32, kernel_size=(1,), stride=(1,))\n",
      "        (bn): BatchNorm1d(128, eps=1e-05, momentum=0.1, affine=True, track_running_stats=True)\n",
      "        (act): ReLU()\n",
      "      )\n",
      "      (5): Inception(\n",
      "        (bottleneck): Conv1d(128, 32, kernel_size=(1,), stride=(1,))\n",
      "        (conv_layers): ModuleList(\n",
      "          (0): Conv1d(32, 32, kernel_size=(39,), stride=(1,), padding=(19,))\n",
      "          (1): Conv1d(32, 32, kernel_size=(19,), stride=(1,), padding=(9,))\n",
      "          (2): Conv1d(32, 32, kernel_size=(9,), stride=(1,), padding=(4,))\n",
      "        )\n",
      "        (maxpool): MaxPool1d(kernel_size=3, stride=1, padding=1, dilation=1, ceil_mode=False)\n",
      "        (conv): Conv1d(128, 32, kernel_size=(1,), stride=(1,))\n",
      "        (bn): BatchNorm1d(128, eps=1e-05, momentum=0.1, affine=True, track_running_stats=True)\n",
      "        (act): ReLU()\n",
      "      )\n",
      "    )\n",
      "    (res_layers): ModuleList(\n",
      "      (0): None\n",
      "      (1): None\n",
      "      (2): Sequential(\n",
      "        (0): Conv1d(1, 128, kernel_size=(1,), stride=(1,))\n",
      "        (1): BatchNorm1d(128, eps=1e-05, momentum=0.1, affine=True, track_running_stats=True)\n",
      "      )\n",
      "      (3): None\n",
      "      (4): None\n",
      "      (5): Sequential(\n",
      "        (0): Conv1d(128, 128, kernel_size=(1,), stride=(1,))\n",
      "        (1): BatchNorm1d(128, eps=1e-05, momentum=0.1, affine=True, track_running_stats=True)\n",
      "      )\n",
      "    )\n",
      "    (act): ReLU()\n",
      "  )\n",
      "  (gap): AdaptiveAvgPool1d(output_size=1)\n",
      "  (fc): Linear(in_features=128, out_features=1, bias=True)\n",
      ")\n",
      "InceptionTime\n",
      "======================================================================\n",
      "Layer (type)         Output Shape         Param #    Trainable \n",
      "======================================================================\n",
      "Conv1d               [32, 10]             1,280      True      \n",
      "______________________________________________________________________\n",
      "Conv1d               [32, 10]             640        True      \n",
      "______________________________________________________________________\n",
      "Conv1d               [32, 10]             320        True      \n",
      "______________________________________________________________________\n",
      "MaxPool1d            [1, 10]              0          False     \n",
      "______________________________________________________________________\n",
      "Conv1d               [32, 10]             64         True      \n",
      "______________________________________________________________________\n",
      "BatchNorm1d          [128, 10]            256        True      \n",
      "______________________________________________________________________\n",
      "ReLU                 [128, 10]            0          False     \n",
      "______________________________________________________________________\n",
      "Conv1d               [32, 10]             4,128      True      \n",
      "______________________________________________________________________\n",
      "Conv1d               [32, 10]             39,968     True      \n",
      "______________________________________________________________________\n",
      "Conv1d               [32, 10]             19,488     True      \n",
      "______________________________________________________________________\n",
      "Conv1d               [32, 10]             9,248      True      \n",
      "______________________________________________________________________\n",
      "MaxPool1d            [128, 10]            0          False     \n",
      "______________________________________________________________________\n",
      "Conv1d               [32, 10]             4,128      True      \n",
      "______________________________________________________________________\n",
      "BatchNorm1d          [128, 10]            256        True      \n",
      "______________________________________________________________________\n",
      "ReLU                 [128, 10]            0          False     \n",
      "______________________________________________________________________\n",
      "Conv1d               [32, 10]             4,128      True      \n",
      "______________________________________________________________________\n",
      "Conv1d               [32, 10]             39,968     True      \n",
      "______________________________________________________________________\n",
      "Conv1d               [32, 10]             19,488     True      \n",
      "______________________________________________________________________\n",
      "Conv1d               [32, 10]             9,248      True      \n",
      "______________________________________________________________________\n",
      "MaxPool1d            [128, 10]            0          False     \n",
      "______________________________________________________________________\n",
      "Conv1d               [32, 10]             4,128      True      \n",
      "______________________________________________________________________\n",
      "BatchNorm1d          [128, 10]            256        True      \n",
      "______________________________________________________________________\n",
      "ReLU                 [128, 10]            0          False     \n",
      "______________________________________________________________________\n",
      "Conv1d               [32, 10]             4,128      True      \n",
      "______________________________________________________________________\n",
      "Conv1d               [32, 10]             39,968     True      \n",
      "______________________________________________________________________\n",
      "Conv1d               [32, 10]             19,488     True      \n",
      "______________________________________________________________________\n",
      "Conv1d               [32, 10]             9,248      True      \n",
      "______________________________________________________________________\n",
      "MaxPool1d            [128, 10]            0          False     \n",
      "______________________________________________________________________\n",
      "Conv1d               [32, 10]             4,128      True      \n",
      "______________________________________________________________________\n",
      "BatchNorm1d          [128, 10]            256        True      \n",
      "______________________________________________________________________\n",
      "ReLU                 [128, 10]            0          False     \n",
      "______________________________________________________________________\n",
      "Conv1d               [32, 10]             4,128      True      \n",
      "______________________________________________________________________\n",
      "Conv1d               [32, 10]             39,968     True      \n",
      "______________________________________________________________________\n",
      "Conv1d               [32, 10]             19,488     True      \n",
      "______________________________________________________________________\n",
      "Conv1d               [32, 10]             9,248      True      \n",
      "______________________________________________________________________\n",
      "MaxPool1d            [128, 10]            0          False     \n",
      "______________________________________________________________________\n",
      "Conv1d               [32, 10]             4,128      True      \n",
      "______________________________________________________________________\n",
      "BatchNorm1d          [128, 10]            256        True      \n",
      "______________________________________________________________________\n",
      "ReLU                 [128, 10]            0          False     \n",
      "______________________________________________________________________\n",
      "Conv1d               [32, 10]             4,128      True      \n",
      "______________________________________________________________________\n",
      "Conv1d               [32, 10]             39,968     True      \n",
      "______________________________________________________________________\n",
      "Conv1d               [32, 10]             19,488     True      \n",
      "______________________________________________________________________\n",
      "Conv1d               [32, 10]             9,248      True      \n",
      "______________________________________________________________________\n",
      "MaxPool1d            [128, 10]            0          False     \n",
      "______________________________________________________________________\n",
      "Conv1d               [32, 10]             4,128      True      \n",
      "______________________________________________________________________\n",
      "BatchNorm1d          [128, 10]            256        True      \n",
      "______________________________________________________________________\n",
      "ReLU                 [128, 10]            0          False     \n",
      "______________________________________________________________________\n",
      "Conv1d               [128, 10]            256        True      \n",
      "______________________________________________________________________\n",
      "BatchNorm1d          [128, 10]            256        True      \n",
      "______________________________________________________________________\n",
      "Conv1d               [128, 10]            16,512     True      \n",
      "______________________________________________________________________\n",
      "BatchNorm1d          [128, 10]            256        True      \n",
      "______________________________________________________________________\n",
      "ReLU                 [128, 10]            0          False     \n",
      "______________________________________________________________________\n",
      "AdaptiveAvgPool1d    [128, 1]             0          False     \n",
      "______________________________________________________________________\n",
      "Linear               [1]                  129        True      \n",
      "______________________________________________________________________\n",
      "\n",
      "Total params: 406,049\n",
      "Total trainable params: 406,049\n",
      "Total non-trainable params: 0\n",
      "Optimized with 92695a7b8\n",
      "Using true weight decay as discussed in https://www.fast.ai/2018/07/02/adam-weight-decay/ \n",
      "Loss function : FlattenedLoss\n",
      "======================================================================\n",
      "Callbacks functions applied \n",
      "\n"
     ]
    }
   ],
   "source": [
    "model = arch(db.features, 1, **arch_kwargs).to(device) # c_out must be 1 for regression\n",
    "learn = Learner(db, model, opt_func=opt_func, loss_func=loss_func)\n",
    "learn.save('stage_0')\n",
    "print(learn.model)\n",
    "print(learn.summary())"
   ]
  },
  {
   "cell_type": "code",
   "execution_count": 64,
   "metadata": {
    "scrolled": false
   },
   "outputs": [
    {
     "data": {
      "text/html": [],
      "text/plain": [
       "<IPython.core.display.HTML object>"
      ]
     },
     "metadata": {},
     "output_type": "display_data"
    },
    {
     "name": "stdout",
     "output_type": "stream",
     "text": [
      "LR Finder is complete, type {learner_name}.recorder.plot() to see the graph.\n",
      "Min numerical gradient: 1.91E-06\n",
      "Min loss divided by 10: 3.31E-01\n"
     ]
    },
    {
     "data": {
      "image/png": "[encoded data removed]",
      "text/plain": [
       "<Figure size 432x288 with 1 Axes>"
      ]
     },
     "metadata": {
      "needs_background": "light"
     },
     "output_type": "display_data"
    }
   ],
   "source": [
    "learn.load('stage_0')\n",
    "learn.lr_find()\n",
    "learn.recorder.plot(suggestion=True)"
   ]
  },
  {
   "cell_type": "code",
   "execution_count": 65,
   "metadata": {},
   "outputs": [],
   "source": [
    "epochs = 25         # ✳️ \n",
    "max_lr = 1e-1        # ✳️ \n",
    "warmup = False       # ✳️\n",
    "pct_start = .7       # ✳️\n",
    "metrics = [mean_absolute_error] # ✳️\n",
    "wd = 1e-2"
   ]
  },
  {
   "cell_type": "code",
   "execution_count": 66,
   "metadata": {},
   "outputs": [
    {
     "data": {
      "text/html": [
       "<table border=\"1\" class=\"dataframe\">\n",
       "  <thead>\n",
       "    <tr style=\"text-align: left;\">\n",
       "      <th>epoch</th>\n",
       "      <th>train_loss</th>\n",
       "      <th>valid_loss</th>\n",
       "      <th>mean_absolute_error</th>\n",
       "      <th>time</th>\n",
       "    </tr>\n",
       "  </thead>\n",
       "  <tbody>\n",
       "    <tr>\n",
       "      <td>0</td>\n",
       "      <td>6.122210</td>\n",
       "      <td>6.332006</td>\n",
       "      <td>6.333297</td>\n",
       "      <td>00:32</td>\n",
       "    </tr>\n",
       "    <tr>\n",
       "      <td>1</td>\n",
       "      <td>6.099464</td>\n",
       "      <td>6.480971</td>\n",
       "      <td>6.485870</td>\n",
       "      <td>00:32</td>\n",
       "    </tr>\n",
       "    <tr>\n",
       "      <td>2</td>\n",
       "      <td>6.099688</td>\n",
       "      <td>6.294734</td>\n",
       "      <td>6.286690</td>\n",
       "      <td>00:32</td>\n",
       "    </tr>\n",
       "    <tr>\n",
       "      <td>3</td>\n",
       "      <td>6.223199</td>\n",
       "      <td>6.322987</td>\n",
       "      <td>6.291809</td>\n",
       "      <td>00:32</td>\n",
       "    </tr>\n",
       "    <tr>\n",
       "      <td>4</td>\n",
       "      <td>6.081867</td>\n",
       "      <td>6.277673</td>\n",
       "      <td>6.255686</td>\n",
       "      <td>00:33</td>\n",
       "    </tr>\n",
       "    <tr>\n",
       "      <td>5</td>\n",
       "      <td>6.196229</td>\n",
       "      <td>6.294348</td>\n",
       "      <td>6.298598</td>\n",
       "      <td>00:33</td>\n",
       "    </tr>\n",
       "    <tr>\n",
       "      <td>6</td>\n",
       "      <td>6.193324</td>\n",
       "      <td>6.327833</td>\n",
       "      <td>6.332403</td>\n",
       "      <td>00:33</td>\n",
       "    </tr>\n",
       "    <tr>\n",
       "      <td>7</td>\n",
       "      <td>6.192964</td>\n",
       "      <td>6.303276</td>\n",
       "      <td>6.297862</td>\n",
       "      <td>00:33</td>\n",
       "    </tr>\n",
       "    <tr>\n",
       "      <td>8</td>\n",
       "      <td>6.150563</td>\n",
       "      <td>6.273915</td>\n",
       "      <td>6.203588</td>\n",
       "      <td>00:33</td>\n",
       "    </tr>\n",
       "    <tr>\n",
       "      <td>9</td>\n",
       "      <td>6.220777</td>\n",
       "      <td>6.305011</td>\n",
       "      <td>6.304469</td>\n",
       "      <td>00:32</td>\n",
       "    </tr>\n",
       "    <tr>\n",
       "      <td>10</td>\n",
       "      <td>6.135925</td>\n",
       "      <td>6.276954</td>\n",
       "      <td>6.277526</td>\n",
       "      <td>00:33</td>\n",
       "    </tr>\n",
       "    <tr>\n",
       "      <td>11</td>\n",
       "      <td>6.050456</td>\n",
       "      <td>6.274265</td>\n",
       "      <td>6.267895</td>\n",
       "      <td>00:33</td>\n",
       "    </tr>\n",
       "    <tr>\n",
       "      <td>12</td>\n",
       "      <td>6.105549</td>\n",
       "      <td>6.342024</td>\n",
       "      <td>6.431219</td>\n",
       "      <td>00:33</td>\n",
       "    </tr>\n",
       "    <tr>\n",
       "      <td>13</td>\n",
       "      <td>6.133523</td>\n",
       "      <td>6.332522</td>\n",
       "      <td>6.376991</td>\n",
       "      <td>00:33</td>\n",
       "    </tr>\n",
       "    <tr>\n",
       "      <td>14</td>\n",
       "      <td>6.074009</td>\n",
       "      <td>6.305774</td>\n",
       "      <td>6.304619</td>\n",
       "      <td>00:33</td>\n",
       "    </tr>\n",
       "    <tr>\n",
       "      <td>15</td>\n",
       "      <td>6.133453</td>\n",
       "      <td>6.429334</td>\n",
       "      <td>6.459049</td>\n",
       "      <td>00:33</td>\n",
       "    </tr>\n",
       "    <tr>\n",
       "      <td>16</td>\n",
       "      <td>6.184906</td>\n",
       "      <td>6.251750</td>\n",
       "      <td>6.197723</td>\n",
       "      <td>00:33</td>\n",
       "    </tr>\n",
       "    <tr>\n",
       "      <td>17</td>\n",
       "      <td>6.119113</td>\n",
       "      <td>6.320592</td>\n",
       "      <td>6.384859</td>\n",
       "      <td>00:33</td>\n",
       "    </tr>\n",
       "    <tr>\n",
       "      <td>18</td>\n",
       "      <td>6.244925</td>\n",
       "      <td>6.265233</td>\n",
       "      <td>6.227043</td>\n",
       "      <td>00:33</td>\n",
       "    </tr>\n",
       "    <tr>\n",
       "      <td>19</td>\n",
       "      <td>6.113158</td>\n",
       "      <td>6.275912</td>\n",
       "      <td>6.272141</td>\n",
       "      <td>00:32</td>\n",
       "    </tr>\n",
       "    <tr>\n",
       "      <td>20</td>\n",
       "      <td>6.124684</td>\n",
       "      <td>6.238652</td>\n",
       "      <td>6.159026</td>\n",
       "      <td>00:32</td>\n",
       "    </tr>\n",
       "    <tr>\n",
       "      <td>21</td>\n",
       "      <td>6.251988</td>\n",
       "      <td>6.303951</td>\n",
       "      <td>6.336017</td>\n",
       "      <td>00:33</td>\n",
       "    </tr>\n",
       "    <tr>\n",
       "      <td>22</td>\n",
       "      <td>6.166596</td>\n",
       "      <td>6.312424</td>\n",
       "      <td>6.337815</td>\n",
       "      <td>00:33</td>\n",
       "    </tr>\n",
       "    <tr>\n",
       "      <td>23</td>\n",
       "      <td>6.117054</td>\n",
       "      <td>6.298711</td>\n",
       "      <td>6.321068</td>\n",
       "      <td>00:33</td>\n",
       "    </tr>\n",
       "    <tr>\n",
       "      <td>24</td>\n",
       "      <td>6.132538</td>\n",
       "      <td>6.301471</td>\n",
       "      <td>6.310572</td>\n",
       "      <td>00:33</td>\n",
       "    </tr>\n",
       "  </tbody>\n",
       "</table>"
      ],
      "text/plain": [
       "<IPython.core.display.HTML object>"
      ]
     },
     "metadata": {},
     "output_type": "display_data"
    },
    {
     "data": {
      "image/png": "[encoded data removed]",
      "text/plain": [
       "<Figure size 432x288 with 1 Axes>"
      ]
     },
     "metadata": {
      "needs_background": "light"
     },
     "output_type": "display_data"
    },
    {
     "data": {
      "image/png": "[encoded data removed]",
      "text/plain": [
       "<Figure size 432x288 with 1 Axes>"
      ]
     },
     "metadata": {
      "needs_background": "light"
     },
     "output_type": "display_data"
    },
    {
     "data": {
      "image/png": "[encoded data removed]",
      "text/plain": [
       "<Figure size 432x288 with 1 Axes>"
      ]
     },
     "metadata": {
      "needs_background": "light"
     },
     "output_type": "display_data"
    }
   ],
   "source": [
    "learn.metrics = metrics\n",
    "learn.load('stage_0')\n",
    "learn.fit_one_cycle(epochs, max_lr=max_lr, pct_start=pct_start, moms=(.95, .85) if warmup else (.95, .95),\n",
    "                    div_factor=25.0 if warmup else 1., wd=wd)\n",
    "learn.save('stage_1')\n",
    "learn.recorder.plot_lr()\n",
    "learn.recorder.plot_losses()\n",
    "learn.recorder.plot_metrics()"
   ]
  },
  {
   "cell_type": "code",
   "execution_count": 67,
   "metadata": {},
   "outputs": [],
   "source": [
    "test_data = TimeSeriesList(X_test)\n",
    "db.add_test(test_data)"
   ]
  },
  {
   "cell_type": "code",
   "execution_count": 68,
   "metadata": {},
   "outputs": [],
   "source": [
    "preds, _ = learn.get_preds(DatasetType.Test)"
   ]
  },
  {
   "cell_type": "code",
   "execution_count": 71,
   "metadata": {
    "scrolled": true
   },
   "outputs": [
    {
     "data": {
      "text/plain": [
       "tensor(6.4602)"
      ]
     },
     "execution_count": 71,
     "metadata": {},
     "output_type": "execute_result"
    }
   ],
   "source": [
    "mae(preds,torch.tensor(y_test))"
   ]
  },
  {
   "cell_type": "markdown",
   "metadata": {},
   "source": [
    "The model seems to train as intended, but doesn't learn anything useful. In fact, it performs much worse than a simple average over all the points in a sequence. I could see why it wouldn't be able to BEAT an average - maybe there's just not much predictive value in the sequence - but it's weird that it does so much WORSE."
   ]
  },
  {
   "cell_type": "code",
   "execution_count": 72,
   "metadata": {},
   "outputs": [
    {
     "data": {
      "text/plain": [
       "tensor([[9.1175],\n",
       "        [8.8943],\n",
       "        [8.9365],\n",
       "        [9.3123],\n",
       "        [9.3003],\n",
       "        [8.8859],\n",
       "        [8.7192],\n",
       "        [8.8442],\n",
       "        [8.7674],\n",
       "        [8.8648]])"
      ]
     },
     "execution_count": 72,
     "metadata": {},
     "output_type": "execute_result"
    }
   ],
   "source": [
    "preds[:10]"
   ]
  },
  {
   "cell_type": "code",
   "execution_count": 73,
   "metadata": {},
   "outputs": [
    {
     "data": {
      "text/plain": [
       "array([ 4., 21., 27., 14., 21., 10., 20., 15., 14., 21.], dtype=float32)"
      ]
     },
     "execution_count": 73,
     "metadata": {},
     "output_type": "execute_result"
    }
   ],
   "source": [
    "y_test[:10]"
   ]
  },
  {
   "cell_type": "markdown",
   "metadata": {},
   "source": [
    "So the model is predicting nearly the same thing every time, while the actual targets have a lot of variance."
   ]
  },
  {
   "cell_type": "markdown",
   "metadata": {},
   "source": [
    "Trying to overfit with a very small subset of the data, to see if the model is capable of just memorizing the patterns."
   ]
  },
  {
   "cell_type": "code",
   "execution_count": 74,
   "metadata": {},
   "outputs": [],
   "source": [
    "X_small = X_train[:10,:,:]\n",
    "y_small = y_train[:10]"
   ]
  },
  {
   "cell_type": "code",
   "execution_count": 75,
   "metadata": {},
   "outputs": [
    {
     "data": {
      "text/plain": [
       "TSDataBunch;\n",
       "\n",
       "Train: LabelList (10 items)\n",
       "x: TimeSeriesList\n",
       "TimeSeries(ch=1, seq_len=10),TimeSeries(ch=1, seq_len=10),TimeSeries(ch=1, seq_len=10),TimeSeries(ch=1, seq_len=10),TimeSeries(ch=1, seq_len=10)\n",
       "y: FloatList\n",
       "0.0,9.0,2.0,9.0,8.0\n",
       "Path: .;\n",
       "\n",
       "Valid: LabelList (10 items)\n",
       "x: TimeSeriesList\n",
       "TimeSeries(ch=1, seq_len=10),TimeSeries(ch=1, seq_len=10),TimeSeries(ch=1, seq_len=10),TimeSeries(ch=1, seq_len=10),TimeSeries(ch=1, seq_len=10)\n",
       "y: FloatList\n",
       "0.0,9.0,2.0,9.0,8.0\n",
       "Path: .;\n",
       "\n",
       "Test: None"
      ]
     },
     "execution_count": 75,
     "metadata": {},
     "output_type": "execute_result"
    }
   ],
   "source": [
    "db = (ItemLists('.', TimeSeriesList(X_small), TimeSeriesList(X_small))\n",
    "      .label_from_lists(y_small, y_small)\n",
    "      .databunch(bs=min(bs, len(X_small)), val_bs=min(len(X_small), bs * 2), num_workers=cpus, device=device)\n",
    "      .scale(scale_type=scale_type, scale_subtype=scale_subtype, scale_range=scale_range)\n",
    "     )\n",
    "db"
   ]
  },
  {
   "cell_type": "code",
   "execution_count": 76,
   "metadata": {
    "scrolled": true
   },
   "outputs": [
    {
     "data": {
      "image/png": "[encoded data removed]",
      "text/plain": [
       "<Figure size 720x720 with 9 Axes>"
      ]
     },
     "metadata": {},
     "output_type": "display_data"
    }
   ],
   "source": [
    "db.show_batch()"
   ]
  },
  {
   "cell_type": "code",
   "execution_count": 77,
   "metadata": {},
   "outputs": [],
   "source": [
    "from torchtimeseries.models import *\n",
    "# Select one arch from these state-of-the-art time series/ 1D models:\n",
    "# ResCNN, FCN, InceptionTime, ResNet\n",
    "arch = InceptionTime                     # ✳️   \n",
    "arch_kwargs = dict()                     # ✳️ \n",
    "opt_func=Ranger                          # ✳️ a state-of-the-art optimizer\n",
    "loss_func = FlattenedLoss(nn.L1Loss)     # ✳️ this is MAE loss"
   ]
  },
  {
   "cell_type": "code",
   "execution_count": 78,
   "metadata": {},
   "outputs": [
    {
     "name": "stdout",
     "output_type": "stream",
     "text": [
      "InceptionTime(\n",
      "  (block): InceptionBlock(\n",
      "    (inc_mods): ModuleList(\n",
      "      (0): Inception(\n",
      "        (conv_layers): ModuleList(\n",
      "          (0): Conv1d(1, 32, kernel_size=(39,), stride=(1,), padding=(19,))\n",
      "          (1): Conv1d(1, 32, kernel_size=(19,), stride=(1,), padding=(9,))\n",
      "          (2): Conv1d(1, 32, kernel_size=(9,), stride=(1,), padding=(4,))\n",
      "        )\n",
      "        (maxpool): MaxPool1d(kernel_size=3, stride=1, padding=1, dilation=1, ceil_mode=False)\n",
      "        (conv): Conv1d(1, 32, kernel_size=(1,), stride=(1,))\n",
      "        (bn): BatchNorm1d(128, eps=1e-05, momentum=0.1, affine=True, track_running_stats=True)\n",
      "        (act): ReLU()\n",
      "      )\n",
      "      (1): Inception(\n",
      "        (bottleneck): Conv1d(128, 32, kernel_size=(1,), stride=(1,))\n",
      "        (conv_layers): ModuleList(\n",
      "          (0): Conv1d(32, 32, kernel_size=(39,), stride=(1,), padding=(19,))\n",
      "          (1): Conv1d(32, 32, kernel_size=(19,), stride=(1,), padding=(9,))\n",
      "          (2): Conv1d(32, 32, kernel_size=(9,), stride=(1,), padding=(4,))\n",
      "        )\n",
      "        (maxpool): MaxPool1d(kernel_size=3, stride=1, padding=1, dilation=1, ceil_mode=False)\n",
      "        (conv): Conv1d(128, 32, kernel_size=(1,), stride=(1,))\n",
      "        (bn): BatchNorm1d(128, eps=1e-05, momentum=0.1, affine=True, track_running_stats=True)\n",
      "        (act): ReLU()\n",
      "      )\n",
      "      (2): Inception(\n",
      "        (bottleneck): Conv1d(128, 32, kernel_size=(1,), stride=(1,))\n",
      "        (conv_layers): ModuleList(\n",
      "          (0): Conv1d(32, 32, kernel_size=(39,), stride=(1,), padding=(19,))\n",
      "          (1): Conv1d(32, 32, kernel_size=(19,), stride=(1,), padding=(9,))\n",
      "          (2): Conv1d(32, 32, kernel_size=(9,), stride=(1,), padding=(4,))\n",
      "        )\n",
      "        (maxpool): MaxPool1d(kernel_size=3, stride=1, padding=1, dilation=1, ceil_mode=False)\n",
      "        (conv): Conv1d(128, 32, kernel_size=(1,), stride=(1,))\n",
      "        (bn): BatchNorm1d(128, eps=1e-05, momentum=0.1, affine=True, track_running_stats=True)\n",
      "        (act): ReLU()\n",
      "      )\n",
      "      (3): Inception(\n",
      "        (bottleneck): Conv1d(128, 32, kernel_size=(1,), stride=(1,))\n",
      "        (conv_layers): ModuleList(\n",
      "          (0): Conv1d(32, 32, kernel_size=(39,), stride=(1,), padding=(19,))\n",
      "          (1): Conv1d(32, 32, kernel_size=(19,), stride=(1,), padding=(9,))\n",
      "          (2): Conv1d(32, 32, kernel_size=(9,), stride=(1,), padding=(4,))\n",
      "        )\n",
      "        (maxpool): MaxPool1d(kernel_size=3, stride=1, padding=1, dilation=1, ceil_mode=False)\n",
      "        (conv): Conv1d(128, 32, kernel_size=(1,), stride=(1,))\n",
      "        (bn): BatchNorm1d(128, eps=1e-05, momentum=0.1, affine=True, track_running_stats=True)\n",
      "        (act): ReLU()\n",
      "      )\n",
      "      (4): Inception(\n",
      "        (bottleneck): Conv1d(128, 32, kernel_size=(1,), stride=(1,))\n",
      "        (conv_layers): ModuleList(\n",
      "          (0): Conv1d(32, 32, kernel_size=(39,), stride=(1,), padding=(19,))\n",
      "          (1): Conv1d(32, 32, kernel_size=(19,), stride=(1,), padding=(9,))\n",
      "          (2): Conv1d(32, 32, kernel_size=(9,), stride=(1,), padding=(4,))\n",
      "        )\n",
      "        (maxpool): MaxPool1d(kernel_size=3, stride=1, padding=1, dilation=1, ceil_mode=False)\n",
      "        (conv): Conv1d(128, 32, kernel_size=(1,), stride=(1,))\n",
      "        (bn): BatchNorm1d(128, eps=1e-05, momentum=0.1, affine=True, track_running_stats=True)\n",
      "        (act): ReLU()\n",
      "      )\n",
      "      (5): Inception(\n",
      "        (bottleneck): Conv1d(128, 32, kernel_size=(1,), stride=(1,))\n",
      "        (conv_layers): ModuleList(\n",
      "          (0): Conv1d(32, 32, kernel_size=(39,), stride=(1,), padding=(19,))\n",
      "          (1): Conv1d(32, 32, kernel_size=(19,), stride=(1,), padding=(9,))\n",
      "          (2): Conv1d(32, 32, kernel_size=(9,), stride=(1,), padding=(4,))\n",
      "        )\n",
      "        (maxpool): MaxPool1d(kernel_size=3, stride=1, padding=1, dilation=1, ceil_mode=False)\n",
      "        (conv): Conv1d(128, 32, kernel_size=(1,), stride=(1,))\n",
      "        (bn): BatchNorm1d(128, eps=1e-05, momentum=0.1, affine=True, track_running_stats=True)\n",
      "        (act): ReLU()\n",
      "      )\n",
      "    )\n",
      "    (res_layers): ModuleList(\n",
      "      (0): None\n",
      "      (1): None\n",
      "      (2): Sequential(\n",
      "        (0): Conv1d(1, 128, kernel_size=(1,), stride=(1,))\n",
      "        (1): BatchNorm1d(128, eps=1e-05, momentum=0.1, affine=True, track_running_stats=True)\n",
      "      )\n",
      "      (3): None\n",
      "      (4): None\n",
      "      (5): Sequential(\n",
      "        (0): Conv1d(128, 128, kernel_size=(1,), stride=(1,))\n",
      "        (1): BatchNorm1d(128, eps=1e-05, momentum=0.1, affine=True, track_running_stats=True)\n",
      "      )\n",
      "    )\n",
      "    (act): ReLU()\n",
      "  )\n",
      "  (gap): AdaptiveAvgPool1d(output_size=1)\n",
      "  (fc): Linear(in_features=128, out_features=1, bias=True)\n",
      ")\n",
      "InceptionTime\n",
      "======================================================================\n",
      "Layer (type)         Output Shape         Param #    Trainable \n",
      "======================================================================\n",
      "Conv1d               [32, 10]             1,280      True      \n",
      "______________________________________________________________________\n",
      "Conv1d               [32, 10]             640        True      \n",
      "______________________________________________________________________\n",
      "Conv1d               [32, 10]             320        True      \n",
      "______________________________________________________________________\n",
      "MaxPool1d            [1, 10]              0          False     \n",
      "______________________________________________________________________\n",
      "Conv1d               [32, 10]             64         True      \n",
      "______________________________________________________________________\n",
      "BatchNorm1d          [128, 10]            256        True      \n",
      "______________________________________________________________________\n",
      "ReLU                 [128, 10]            0          False     \n",
      "______________________________________________________________________\n",
      "Conv1d               [32, 10]             4,128      True      \n",
      "______________________________________________________________________\n",
      "Conv1d               [32, 10]             39,968     True      \n",
      "______________________________________________________________________\n",
      "Conv1d               [32, 10]             19,488     True      \n",
      "______________________________________________________________________\n",
      "Conv1d               [32, 10]             9,248      True      \n",
      "______________________________________________________________________\n",
      "MaxPool1d            [128, 10]            0          False     \n",
      "______________________________________________________________________\n",
      "Conv1d               [32, 10]             4,128      True      \n",
      "______________________________________________________________________\n",
      "BatchNorm1d          [128, 10]            256        True      \n",
      "______________________________________________________________________\n",
      "ReLU                 [128, 10]            0          False     \n",
      "______________________________________________________________________\n",
      "Conv1d               [32, 10]             4,128      True      \n",
      "______________________________________________________________________\n",
      "Conv1d               [32, 10]             39,968     True      \n",
      "______________________________________________________________________\n",
      "Conv1d               [32, 10]             19,488     True      \n",
      "______________________________________________________________________\n",
      "Conv1d               [32, 10]             9,248      True      \n",
      "______________________________________________________________________\n",
      "MaxPool1d            [128, 10]            0          False     \n",
      "______________________________________________________________________\n",
      "Conv1d               [32, 10]             4,128      True      \n",
      "______________________________________________________________________\n",
      "BatchNorm1d          [128, 10]            256        True      \n",
      "______________________________________________________________________\n",
      "ReLU                 [128, 10]            0          False     \n",
      "______________________________________________________________________\n",
      "Conv1d               [32, 10]             4,128      True      \n",
      "______________________________________________________________________\n",
      "Conv1d               [32, 10]             39,968     True      \n",
      "______________________________________________________________________\n",
      "Conv1d               [32, 10]             19,488     True      \n",
      "______________________________________________________________________\n",
      "Conv1d               [32, 10]             9,248      True      \n",
      "______________________________________________________________________\n",
      "MaxPool1d            [128, 10]            0          False     \n",
      "______________________________________________________________________\n",
      "Conv1d               [32, 10]             4,128      True      \n",
      "______________________________________________________________________\n",
      "BatchNorm1d          [128, 10]            256        True      \n",
      "______________________________________________________________________\n",
      "ReLU                 [128, 10]            0          False     \n",
      "______________________________________________________________________\n",
      "Conv1d               [32, 10]             4,128      True      \n",
      "______________________________________________________________________\n",
      "Conv1d               [32, 10]             39,968     True      \n",
      "______________________________________________________________________\n",
      "Conv1d               [32, 10]             19,488     True      \n",
      "______________________________________________________________________\n",
      "Conv1d               [32, 10]             9,248      True      \n",
      "______________________________________________________________________\n",
      "MaxPool1d            [128, 10]            0          False     \n",
      "______________________________________________________________________\n",
      "Conv1d               [32, 10]             4,128      True      \n",
      "______________________________________________________________________\n",
      "BatchNorm1d          [128, 10]            256        True      \n",
      "______________________________________________________________________\n",
      "ReLU                 [128, 10]            0          False     \n",
      "______________________________________________________________________\n",
      "Conv1d               [32, 10]             4,128      True      \n",
      "______________________________________________________________________\n",
      "Conv1d               [32, 10]             39,968     True      \n",
      "______________________________________________________________________\n",
      "Conv1d               [32, 10]             19,488     True      \n",
      "______________________________________________________________________\n",
      "Conv1d               [32, 10]             9,248      True      \n",
      "______________________________________________________________________\n",
      "MaxPool1d            [128, 10]            0          False     \n",
      "______________________________________________________________________\n",
      "Conv1d               [32, 10]             4,128      True      \n",
      "______________________________________________________________________\n",
      "BatchNorm1d          [128, 10]            256        True      \n",
      "______________________________________________________________________\n",
      "ReLU                 [128, 10]            0          False     \n",
      "______________________________________________________________________\n",
      "Conv1d               [128, 10]            256        True      \n",
      "______________________________________________________________________\n",
      "BatchNorm1d          [128, 10]            256        True      \n",
      "______________________________________________________________________\n",
      "Conv1d               [128, 10]            16,512     True      \n",
      "______________________________________________________________________\n",
      "BatchNorm1d          [128, 10]            256        True      \n",
      "______________________________________________________________________\n",
      "ReLU                 [128, 10]            0          False     \n",
      "______________________________________________________________________\n",
      "AdaptiveAvgPool1d    [128, 1]             0          False     \n",
      "______________________________________________________________________\n",
      "Linear               [1]                  129        True      \n",
      "______________________________________________________________________\n",
      "\n",
      "Total params: 406,049\n",
      "Total trainable params: 406,049\n",
      "Total non-trainable params: 0\n",
      "Optimized with 92695a7b8\n",
      "Using true weight decay as discussed in https://www.fast.ai/2018/07/02/adam-weight-decay/ \n",
      "Loss function : FlattenedLoss\n",
      "======================================================================\n",
      "Callbacks functions applied \n",
      "\n"
     ]
    }
   ],
   "source": [
    "model = arch(db.features, 1, **arch_kwargs).to(device) # c_out must be 1 for regression\n",
    "learn = Learner(db, model, opt_func=opt_func, loss_func=loss_func)\n",
    "learn.save('stage_0')\n",
    "print(learn.model)\n",
    "print(learn.summary())"
   ]
  },
  {
   "cell_type": "code",
   "execution_count": 79,
   "metadata": {
    "scrolled": false
   },
   "outputs": [
    {
     "data": {
      "text/html": [],
      "text/plain": [
       "<IPython.core.display.HTML object>"
      ]
     },
     "metadata": {},
     "output_type": "display_data"
    },
    {
     "name": "stdout",
     "output_type": "stream",
     "text": [
      "LR Finder is complete, type {learner_name}.recorder.plot() to see the graph.\n",
      "Min numerical gradient: 1.74E-01\n",
      "Min loss divided by 10: 3.31E-01\n"
     ]
    },
    {
     "data": {
      "image/png": "[encoded data removed]",
      "text/plain": [
       "<Figure size 432x288 with 1 Axes>"
      ]
     },
     "metadata": {
      "needs_background": "light"
     },
     "output_type": "display_data"
    }
   ],
   "source": [
    "learn.load('stage_0')\n",
    "learn.lr_find()\n",
    "learn.recorder.plot(suggestion=True)"
   ]
  },
  {
   "cell_type": "code",
   "execution_count": 80,
   "metadata": {},
   "outputs": [],
   "source": [
    "epochs = 25         # ✳️ \n",
    "max_lr = 1e-1        # ✳️ \n",
    "warmup = False       # ✳️\n",
    "pct_start = .7       # ✳️\n",
    "metrics = [mean_absolute_error] # ✳️\n",
    "wd = 1e-2"
   ]
  },
  {
   "cell_type": "code",
   "execution_count": 81,
   "metadata": {},
   "outputs": [
    {
     "data": {
      "text/html": [
       "<table border=\"1\" class=\"dataframe\">\n",
       "  <thead>\n",
       "    <tr style=\"text-align: left;\">\n",
       "      <th>epoch</th>\n",
       "      <th>train_loss</th>\n",
       "      <th>valid_loss</th>\n",
       "      <th>mean_absolute_error</th>\n",
       "      <th>time</th>\n",
       "    </tr>\n",
       "  </thead>\n",
       "  <tbody>\n",
       "    <tr>\n",
       "      <td>0</td>\n",
       "      <td>8.241958</td>\n",
       "      <td>7.853509</td>\n",
       "      <td>7.854370</td>\n",
       "      <td>00:00</td>\n",
       "    </tr>\n",
       "    <tr>\n",
       "      <td>1</td>\n",
       "      <td>7.489723</td>\n",
       "      <td>7.580690</td>\n",
       "      <td>7.582139</td>\n",
       "      <td>00:00</td>\n",
       "    </tr>\n",
       "    <tr>\n",
       "      <td>2</td>\n",
       "      <td>6.972783</td>\n",
       "      <td>7.335127</td>\n",
       "      <td>7.336818</td>\n",
       "      <td>00:00</td>\n",
       "    </tr>\n",
       "    <tr>\n",
       "      <td>3</td>\n",
       "      <td>6.572676</td>\n",
       "      <td>7.087035</td>\n",
       "      <td>7.088806</td>\n",
       "      <td>00:00</td>\n",
       "    </tr>\n",
       "    <tr>\n",
       "      <td>4</td>\n",
       "      <td>6.233433</td>\n",
       "      <td>6.835031</td>\n",
       "      <td>6.836416</td>\n",
       "      <td>00:00</td>\n",
       "    </tr>\n",
       "    <tr>\n",
       "      <td>5</td>\n",
       "      <td>5.959407</td>\n",
       "      <td>6.741987</td>\n",
       "      <td>6.740504</td>\n",
       "      <td>00:00</td>\n",
       "    </tr>\n",
       "    <tr>\n",
       "      <td>6</td>\n",
       "      <td>5.755314</td>\n",
       "      <td>6.627546</td>\n",
       "      <td>6.627869</td>\n",
       "      <td>00:00</td>\n",
       "    </tr>\n",
       "    <tr>\n",
       "      <td>7</td>\n",
       "      <td>5.603128</td>\n",
       "      <td>6.478719</td>\n",
       "      <td>6.497616</td>\n",
       "      <td>00:00</td>\n",
       "    </tr>\n",
       "    <tr>\n",
       "      <td>8</td>\n",
       "      <td>5.475894</td>\n",
       "      <td>6.354661</td>\n",
       "      <td>6.393384</td>\n",
       "      <td>00:00</td>\n",
       "    </tr>\n",
       "    <tr>\n",
       "      <td>9</td>\n",
       "      <td>5.379145</td>\n",
       "      <td>6.393933</td>\n",
       "      <td>6.416293</td>\n",
       "      <td>00:00</td>\n",
       "    </tr>\n",
       "    <tr>\n",
       "      <td>10</td>\n",
       "      <td>5.292003</td>\n",
       "      <td>6.273191</td>\n",
       "      <td>6.292341</td>\n",
       "      <td>00:00</td>\n",
       "    </tr>\n",
       "    <tr>\n",
       "      <td>11</td>\n",
       "      <td>5.221508</td>\n",
       "      <td>6.126951</td>\n",
       "      <td>6.161241</td>\n",
       "      <td>00:00</td>\n",
       "    </tr>\n",
       "    <tr>\n",
       "      <td>12</td>\n",
       "      <td>5.161124</td>\n",
       "      <td>5.966456</td>\n",
       "      <td>6.029862</td>\n",
       "      <td>00:00</td>\n",
       "    </tr>\n",
       "    <tr>\n",
       "      <td>13</td>\n",
       "      <td>5.112274</td>\n",
       "      <td>5.779326</td>\n",
       "      <td>5.861611</td>\n",
       "      <td>00:00</td>\n",
       "    </tr>\n",
       "    <tr>\n",
       "      <td>14</td>\n",
       "      <td>5.067443</td>\n",
       "      <td>5.837413</td>\n",
       "      <td>5.888563</td>\n",
       "      <td>00:00</td>\n",
       "    </tr>\n",
       "    <tr>\n",
       "      <td>15</td>\n",
       "      <td>5.026354</td>\n",
       "      <td>5.663989</td>\n",
       "      <td>5.717026</td>\n",
       "      <td>00:00</td>\n",
       "    </tr>\n",
       "    <tr>\n",
       "      <td>16</td>\n",
       "      <td>4.991047</td>\n",
       "      <td>5.448196</td>\n",
       "      <td>5.517660</td>\n",
       "      <td>00:00</td>\n",
       "    </tr>\n",
       "    <tr>\n",
       "      <td>17</td>\n",
       "      <td>4.958901</td>\n",
       "      <td>5.192246</td>\n",
       "      <td>5.267992</td>\n",
       "      <td>00:00</td>\n",
       "    </tr>\n",
       "    <tr>\n",
       "      <td>18</td>\n",
       "      <td>4.930110</td>\n",
       "      <td>4.935892</td>\n",
       "      <td>5.081102</td>\n",
       "      <td>00:00</td>\n",
       "    </tr>\n",
       "    <tr>\n",
       "      <td>19</td>\n",
       "      <td>4.904392</td>\n",
       "      <td>5.186227</td>\n",
       "      <td>5.259577</td>\n",
       "      <td>00:00</td>\n",
       "    </tr>\n",
       "    <tr>\n",
       "      <td>20</td>\n",
       "      <td>4.881000</td>\n",
       "      <td>5.017474</td>\n",
       "      <td>5.102685</td>\n",
       "      <td>00:00</td>\n",
       "    </tr>\n",
       "    <tr>\n",
       "      <td>21</td>\n",
       "      <td>4.859765</td>\n",
       "      <td>4.889932</td>\n",
       "      <td>5.011947</td>\n",
       "      <td>00:00</td>\n",
       "    </tr>\n",
       "    <tr>\n",
       "      <td>22</td>\n",
       "      <td>4.840405</td>\n",
       "      <td>4.816056</td>\n",
       "      <td>4.939561</td>\n",
       "      <td>00:00</td>\n",
       "    </tr>\n",
       "    <tr>\n",
       "      <td>23</td>\n",
       "      <td>4.822685</td>\n",
       "      <td>4.777628</td>\n",
       "      <td>4.891876</td>\n",
       "      <td>00:00</td>\n",
       "    </tr>\n",
       "    <tr>\n",
       "      <td>24</td>\n",
       "      <td>4.806410</td>\n",
       "      <td>4.839561</td>\n",
       "      <td>4.962036</td>\n",
       "      <td>00:00</td>\n",
       "    </tr>\n",
       "  </tbody>\n",
       "</table>"
      ],
      "text/plain": [
       "<IPython.core.display.HTML object>"
      ]
     },
     "metadata": {},
     "output_type": "display_data"
    },
    {
     "data": {
      "image/png": "[encoded data removed]",
      "text/plain": [
       "<Figure size 432x288 with 1 Axes>"
      ]
     },
     "metadata": {
      "needs_background": "light"
     },
     "output_type": "display_data"
    },
    {
     "data": {
      "image/png": "[encoded data removed]",
      "text/plain": [
       "<Figure size 432x288 with 1 Axes>"
      ]
     },
     "metadata": {
      "needs_background": "light"
     },
     "output_type": "display_data"
    },
    {
     "data": {
      "image/png": "[encoded data removed]",
      "text/plain": [
       "<Figure size 432x288 with 1 Axes>"
      ]
     },
     "metadata": {
      "needs_background": "light"
     },
     "output_type": "display_data"
    }
   ],
   "source": [
    "learn.metrics = metrics\n",
    "learn.load('stage_0')\n",
    "learn.fit_one_cycle(epochs, max_lr=max_lr, pct_start=pct_start, moms=(.95, .85) if warmup else (.95, .95),\n",
    "                    div_factor=25.0 if warmup else 1., wd=wd)\n",
    "learn.save('stage_1')\n",
    "learn.recorder.plot_lr()\n",
    "learn.recorder.plot_losses()\n",
    "learn.recorder.plot_metrics()"
   ]
  },
  {
   "cell_type": "code",
   "execution_count": 46,
   "metadata": {},
   "outputs": [],
   "source": [
    "preds, actual = learn.get_preds()"
   ]
  },
  {
   "cell_type": "code",
   "execution_count": 47,
   "metadata": {},
   "outputs": [
    {
     "data": {
      "text/plain": [
       "tensor([[8.2830],\n",
       "        [8.3600],\n",
       "        [8.2470],\n",
       "        [8.4015],\n",
       "        [8.4785],\n",
       "        [8.5241],\n",
       "        [8.5682],\n",
       "        [8.2123],\n",
       "        [8.1035],\n",
       "        [8.2057]])"
      ]
     },
     "execution_count": 47,
     "metadata": {},
     "output_type": "execute_result"
    }
   ],
   "source": [
    "preds"
   ]
  },
  {
   "cell_type": "code",
   "execution_count": 48,
   "metadata": {},
   "outputs": [
    {
     "data": {
      "text/plain": [
       "tensor([ 0.,  9.,  2.,  9.,  8., 15., 20.,  2., 10.,  6.])"
      ]
     },
     "execution_count": 48,
     "metadata": {},
     "output_type": "execute_result"
    }
   ],
   "source": [
    "actual"
   ]
  },
  {
   "cell_type": "code",
   "execution_count": 49,
   "metadata": {},
   "outputs": [
    {
     "data": {
      "text/plain": [
       "array([[[17., 12., 12., 12., ...,  1., 12.,  7.,  7.]],\n",
       "\n",
       "       [[12., 12., 12.,  7., ..., 12.,  7.,  7.,  0.]],\n",
       "\n",
       "       [[12., 12.,  7.,  8., ...,  7.,  7.,  0.,  9.]],\n",
       "\n",
       "       [[12.,  7.,  8.,  1., ...,  7.,  0.,  9.,  2.]],\n",
       "\n",
       "       ...,\n",
       "\n",
       "       [[ 1., 12.,  7.,  7., ...,  2.,  9.,  8., 15.]],\n",
       "\n",
       "       [[12.,  7.,  7.,  0., ...,  9.,  8., 15., 20.]],\n",
       "\n",
       "       [[ 7.,  7.,  0.,  9., ...,  8., 15., 20.,  2.]],\n",
       "\n",
       "       [[ 7.,  0.,  9.,  2., ..., 15., 20.,  2., 10.]]], dtype=float32)"
      ]
     },
     "execution_count": 49,
     "metadata": {},
     "output_type": "execute_result"
    }
   ],
   "source": [
    "X_small"
   ]
  }
 ],
 "metadata": {
  "kernelspec": {
   "display_name": "Python 3",
   "language": "python",
   "name": "python3"
  },
  "language_info": {
   "codemirror_mode": {
    "name": "ipython",
    "version": 3
   },
   "file_extension": ".py",
   "mimetype": "text/x-python",
   "name": "python",
   "nbconvert_exporter": "python",
   "pygments_lexer": "ipython3",
   "version": "3.6.7"
  }
 },
 "nbformat": 4,
 "nbformat_minor": 2
}
