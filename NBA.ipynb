{
 "cells": [
  {
   "cell_type": "markdown",
   "metadata": {},
   "source": [
    "## Benchmarking"
   ]
  },
  {
   "cell_type": "code",
   "execution_count": 5,
   "metadata": {},
   "outputs": [],
   "source": [
    "import pandas as pd\n",
    "import numpy as np"
   ]
  },
  {
   "cell_type": "code",
   "execution_count": 6,
   "metadata": {},
   "outputs": [],
   "source": [
    "%matplotlib inline"
   ]
  },
  {
   "cell_type": "markdown",
   "metadata": {},
   "source": [
    "The NBA data is included in a compressed format because it's pretty big. Uncomment the line below to unzip."
   ]
  },
  {
   "cell_type": "code",
   "execution_count": 19,
   "metadata": {
    "scrolled": true
   },
   "outputs": [
    {
     "name": "stdout",
     "output_type": "stream",
     "text": [
      "nba.csv\r\n"
     ]
    }
   ],
   "source": [
    "# !tar -xzvf data/nba.tar.gz -C data/"
   ]
  },
  {
   "cell_type": "code",
   "execution_count": 20,
   "metadata": {},
   "outputs": [
    {
     "data": {
      "text/html": [
       "<div>\n",
       "<style scoped>\n",
       "    .dataframe tbody tr th:only-of-type {\n",
       "        vertical-align: middle;\n",
       "    }\n",
       "\n",
       "    .dataframe tbody tr th {\n",
       "        vertical-align: top;\n",
       "    }\n",
       "\n",
       "    .dataframe thead th {\n",
       "        text-align: right;\n",
       "    }\n",
       "</style>\n",
       "<table border=\"1\" class=\"dataframe\">\n",
       "  <thead>\n",
       "    <tr style=\"text-align: right;\">\n",
       "      <th></th>\n",
       "      <th>SEASON_YEAR</th>\n",
       "      <th>PLAYER_ID</th>\n",
       "      <th>PLAYER_NAME</th>\n",
       "      <th>TEAM_ID</th>\n",
       "      <th>TEAM_ABBREVIATION</th>\n",
       "      <th>TEAM_NAME</th>\n",
       "      <th>GAME_ID</th>\n",
       "      <th>GAME_DATE</th>\n",
       "      <th>MATCHUP</th>\n",
       "      <th>WL</th>\n",
       "      <th>...</th>\n",
       "      <th>BLKA</th>\n",
       "      <th>PF</th>\n",
       "      <th>PFD</th>\n",
       "      <th>PTS</th>\n",
       "      <th>PLUS_MINUS</th>\n",
       "      <th>NBA_FANTASY_PTS</th>\n",
       "      <th>DD2</th>\n",
       "      <th>TD3</th>\n",
       "      <th>Season</th>\n",
       "      <th>date</th>\n",
       "    </tr>\n",
       "  </thead>\n",
       "  <tbody>\n",
       "    <tr>\n",
       "      <th>559702</th>\n",
       "      <td>1996-97</td>\n",
       "      <td>239</td>\n",
       "      <td>Darrick Martin</td>\n",
       "      <td>1610612746</td>\n",
       "      <td>LAC</td>\n",
       "      <td>Los Angeles Clippers</td>\n",
       "      <td>29600013</td>\n",
       "      <td>1996-11-01</td>\n",
       "      <td>LAC @ GSW</td>\n",
       "      <td>W</td>\n",
       "      <td>...</td>\n",
       "      <td>1</td>\n",
       "      <td>3</td>\n",
       "      <td>0</td>\n",
       "      <td>13</td>\n",
       "      <td>7</td>\n",
       "      <td>19.7</td>\n",
       "      <td>0</td>\n",
       "      <td>0</td>\n",
       "      <td>1996-97</td>\n",
       "      <td>1996-11-01</td>\n",
       "    </tr>\n",
       "    <tr>\n",
       "      <th>559506</th>\n",
       "      <td>1996-97</td>\n",
       "      <td>63</td>\n",
       "      <td>Michael Smith</td>\n",
       "      <td>1610612758</td>\n",
       "      <td>SAC</td>\n",
       "      <td>Sacramento Kings</td>\n",
       "      <td>29600009</td>\n",
       "      <td>1996-11-01</td>\n",
       "      <td>SAC @ HOU</td>\n",
       "      <td>L</td>\n",
       "      <td>...</td>\n",
       "      <td>0</td>\n",
       "      <td>4</td>\n",
       "      <td>0</td>\n",
       "      <td>8</td>\n",
       "      <td>-10</td>\n",
       "      <td>23.5</td>\n",
       "      <td>0</td>\n",
       "      <td>0</td>\n",
       "      <td>1996-97</td>\n",
       "      <td>1996-11-01</td>\n",
       "    </tr>\n",
       "    <tr>\n",
       "      <th>559507</th>\n",
       "      <td>1996-97</td>\n",
       "      <td>251</td>\n",
       "      <td>Sean Elliott</td>\n",
       "      <td>1610612759</td>\n",
       "      <td>SAS</td>\n",
       "      <td>San Antonio Spurs</td>\n",
       "      <td>29600008</td>\n",
       "      <td>1996-11-01</td>\n",
       "      <td>SAS @ MIN</td>\n",
       "      <td>L</td>\n",
       "      <td>...</td>\n",
       "      <td>4</td>\n",
       "      <td>3</td>\n",
       "      <td>0</td>\n",
       "      <td>14</td>\n",
       "      <td>-11</td>\n",
       "      <td>29.1</td>\n",
       "      <td>0</td>\n",
       "      <td>0</td>\n",
       "      <td>1996-97</td>\n",
       "      <td>1996-11-01</td>\n",
       "    </tr>\n",
       "    <tr>\n",
       "      <th>559508</th>\n",
       "      <td>1996-97</td>\n",
       "      <td>112</td>\n",
       "      <td>Dontonio Wingfield</td>\n",
       "      <td>1610612757</td>\n",
       "      <td>POR</td>\n",
       "      <td>Portland Trail Blazers</td>\n",
       "      <td>29600014</td>\n",
       "      <td>1996-11-01</td>\n",
       "      <td>POR @ VAN</td>\n",
       "      <td>W</td>\n",
       "      <td>...</td>\n",
       "      <td>1</td>\n",
       "      <td>6</td>\n",
       "      <td>0</td>\n",
       "      <td>4</td>\n",
       "      <td>16</td>\n",
       "      <td>29.8</td>\n",
       "      <td>0</td>\n",
       "      <td>0</td>\n",
       "      <td>1996-97</td>\n",
       "      <td>1996-11-01</td>\n",
       "    </tr>\n",
       "    <tr>\n",
       "      <th>559509</th>\n",
       "      <td>1996-97</td>\n",
       "      <td>210</td>\n",
       "      <td>Terrell Brandon</td>\n",
       "      <td>1610612739</td>\n",
       "      <td>CLE</td>\n",
       "      <td>Cleveland Cavaliers</td>\n",
       "      <td>29600002</td>\n",
       "      <td>1996-11-01</td>\n",
       "      <td>CLE @ NJN</td>\n",
       "      <td>W</td>\n",
       "      <td>...</td>\n",
       "      <td>1</td>\n",
       "      <td>4</td>\n",
       "      <td>0</td>\n",
       "      <td>25</td>\n",
       "      <td>15</td>\n",
       "      <td>45.7</td>\n",
       "      <td>0</td>\n",
       "      <td>0</td>\n",
       "      <td>1996-97</td>\n",
       "      <td>1996-11-01</td>\n",
       "    </tr>\n",
       "  </tbody>\n",
       "</table>\n",
       "<p>5 rows × 37 columns</p>\n",
       "</div>"
      ],
      "text/plain": [
       "       SEASON_YEAR  PLAYER_ID         PLAYER_NAME     TEAM_ID  \\\n",
       "559702     1996-97        239      Darrick Martin  1610612746   \n",
       "559506     1996-97         63       Michael Smith  1610612758   \n",
       "559507     1996-97        251        Sean Elliott  1610612759   \n",
       "559508     1996-97        112  Dontonio Wingfield  1610612757   \n",
       "559509     1996-97        210     Terrell Brandon  1610612739   \n",
       "\n",
       "       TEAM_ABBREVIATION               TEAM_NAME   GAME_ID   GAME_DATE  \\\n",
       "559702               LAC    Los Angeles Clippers  29600013  1996-11-01   \n",
       "559506               SAC        Sacramento Kings  29600009  1996-11-01   \n",
       "559507               SAS       San Antonio Spurs  29600008  1996-11-01   \n",
       "559508               POR  Portland Trail Blazers  29600014  1996-11-01   \n",
       "559509               CLE     Cleveland Cavaliers  29600002  1996-11-01   \n",
       "\n",
       "          MATCHUP WL    ...      BLKA  PF  PFD  PTS  PLUS_MINUS  \\\n",
       "559702  LAC @ GSW  W    ...         1   3    0   13           7   \n",
       "559506  SAC @ HOU  L    ...         0   4    0    8         -10   \n",
       "559507  SAS @ MIN  L    ...         4   3    0   14         -11   \n",
       "559508  POR @ VAN  W    ...         1   6    0    4          16   \n",
       "559509  CLE @ NJN  W    ...         1   4    0   25          15   \n",
       "\n",
       "        NBA_FANTASY_PTS  DD2  TD3   Season       date  \n",
       "559702             19.7    0    0  1996-97 1996-11-01  \n",
       "559506             23.5    0    0  1996-97 1996-11-01  \n",
       "559507             29.1    0    0  1996-97 1996-11-01  \n",
       "559508             29.8    0    0  1996-97 1996-11-01  \n",
       "559509             45.7    0    0  1996-97 1996-11-01  \n",
       "\n",
       "[5 rows x 37 columns]"
      ]
     },
     "execution_count": 20,
     "metadata": {},
     "output_type": "execute_result"
    }
   ],
   "source": [
    "df = pd.read_csv('data/nba.csv')\n",
    "df['date'] = pd.to_datetime(df['GAME_DATE'])\n",
    "df.sort_values(by=['date'], inplace=True)\n",
    "df.head()"
   ]
  },
  {
   "cell_type": "code",
   "execution_count": 21,
   "metadata": {
    "scrolled": true
   },
   "outputs": [
    {
     "data": {
      "text/plain": [
       "(559703, 37)"
      ]
     },
     "execution_count": 21,
     "metadata": {},
     "output_type": "execute_result"
    }
   ],
   "source": [
    "df.shape"
   ]
  },
  {
   "cell_type": "code",
   "execution_count": 38,
   "metadata": {},
   "outputs": [],
   "source": [
    "def make_features(player_df, focus='PTS'):\n",
    "    player_df = player_df.assign(\n",
    "        target=player_df[focus].shift(-1),\n",
    "        sample_mean=player_df[focus].expanding().mean(),\n",
    "        ewma=player_df[focus].ewm(alpha=0.1).mean(),\n",
    "        last_day=player_df[focus],\n",
    "        moving_window=player_df[focus].expanding(10).mean(),\n",
    "        home=player_df['MATCHUP'].shift(-1).apply(lambda x: x if type(x)==np.float else int(x.split()[1]=='vs.'))\n",
    "    )\n",
    "    \n",
    "    features = ['date', 'last_day', 'sample_mean', 'moving_window', 'ewma', 'home', 'target']\n",
    "    \n",
    "    #     features = pdf[cat_features + date_features + cont_features + stat_features].copy()\n",
    "    features = player_df[features].copy()\n",
    "    features = features[10:-1] # drop rows with missing data\n",
    "    return features"
   ]
  },
  {
   "cell_type": "code",
   "execution_count": 39,
   "metadata": {},
   "outputs": [],
   "source": [
    "# Split the df by player, generate the features, then recombine into a single df\n",
    "combined = None\n",
    "\n",
    "for player in df['PLAYER_ID'].unique():\n",
    "    player_df = df[df['PLAYER_ID']==player].reset_index(drop=True)\n",
    "    features = make_features(player_df)\n",
    "    if combined is None: combined = features\n",
    "    else: combined = pd.concat([combined, features])"
   ]
  },
  {
   "cell_type": "code",
   "execution_count": 40,
   "metadata": {},
   "outputs": [
    {
     "data": {
      "text/html": [
       "<div>\n",
       "<style scoped>\n",
       "    .dataframe tbody tr th:only-of-type {\n",
       "        vertical-align: middle;\n",
       "    }\n",
       "\n",
       "    .dataframe tbody tr th {\n",
       "        vertical-align: top;\n",
       "    }\n",
       "\n",
       "    .dataframe thead th {\n",
       "        text-align: right;\n",
       "    }\n",
       "</style>\n",
       "<table border=\"1\" class=\"dataframe\">\n",
       "  <thead>\n",
       "    <tr style=\"text-align: right;\">\n",
       "      <th></th>\n",
       "      <th>date</th>\n",
       "      <th>last_day</th>\n",
       "      <th>sample_mean</th>\n",
       "      <th>moving_window</th>\n",
       "      <th>ewma</th>\n",
       "      <th>home</th>\n",
       "      <th>target</th>\n",
       "    </tr>\n",
       "  </thead>\n",
       "  <tbody>\n",
       "    <tr>\n",
       "      <th>10</th>\n",
       "      <td>1996-11-21</td>\n",
       "      <td>7</td>\n",
       "      <td>5.090909</td>\n",
       "      <td>5.090909</td>\n",
       "      <td>5.084948</td>\n",
       "      <td>0.0</td>\n",
       "      <td>4.0</td>\n",
       "    </tr>\n",
       "    <tr>\n",
       "      <th>11</th>\n",
       "      <td>1996-11-23</td>\n",
       "      <td>4</td>\n",
       "      <td>5.000000</td>\n",
       "      <td>5.000000</td>\n",
       "      <td>4.933751</td>\n",
       "      <td>1.0</td>\n",
       "      <td>5.0</td>\n",
       "    </tr>\n",
       "    <tr>\n",
       "      <th>12</th>\n",
       "      <td>1996-11-25</td>\n",
       "      <td>5</td>\n",
       "      <td>5.000000</td>\n",
       "      <td>5.000000</td>\n",
       "      <td>4.942634</td>\n",
       "      <td>1.0</td>\n",
       "      <td>18.0</td>\n",
       "    </tr>\n",
       "    <tr>\n",
       "      <th>13</th>\n",
       "      <td>1996-11-27</td>\n",
       "      <td>18</td>\n",
       "      <td>5.928571</td>\n",
       "      <td>5.928571</td>\n",
       "      <td>6.635687</td>\n",
       "      <td>0.0</td>\n",
       "      <td>18.0</td>\n",
       "    </tr>\n",
       "    <tr>\n",
       "      <th>14</th>\n",
       "      <td>1996-11-29</td>\n",
       "      <td>18</td>\n",
       "      <td>6.733333</td>\n",
       "      <td>6.733333</td>\n",
       "      <td>8.066764</td>\n",
       "      <td>1.0</td>\n",
       "      <td>12.0</td>\n",
       "    </tr>\n",
       "  </tbody>\n",
       "</table>\n",
       "</div>"
      ],
      "text/plain": [
       "         date  last_day  sample_mean  moving_window      ewma  home  target\n",
       "10 1996-11-21         7     5.090909       5.090909  5.084948   0.0     4.0\n",
       "11 1996-11-23         4     5.000000       5.000000  4.933751   1.0     5.0\n",
       "12 1996-11-25         5     5.000000       5.000000  4.942634   1.0    18.0\n",
       "13 1996-11-27        18     5.928571       5.928571  6.635687   0.0    18.0\n",
       "14 1996-11-29        18     6.733333       6.733333  8.066764   1.0    12.0"
      ]
     },
     "execution_count": 40,
     "metadata": {},
     "output_type": "execute_result"
    }
   ],
   "source": [
    "combined.head()"
   ]
  },
  {
   "cell_type": "code",
   "execution_count": 28,
   "metadata": {
    "scrolled": true
   },
   "outputs": [
    {
     "data": {
      "text/plain": [
       "(537795, 6)"
      ]
     },
     "execution_count": 28,
     "metadata": {},
     "output_type": "execute_result"
    }
   ],
   "source": [
    "combined.shape"
   ]
  },
  {
   "cell_type": "code",
   "execution_count": 29,
   "metadata": {},
   "outputs": [],
   "source": [
    "def mae(targ, pred): return (pred-targ).abs().mean()"
   ]
  },
  {
   "cell_type": "code",
   "execution_count": 30,
   "metadata": {
    "scrolled": false
   },
   "outputs": [
    {
     "data": {
      "text/plain": [
       "5.551758569715226"
      ]
     },
     "execution_count": 30,
     "metadata": {},
     "output_type": "execute_result"
    }
   ],
   "source": [
    "mae(combined['target'], combined['last_day'])"
   ]
  },
  {
   "cell_type": "code",
   "execution_count": 31,
   "metadata": {},
   "outputs": [
    {
     "data": {
      "text/plain": [
       "4.9634851880663335"
      ]
     },
     "execution_count": 31,
     "metadata": {},
     "output_type": "execute_result"
    }
   ],
   "source": [
    "mae(combined['target'], combined['sample_mean'])"
   ]
  },
  {
   "cell_type": "code",
   "execution_count": 32,
   "metadata": {},
   "outputs": [
    {
     "data": {
      "text/plain": [
       "4.319840755362905"
      ]
     },
     "execution_count": 32,
     "metadata": {},
     "output_type": "execute_result"
    }
   ],
   "source": [
    "mae(combined['target'], combined['ewma'])"
   ]
  },
  {
   "cell_type": "code",
   "execution_count": 33,
   "metadata": {},
   "outputs": [
    {
     "data": {
      "text/plain": [
       "4.9634851880663335"
      ]
     },
     "execution_count": 33,
     "metadata": {},
     "output_type": "execute_result"
    }
   ],
   "source": [
    "mae(combined['target'], combined['moving_window'])"
   ]
  },
  {
   "cell_type": "markdown",
   "metadata": {},
   "source": [
    "The averaging techniques perform better than looking at the last day. This may suggest that the player has an underlying level of skill that is predictive of points, and short-term blips are not very telling. The exponentially weighted average performs best, perhaps because it's able to pick up on trends such as a player improving or getting worse."
   ]
  },
  {
   "cell_type": "markdown",
   "metadata": {},
   "source": [
    "## XGBoost"
   ]
  },
  {
   "cell_type": "code",
   "execution_count": 48,
   "metadata": {},
   "outputs": [],
   "source": [
    "import xgboost as xgb"
   ]
  },
  {
   "cell_type": "code",
   "execution_count": 41,
   "metadata": {},
   "outputs": [],
   "source": [
    "combined = combined.sort_values(by='date').reset_index(drop=True)"
   ]
  },
  {
   "cell_type": "code",
   "execution_count": 42,
   "metadata": {
    "scrolled": false
   },
   "outputs": [
    {
     "data": {
      "text/html": [
       "<div>\n",
       "<style scoped>\n",
       "    .dataframe tbody tr th:only-of-type {\n",
       "        vertical-align: middle;\n",
       "    }\n",
       "\n",
       "    .dataframe tbody tr th {\n",
       "        vertical-align: top;\n",
       "    }\n",
       "\n",
       "    .dataframe thead th {\n",
       "        text-align: right;\n",
       "    }\n",
       "</style>\n",
       "<table border=\"1\" class=\"dataframe\">\n",
       "  <thead>\n",
       "    <tr style=\"text-align: right;\">\n",
       "      <th></th>\n",
       "      <th>date</th>\n",
       "      <th>last_day</th>\n",
       "      <th>sample_mean</th>\n",
       "      <th>moving_window</th>\n",
       "      <th>ewma</th>\n",
       "      <th>home</th>\n",
       "      <th>target</th>\n",
       "    </tr>\n",
       "  </thead>\n",
       "  <tbody>\n",
       "    <tr>\n",
       "      <th>0</th>\n",
       "      <td>1996-11-17</td>\n",
       "      <td>11</td>\n",
       "      <td>16.818182</td>\n",
       "      <td>16.818182</td>\n",
       "      <td>16.445124</td>\n",
       "      <td>1.0</td>\n",
       "      <td>20.0</td>\n",
       "    </tr>\n",
       "    <tr>\n",
       "      <th>1</th>\n",
       "      <td>1996-11-17</td>\n",
       "      <td>10</td>\n",
       "      <td>7.090909</td>\n",
       "      <td>7.090909</td>\n",
       "      <td>6.909297</td>\n",
       "      <td>1.0</td>\n",
       "      <td>3.0</td>\n",
       "    </tr>\n",
       "    <tr>\n",
       "      <th>2</th>\n",
       "      <td>1996-11-17</td>\n",
       "      <td>6</td>\n",
       "      <td>8.909091</td>\n",
       "      <td>8.909091</td>\n",
       "      <td>8.480440</td>\n",
       "      <td>1.0</td>\n",
       "      <td>6.0</td>\n",
       "    </tr>\n",
       "    <tr>\n",
       "      <th>3</th>\n",
       "      <td>1996-11-17</td>\n",
       "      <td>4</td>\n",
       "      <td>4.272727</td>\n",
       "      <td>4.272727</td>\n",
       "      <td>4.283124</td>\n",
       "      <td>1.0</td>\n",
       "      <td>6.0</td>\n",
       "    </tr>\n",
       "    <tr>\n",
       "      <th>4</th>\n",
       "      <td>1996-11-17</td>\n",
       "      <td>18</td>\n",
       "      <td>9.727273</td>\n",
       "      <td>9.727273</td>\n",
       "      <td>9.540422</td>\n",
       "      <td>1.0</td>\n",
       "      <td>14.0</td>\n",
       "    </tr>\n",
       "  </tbody>\n",
       "</table>\n",
       "</div>"
      ],
      "text/plain": [
       "        date  last_day  sample_mean  moving_window       ewma  home  target\n",
       "0 1996-11-17        11    16.818182      16.818182  16.445124   1.0    20.0\n",
       "1 1996-11-17        10     7.090909       7.090909   6.909297   1.0     3.0\n",
       "2 1996-11-17         6     8.909091       8.909091   8.480440   1.0     6.0\n",
       "3 1996-11-17         4     4.272727       4.272727   4.283124   1.0     6.0\n",
       "4 1996-11-17        18     9.727273       9.727273   9.540422   1.0    14.0"
      ]
     },
     "execution_count": 42,
     "metadata": {},
     "output_type": "execute_result"
    }
   ],
   "source": [
    "combined.head()"
   ]
  },
  {
   "cell_type": "code",
   "execution_count": 50,
   "metadata": {},
   "outputs": [],
   "source": [
    "combined.drop(columns='date', inplace=True)"
   ]
  },
  {
   "cell_type": "code",
   "execution_count": 52,
   "metadata": {},
   "outputs": [
    {
     "data": {
      "text/plain": [
       "403346"
      ]
     },
     "execution_count": 52,
     "metadata": {},
     "output_type": "execute_result"
    }
   ],
   "source": [
    "split = int(len(combined) * .75); split"
   ]
  },
  {
   "cell_type": "code",
   "execution_count": 53,
   "metadata": {},
   "outputs": [],
   "source": [
    "combined_train = combined.iloc[:split]\n",
    "combined_test = combined.iloc[split:]"
   ]
  },
  {
   "cell_type": "code",
   "execution_count": 54,
   "metadata": {},
   "outputs": [
    {
     "data": {
      "text/plain": [
       "((403346, 6), (134449, 6))"
      ]
     },
     "execution_count": 54,
     "metadata": {},
     "output_type": "execute_result"
    }
   ],
   "source": [
    "combined_train.shape, combined_test.shape"
   ]
  },
  {
   "cell_type": "code",
   "execution_count": 55,
   "metadata": {},
   "outputs": [],
   "source": [
    "X_train = combined_train.drop(columns=['target'])\n",
    "y_train = combined_train['target']\n",
    "\n",
    "X_test = combined_test.drop(columns=['target'])\n",
    "y_test = combined_test['target']"
   ]
  },
  {
   "cell_type": "code",
   "execution_count": 56,
   "metadata": {},
   "outputs": [
    {
     "name": "stderr",
     "output_type": "stream",
     "text": [
      "/opt/conda/envs/fastai/lib/python3.6/site-packages/xgboost/core.py:587: FutureWarning: Series.base is deprecated and will be removed in a future version\n",
      "  if getattr(data, 'base', None) is not None and \\\n",
      "/opt/conda/envs/fastai/lib/python3.6/site-packages/xgboost/core.py:588: FutureWarning: Series.base is deprecated and will be removed in a future version\n",
      "  data.base is not None and isinstance(data, np.ndarray) \\\n"
     ]
    },
    {
     "name": "stdout",
     "output_type": "stream",
     "text": [
      "[20:14:30] WARNING: /workspace/src/objective/regression_obj.cu:152: reg:linear is now deprecated in favor of reg:squarederror.\n",
      "CPU times: user 2min 43s, sys: 268 ms, total: 2min 44s\n",
      "Wall time: 2min 44s\n"
     ]
    }
   ],
   "source": [
    "# training model; may take several minutes\n",
    "reg = xgb.XGBRegressor(n_estimators=1000)\n",
    "reg.fit(X_train, y_train,\n",
    "       verbose=False)"
   ]
  },
  {
   "cell_type": "code",
   "execution_count": 58,
   "metadata": {},
   "outputs": [
    {
     "data": {
      "text/plain": [
       "<matplotlib.axes._subplots.AxesSubplot at 0x7fa9574eadd8>"
      ]
     },
     "execution_count": 58,
     "metadata": {},
     "output_type": "execute_result"
    },
    {
     "data": {
      "image/png": "[encoded data removed]",
      "text/plain": [
       "<Figure size 432x288 with 1 Axes>"
      ]
     },
     "metadata": {
      "needs_background": "light"
     },
     "output_type": "display_data"
    }
   ],
   "source": [
    "xgb.plot_importance(reg)"
   ]
  },
  {
   "cell_type": "code",
   "execution_count": 59,
   "metadata": {},
   "outputs": [],
   "source": [
    "preds = reg.predict(X_test)"
   ]
  },
  {
   "cell_type": "code",
   "execution_count": 60,
   "metadata": {},
   "outputs": [
    {
     "data": {
      "text/plain": [
       "4.39131847486197"
      ]
     },
     "execution_count": 60,
     "metadata": {},
     "output_type": "execute_result"
    }
   ],
   "source": [
    "mae(y_test, preds)"
   ]
  },
  {
   "cell_type": "markdown",
   "metadata": {},
   "source": [
    "## fastai"
   ]
  },
  {
   "cell_type": "code",
   "execution_count": 61,
   "metadata": {},
   "outputs": [],
   "source": [
    "df = pd.read_csv('data/nba.csv')\n",
    "df['date'] = pd.to_datetime(df['GAME_DATE'])\n",
    "df.sort_values(by=['date'], inplace=True)"
   ]
  },
  {
   "cell_type": "code",
   "execution_count": 62,
   "metadata": {},
   "outputs": [
    {
     "data": {
      "text/html": [
       "<div>\n",
       "<style scoped>\n",
       "    .dataframe tbody tr th:only-of-type {\n",
       "        vertical-align: middle;\n",
       "    }\n",
       "\n",
       "    .dataframe tbody tr th {\n",
       "        vertical-align: top;\n",
       "    }\n",
       "\n",
       "    .dataframe thead th {\n",
       "        text-align: right;\n",
       "    }\n",
       "</style>\n",
       "<table border=\"1\" class=\"dataframe\">\n",
       "  <thead>\n",
       "    <tr style=\"text-align: right;\">\n",
       "      <th></th>\n",
       "      <th>SEASON_YEAR</th>\n",
       "      <th>PLAYER_ID</th>\n",
       "      <th>PLAYER_NAME</th>\n",
       "      <th>TEAM_ID</th>\n",
       "      <th>TEAM_ABBREVIATION</th>\n",
       "      <th>TEAM_NAME</th>\n",
       "      <th>GAME_ID</th>\n",
       "      <th>GAME_DATE</th>\n",
       "      <th>MATCHUP</th>\n",
       "      <th>WL</th>\n",
       "      <th>...</th>\n",
       "      <th>BLKA</th>\n",
       "      <th>PF</th>\n",
       "      <th>PFD</th>\n",
       "      <th>PTS</th>\n",
       "      <th>PLUS_MINUS</th>\n",
       "      <th>NBA_FANTASY_PTS</th>\n",
       "      <th>DD2</th>\n",
       "      <th>TD3</th>\n",
       "      <th>Season</th>\n",
       "      <th>date</th>\n",
       "    </tr>\n",
       "  </thead>\n",
       "  <tbody>\n",
       "    <tr>\n",
       "      <th>559702</th>\n",
       "      <td>1996-97</td>\n",
       "      <td>239</td>\n",
       "      <td>Darrick Martin</td>\n",
       "      <td>1610612746</td>\n",
       "      <td>LAC</td>\n",
       "      <td>Los Angeles Clippers</td>\n",
       "      <td>29600013</td>\n",
       "      <td>1996-11-01</td>\n",
       "      <td>LAC @ GSW</td>\n",
       "      <td>W</td>\n",
       "      <td>...</td>\n",
       "      <td>1</td>\n",
       "      <td>3</td>\n",
       "      <td>0</td>\n",
       "      <td>13</td>\n",
       "      <td>7</td>\n",
       "      <td>19.7</td>\n",
       "      <td>0</td>\n",
       "      <td>0</td>\n",
       "      <td>1996-97</td>\n",
       "      <td>1996-11-01</td>\n",
       "    </tr>\n",
       "    <tr>\n",
       "      <th>559506</th>\n",
       "      <td>1996-97</td>\n",
       "      <td>63</td>\n",
       "      <td>Michael Smith</td>\n",
       "      <td>1610612758</td>\n",
       "      <td>SAC</td>\n",
       "      <td>Sacramento Kings</td>\n",
       "      <td>29600009</td>\n",
       "      <td>1996-11-01</td>\n",
       "      <td>SAC @ HOU</td>\n",
       "      <td>L</td>\n",
       "      <td>...</td>\n",
       "      <td>0</td>\n",
       "      <td>4</td>\n",
       "      <td>0</td>\n",
       "      <td>8</td>\n",
       "      <td>-10</td>\n",
       "      <td>23.5</td>\n",
       "      <td>0</td>\n",
       "      <td>0</td>\n",
       "      <td>1996-97</td>\n",
       "      <td>1996-11-01</td>\n",
       "    </tr>\n",
       "    <tr>\n",
       "      <th>559507</th>\n",
       "      <td>1996-97</td>\n",
       "      <td>251</td>\n",
       "      <td>Sean Elliott</td>\n",
       "      <td>1610612759</td>\n",
       "      <td>SAS</td>\n",
       "      <td>San Antonio Spurs</td>\n",
       "      <td>29600008</td>\n",
       "      <td>1996-11-01</td>\n",
       "      <td>SAS @ MIN</td>\n",
       "      <td>L</td>\n",
       "      <td>...</td>\n",
       "      <td>4</td>\n",
       "      <td>3</td>\n",
       "      <td>0</td>\n",
       "      <td>14</td>\n",
       "      <td>-11</td>\n",
       "      <td>29.1</td>\n",
       "      <td>0</td>\n",
       "      <td>0</td>\n",
       "      <td>1996-97</td>\n",
       "      <td>1996-11-01</td>\n",
       "    </tr>\n",
       "    <tr>\n",
       "      <th>559508</th>\n",
       "      <td>1996-97</td>\n",
       "      <td>112</td>\n",
       "      <td>Dontonio Wingfield</td>\n",
       "      <td>1610612757</td>\n",
       "      <td>POR</td>\n",
       "      <td>Portland Trail Blazers</td>\n",
       "      <td>29600014</td>\n",
       "      <td>1996-11-01</td>\n",
       "      <td>POR @ VAN</td>\n",
       "      <td>W</td>\n",
       "      <td>...</td>\n",
       "      <td>1</td>\n",
       "      <td>6</td>\n",
       "      <td>0</td>\n",
       "      <td>4</td>\n",
       "      <td>16</td>\n",
       "      <td>29.8</td>\n",
       "      <td>0</td>\n",
       "      <td>0</td>\n",
       "      <td>1996-97</td>\n",
       "      <td>1996-11-01</td>\n",
       "    </tr>\n",
       "    <tr>\n",
       "      <th>559509</th>\n",
       "      <td>1996-97</td>\n",
       "      <td>210</td>\n",
       "      <td>Terrell Brandon</td>\n",
       "      <td>1610612739</td>\n",
       "      <td>CLE</td>\n",
       "      <td>Cleveland Cavaliers</td>\n",
       "      <td>29600002</td>\n",
       "      <td>1996-11-01</td>\n",
       "      <td>CLE @ NJN</td>\n",
       "      <td>W</td>\n",
       "      <td>...</td>\n",
       "      <td>1</td>\n",
       "      <td>4</td>\n",
       "      <td>0</td>\n",
       "      <td>25</td>\n",
       "      <td>15</td>\n",
       "      <td>45.7</td>\n",
       "      <td>0</td>\n",
       "      <td>0</td>\n",
       "      <td>1996-97</td>\n",
       "      <td>1996-11-01</td>\n",
       "    </tr>\n",
       "  </tbody>\n",
       "</table>\n",
       "<p>5 rows × 37 columns</p>\n",
       "</div>"
      ],
      "text/plain": [
       "       SEASON_YEAR  PLAYER_ID         PLAYER_NAME     TEAM_ID  \\\n",
       "559702     1996-97        239      Darrick Martin  1610612746   \n",
       "559506     1996-97         63       Michael Smith  1610612758   \n",
       "559507     1996-97        251        Sean Elliott  1610612759   \n",
       "559508     1996-97        112  Dontonio Wingfield  1610612757   \n",
       "559509     1996-97        210     Terrell Brandon  1610612739   \n",
       "\n",
       "       TEAM_ABBREVIATION               TEAM_NAME   GAME_ID   GAME_DATE  \\\n",
       "559702               LAC    Los Angeles Clippers  29600013  1996-11-01   \n",
       "559506               SAC        Sacramento Kings  29600009  1996-11-01   \n",
       "559507               SAS       San Antonio Spurs  29600008  1996-11-01   \n",
       "559508               POR  Portland Trail Blazers  29600014  1996-11-01   \n",
       "559509               CLE     Cleveland Cavaliers  29600002  1996-11-01   \n",
       "\n",
       "          MATCHUP WL    ...      BLKA  PF  PFD  PTS  PLUS_MINUS  \\\n",
       "559702  LAC @ GSW  W    ...         1   3    0   13           7   \n",
       "559506  SAC @ HOU  L    ...         0   4    0    8         -10   \n",
       "559507  SAS @ MIN  L    ...         4   3    0   14         -11   \n",
       "559508  POR @ VAN  W    ...         1   6    0    4          16   \n",
       "559509  CLE @ NJN  W    ...         1   4    0   25          15   \n",
       "\n",
       "        NBA_FANTASY_PTS  DD2  TD3   Season       date  \n",
       "559702             19.7    0    0  1996-97 1996-11-01  \n",
       "559506             23.5    0    0  1996-97 1996-11-01  \n",
       "559507             29.1    0    0  1996-97 1996-11-01  \n",
       "559508             29.8    0    0  1996-97 1996-11-01  \n",
       "559509             45.7    0    0  1996-97 1996-11-01  \n",
       "\n",
       "[5 rows x 37 columns]"
      ]
     },
     "execution_count": 62,
     "metadata": {},
     "output_type": "execute_result"
    }
   ],
   "source": [
    "df.head()"
   ]
  },
  {
   "cell_type": "markdown",
   "metadata": {},
   "source": [
    "## Make data\n",
    "First I split the df by player (each player is really their own time series). Then I generate the training data as follows: X is 10 contiguous games, y is the game immediately after that (11th game). Do this as many times as the player series allows, stepping forward one day each time. This does mean there's a lot of overlap between the samples - I don't know if that's a problem. I split train/valid/test by season, partly for convenience, partly because I'm worried that the overlap in the samples could allow some data leakage. Because the test set is a season the model hasn't seen at all, the score on the test set should at least be a fair measure of how well it's working."
   ]
  },
  {
   "cell_type": "code",
   "execution_count": null,
   "metadata": {},
   "outputs": [],
   "source": [
    "def make_arrays(player_df, window=10):\n",
    "    pts=player_df['PTS']\n",
    "    xs,ys = [],[]\n",
    "    for start in range(len(pts) - window):\n",
    "        end = start + window\n",
    "        x = pts[start:end]\n",
    "        y = pts[end]\n",
    "        xs.append(x)\n",
    "        ys.append(y)\n",
    "    return xs,ys"
   ]
  },
  {
   "cell_type": "code",
   "execution_count": null,
   "metadata": {},
   "outputs": [],
   "source": [
    "def make_data(df):\n",
    "    all_xs, all_ys = [],[]\n",
    "    for player in df['PLAYER_ID'].unique():\n",
    "        player_df = df[df['PLAYER_ID']==player].reset_index(drop=True)\n",
    "        player_xs, player_ys = make_arrays(player_df)\n",
    "        all_xs += player_xs\n",
    "        all_ys += player_ys\n",
    "\n",
    "    X = np.array(all_xs).astype('float32')\n",
    "    X = X[:,np.newaxis,:]\n",
    "    y = np.array(all_ys).astype('float32')\n",
    "    return X, y"
   ]
  },
  {
   "cell_type": "code",
   "execution_count": 65,
   "metadata": {},
   "outputs": [],
   "source": [
    "train_df = df[df['SEASON_YEAR'].isin(['2016-17', '2015-16', '2014-15'])].reset_index(drop=True)\n",
    "valid_df = df[df['SEASON_YEAR']=='2017-18'].reset_index(drop=True)\n",
    "test_df = df[df['SEASON_YEAR']=='2018-19'].reset_index(drop=True)"
   ]
  },
  {
   "cell_type": "code",
   "execution_count": 66,
   "metadata": {
    "scrolled": true
   },
   "outputs": [],
   "source": [
    "X_train, y_train = make_data(train_df)\n",
    "X_valid, y_valid = make_data(valid_df)\n",
    "X_test, y_test = make_data(test_df)"
   ]
  },
  {
   "cell_type": "code",
   "execution_count": 67,
   "metadata": {},
   "outputs": [
    {
     "data": {
      "text/plain": [
       "[(71833, 1, 10), (71833,), (21144, 1, 10), (21144,), (21168, 1, 10), (21168,)]"
      ]
     },
     "execution_count": 67,
     "metadata": {},
     "output_type": "execute_result"
    }
   ],
   "source": [
    "list(map(lambda x: x.shape, (X_train, y_train, X_valid, y_valid, X_test, y_test)))"
   ]
  },
  {
   "cell_type": "code",
   "execution_count": 68,
   "metadata": {},
   "outputs": [
    {
     "data": {
      "text/html": [
       "<style>.container { width:100% !important; }</style>"
      ],
      "text/plain": [
       "<IPython.core.display.HTML object>"
      ]
     },
     "metadata": {},
     "output_type": "display_data"
    },
    {
     "name": "stdout",
     "output_type": "stream",
     "text": [
      "/storage/timeseriesAI\n",
      "fastai : 1.0.58\n",
      "torch  : 1.0.0\n",
      "device : cuda\n"
     ]
    }
   ],
   "source": [
    "import fastai, os\n",
    "from fastai_timeseries import *\n",
    "from torchtimeseries.models import *\n",
    "path = Path(os.getcwd())\n",
    "print(path)\n",
    "print('fastai :', fastai.__version__)\n",
    "print('torch  :', torch.__version__)\n",
    "print('device :', device)"
   ]
  },
  {
   "cell_type": "code",
   "execution_count": 69,
   "metadata": {},
   "outputs": [],
   "source": [
    "bs = 64                            # ✳️\n",
    "seed = 1234                        # ✳️\n",
    "scale_type = 'standardize'         # ✳️ 'standardize', 'normalize'\n",
    "scale_subtype = 'per_channel'      # ✳️ 'all_samples', 'per_channel', 'per_sample'\n",
    "scale_range = (-1, 1)              # ✳️ for normalization only: usually left to (-1, 1)"
   ]
  },
  {
   "cell_type": "code",
   "execution_count": 70,
   "metadata": {},
   "outputs": [
    {
     "data": {
      "text/plain": [
       "TSDataBunch;\n",
       "\n",
       "Train: LabelList (71833 items)\n",
       "x: TimeSeriesList\n",
       "TimeSeries(ch=1, seq_len=10),TimeSeries(ch=1, seq_len=10),TimeSeries(ch=1, seq_len=10),TimeSeries(ch=1, seq_len=10),TimeSeries(ch=1, seq_len=10)\n",
       "y: FloatList\n",
       "0.0,9.0,2.0,9.0,8.0\n",
       "Path: .;\n",
       "\n",
       "Valid: LabelList (21144 items)\n",
       "x: TimeSeriesList\n",
       "TimeSeries(ch=1, seq_len=10),TimeSeries(ch=1, seq_len=10),TimeSeries(ch=1, seq_len=10),TimeSeries(ch=1, seq_len=10),TimeSeries(ch=1, seq_len=10)\n",
       "y: FloatList\n",
       "3.0,11.0,11.0,9.0,0.0\n",
       "Path: .;\n",
       "\n",
       "Test: None"
      ]
     },
     "execution_count": 70,
     "metadata": {},
     "output_type": "execute_result"
    }
   ],
   "source": [
    "db = (ItemLists('.', TimeSeriesList(X_train), TimeSeriesList(X_valid))\n",
    "      .label_from_lists(y_train, y_valid)\n",
    "      .databunch(bs=min(bs, len(X_train)), val_bs=min(len(X_valid), bs * 2), num_workers=cpus, device=device)\n",
    "      .scale(scale_type=scale_type, scale_subtype=scale_subtype, scale_range=scale_range)\n",
    "     )\n",
    "db"
   ]
  },
  {
   "cell_type": "code",
   "execution_count": 71,
   "metadata": {},
   "outputs": [
    {
     "data": {
      "image/png": "[encoded data removed]",
      "text/plain": [
       "<Figure size 720x720 with 25 Axes>"
      ]
     },
     "metadata": {},
     "output_type": "display_data"
    }
   ],
   "source": [
    "db.show_batch()"
   ]
  },
  {
   "cell_type": "code",
   "execution_count": 72,
   "metadata": {},
   "outputs": [],
   "source": [
    "from torchtimeseries.models import *\n",
    "# Select one arch from these state-of-the-art time series/ 1D models:\n",
    "# ResCNN, FCN, InceptionTime, ResNet\n",
    "arch = InceptionTime                     # ✳️   \n",
    "arch_kwargs = dict()                     # ✳️ \n",
    "opt_func=Ranger                          # ✳️ a state-of-the-art optimizer\n",
    "loss_func = FlattenedLoss(nn.L1Loss)     # ✳️ this is MAE loss"
   ]
  },
  {
   "cell_type": "code",
   "execution_count": 73,
   "metadata": {},
   "outputs": [
    {
     "name": "stdout",
     "output_type": "stream",
     "text": [
      "InceptionTime(\n",
      "  (block): InceptionBlock(\n",
      "    (inc_mods): ModuleList(\n",
      "      (0): Inception(\n",
      "        (conv_layers): ModuleList(\n",
      "          (0): Conv1d(1, 32, kernel_size=(39,), stride=(1,), padding=(19,))\n",
      "          (1): Conv1d(1, 32, kernel_size=(19,), stride=(1,), padding=(9,))\n",
      "          (2): Conv1d(1, 32, kernel_size=(9,), stride=(1,), padding=(4,))\n",
      "        )\n",
      "        (maxpool): MaxPool1d(kernel_size=3, stride=1, padding=1, dilation=1, ceil_mode=False)\n",
      "        (conv): Conv1d(1, 32, kernel_size=(1,), stride=(1,))\n",
      "        (bn): BatchNorm1d(128, eps=1e-05, momentum=0.1, affine=True, track_running_stats=True)\n",
      "        (act): ReLU()\n",
      "      )\n",
      "      (1): Inception(\n",
      "        (bottleneck): Conv1d(128, 32, kernel_size=(1,), stride=(1,))\n",
      "        (conv_layers): ModuleList(\n",
      "          (0): Conv1d(32, 32, kernel_size=(39,), stride=(1,), padding=(19,))\n",
      "          (1): Conv1d(32, 32, kernel_size=(19,), stride=(1,), padding=(9,))\n",
      "          (2): Conv1d(32, 32, kernel_size=(9,), stride=(1,), padding=(4,))\n",
      "        )\n",
      "        (maxpool): MaxPool1d(kernel_size=3, stride=1, padding=1, dilation=1, ceil_mode=False)\n",
      "        (conv): Conv1d(128, 32, kernel_size=(1,), stride=(1,))\n",
      "        (bn): BatchNorm1d(128, eps=1e-05, momentum=0.1, affine=True, track_running_stats=True)\n",
      "        (act): ReLU()\n",
      "      )\n",
      "      (2): Inception(\n",
      "        (bottleneck): Conv1d(128, 32, kernel_size=(1,), stride=(1,))\n",
      "        (conv_layers): ModuleList(\n",
      "          (0): Conv1d(32, 32, kernel_size=(39,), stride=(1,), padding=(19,))\n",
      "          (1): Conv1d(32, 32, kernel_size=(19,), stride=(1,), padding=(9,))\n",
      "          (2): Conv1d(32, 32, kernel_size=(9,), stride=(1,), padding=(4,))\n",
      "        )\n",
      "        (maxpool): MaxPool1d(kernel_size=3, stride=1, padding=1, dilation=1, ceil_mode=False)\n",
      "        (conv): Conv1d(128, 32, kernel_size=(1,), stride=(1,))\n",
      "        (bn): BatchNorm1d(128, eps=1e-05, momentum=0.1, affine=True, track_running_stats=True)\n",
      "        (act): ReLU()\n",
      "      )\n",
      "      (3): Inception(\n",
      "        (bottleneck): Conv1d(128, 32, kernel_size=(1,), stride=(1,))\n",
      "        (conv_layers): ModuleList(\n",
      "          (0): Conv1d(32, 32, kernel_size=(39,), stride=(1,), padding=(19,))\n",
      "          (1): Conv1d(32, 32, kernel_size=(19,), stride=(1,), padding=(9,))\n",
      "          (2): Conv1d(32, 32, kernel_size=(9,), stride=(1,), padding=(4,))\n",
      "        )\n",
      "        (maxpool): MaxPool1d(kernel_size=3, stride=1, padding=1, dilation=1, ceil_mode=False)\n",
      "        (conv): Conv1d(128, 32, kernel_size=(1,), stride=(1,))\n",
      "        (bn): BatchNorm1d(128, eps=1e-05, momentum=0.1, affine=True, track_running_stats=True)\n",
      "        (act): ReLU()\n",
      "      )\n",
      "      (4): Inception(\n",
      "        (bottleneck): Conv1d(128, 32, kernel_size=(1,), stride=(1,))\n",
      "        (conv_layers): ModuleList(\n",
      "          (0): Conv1d(32, 32, kernel_size=(39,), stride=(1,), padding=(19,))\n",
      "          (1): Conv1d(32, 32, kernel_size=(19,), stride=(1,), padding=(9,))\n",
      "          (2): Conv1d(32, 32, kernel_size=(9,), stride=(1,), padding=(4,))\n",
      "        )\n",
      "        (maxpool): MaxPool1d(kernel_size=3, stride=1, padding=1, dilation=1, ceil_mode=False)\n",
      "        (conv): Conv1d(128, 32, kernel_size=(1,), stride=(1,))\n",
      "        (bn): BatchNorm1d(128, eps=1e-05, momentum=0.1, affine=True, track_running_stats=True)\n",
      "        (act): ReLU()\n",
      "      )\n",
      "      (5): Inception(\n",
      "        (bottleneck): Conv1d(128, 32, kernel_size=(1,), stride=(1,))\n",
      "        (conv_layers): ModuleList(\n",
      "          (0): Conv1d(32, 32, kernel_size=(39,), stride=(1,), padding=(19,))\n",
      "          (1): Conv1d(32, 32, kernel_size=(19,), stride=(1,), padding=(9,))\n",
      "          (2): Conv1d(32, 32, kernel_size=(9,), stride=(1,), padding=(4,))\n",
      "        )\n",
      "        (maxpool): MaxPool1d(kernel_size=3, stride=1, padding=1, dilation=1, ceil_mode=False)\n",
      "        (conv): Conv1d(128, 32, kernel_size=(1,), stride=(1,))\n",
      "        (bn): BatchNorm1d(128, eps=1e-05, momentum=0.1, affine=True, track_running_stats=True)\n",
      "        (act): ReLU()\n",
      "      )\n",
      "    )\n",
      "    (res_layers): ModuleList(\n",
      "      (0): None\n",
      "      (1): None\n",
      "      (2): Sequential(\n",
      "        (0): Conv1d(1, 128, kernel_size=(1,), stride=(1,))\n",
      "        (1): BatchNorm1d(128, eps=1e-05, momentum=0.1, affine=True, track_running_stats=True)\n",
      "      )\n",
      "      (3): None\n",
      "      (4): None\n",
      "      (5): Sequential(\n",
      "        (0): Conv1d(128, 128, kernel_size=(1,), stride=(1,))\n",
      "        (1): BatchNorm1d(128, eps=1e-05, momentum=0.1, affine=True, track_running_stats=True)\n",
      "      )\n",
      "    )\n",
      "    (act): ReLU()\n",
      "  )\n",
      "  (gap): AdaptiveAvgPool1d(output_size=1)\n",
      "  (fc): Linear(in_features=128, out_features=1, bias=True)\n",
      ")\n",
      "InceptionTime\n",
      "======================================================================\n",
      "Layer (type)         Output Shape         Param #    Trainable \n",
      "======================================================================\n",
      "Conv1d               [32, 10]             1,280      True      \n",
      "______________________________________________________________________\n",
      "Conv1d               [32, 10]             640        True      \n",
      "______________________________________________________________________\n",
      "Conv1d               [32, 10]             320        True      \n",
      "______________________________________________________________________\n",
      "MaxPool1d            [1, 10]              0          False     \n",
      "______________________________________________________________________\n",
      "Conv1d               [32, 10]             64         True      \n",
      "______________________________________________________________________\n",
      "BatchNorm1d          [128, 10]            256        True      \n",
      "______________________________________________________________________\n",
      "ReLU                 [128, 10]            0          False     \n",
      "______________________________________________________________________\n",
      "Conv1d               [32, 10]             4,128      True      \n",
      "______________________________________________________________________\n",
      "Conv1d               [32, 10]             39,968     True      \n",
      "______________________________________________________________________\n",
      "Conv1d               [32, 10]             19,488     True      \n",
      "______________________________________________________________________\n",
      "Conv1d               [32, 10]             9,248      True      \n",
      "______________________________________________________________________\n",
      "MaxPool1d            [128, 10]            0          False     \n",
      "______________________________________________________________________\n",
      "Conv1d               [32, 10]             4,128      True      \n",
      "______________________________________________________________________\n",
      "BatchNorm1d          [128, 10]            256        True      \n",
      "______________________________________________________________________\n",
      "ReLU                 [128, 10]            0          False     \n",
      "______________________________________________________________________\n",
      "Conv1d               [32, 10]             4,128      True      \n",
      "______________________________________________________________________\n",
      "Conv1d               [32, 10]             39,968     True      \n",
      "______________________________________________________________________\n",
      "Conv1d               [32, 10]             19,488     True      \n",
      "______________________________________________________________________\n",
      "Conv1d               [32, 10]             9,248      True      \n",
      "______________________________________________________________________\n",
      "MaxPool1d            [128, 10]            0          False     \n",
      "______________________________________________________________________\n",
      "Conv1d               [32, 10]             4,128      True      \n",
      "______________________________________________________________________\n",
      "BatchNorm1d          [128, 10]            256        True      \n",
      "______________________________________________________________________\n",
      "ReLU                 [128, 10]            0          False     \n",
      "______________________________________________________________________\n",
      "Conv1d               [32, 10]             4,128      True      \n",
      "______________________________________________________________________\n",
      "Conv1d               [32, 10]             39,968     True      \n",
      "______________________________________________________________________\n",
      "Conv1d               [32, 10]             19,488     True      \n",
      "______________________________________________________________________\n",
      "Conv1d               [32, 10]             9,248      True      \n",
      "______________________________________________________________________\n",
      "MaxPool1d            [128, 10]            0          False     \n",
      "______________________________________________________________________\n",
      "Conv1d               [32, 10]             4,128      True      \n",
      "______________________________________________________________________\n",
      "BatchNorm1d          [128, 10]            256        True      \n",
      "______________________________________________________________________\n",
      "ReLU                 [128, 10]            0          False     \n",
      "______________________________________________________________________\n",
      "Conv1d               [32, 10]             4,128      True      \n",
      "______________________________________________________________________\n",
      "Conv1d               [32, 10]             39,968     True      \n",
      "______________________________________________________________________\n",
      "Conv1d               [32, 10]             19,488     True      \n",
      "______________________________________________________________________\n",
      "Conv1d               [32, 10]             9,248      True      \n",
      "______________________________________________________________________\n",
      "MaxPool1d            [128, 10]            0          False     \n",
      "______________________________________________________________________\n",
      "Conv1d               [32, 10]             4,128      True      \n",
      "______________________________________________________________________\n",
      "BatchNorm1d          [128, 10]            256        True      \n",
      "______________________________________________________________________\n",
      "ReLU                 [128, 10]            0          False     \n",
      "______________________________________________________________________\n",
      "Conv1d               [32, 10]             4,128      True      \n",
      "______________________________________________________________________\n",
      "Conv1d               [32, 10]             39,968     True      \n",
      "______________________________________________________________________\n",
      "Conv1d               [32, 10]             19,488     True      \n",
      "______________________________________________________________________\n",
      "Conv1d               [32, 10]             9,248      True      \n",
      "______________________________________________________________________\n",
      "MaxPool1d            [128, 10]            0          False     \n",
      "______________________________________________________________________\n",
      "Conv1d               [32, 10]             4,128      True      \n",
      "______________________________________________________________________\n",
      "BatchNorm1d          [128, 10]            256        True      \n",
      "______________________________________________________________________\n",
      "ReLU                 [128, 10]            0          False     \n",
      "______________________________________________________________________\n",
      "Conv1d               [128, 10]            256        True      \n",
      "______________________________________________________________________\n",
      "BatchNorm1d          [128, 10]            256        True      \n",
      "______________________________________________________________________\n",
      "Conv1d               [128, 10]            16,512     True      \n",
      "______________________________________________________________________\n",
      "BatchNorm1d          [128, 10]            256        True      \n",
      "______________________________________________________________________\n",
      "ReLU                 [128, 10]            0          False     \n",
      "______________________________________________________________________\n",
      "AdaptiveAvgPool1d    [128, 1]             0          False     \n",
      "______________________________________________________________________\n",
      "Linear               [1]                  129        True      \n",
      "______________________________________________________________________\n",
      "\n",
      "Total params: 406,049\n",
      "Total trainable params: 406,049\n",
      "Total non-trainable params: 0\n",
      "Optimized with 912448598\n",
      "Using true weight decay as discussed in https://www.fast.ai/2018/07/02/adam-weight-decay/ \n",
      "Loss function : FlattenedLoss\n",
      "======================================================================\n",
      "Callbacks functions applied \n",
      "\n"
     ]
    }
   ],
   "source": [
    "model = arch(db.features, 1, **arch_kwargs).to(device) # c_out must be 1 for regression\n",
    "learn = Learner(db, model, opt_func=opt_func, loss_func=loss_func)\n",
    "learn.save('stage_0')\n",
    "print(learn.model)\n",
    "print(learn.summary())"
   ]
  },
  {
   "cell_type": "code",
   "execution_count": 74,
   "metadata": {
    "scrolled": true
   },
   "outputs": [
    {
     "data": {
      "text/html": [],
      "text/plain": [
       "<IPython.core.display.HTML object>"
      ]
     },
     "metadata": {},
     "output_type": "display_data"
    },
    {
     "name": "stdout",
     "output_type": "stream",
     "text": [
      "LR Finder is complete, type {learner_name}.recorder.plot() to see the graph.\n",
      "Min numerical gradient: 2.51E-01\n",
      "Min loss divided by 10: 3.31E-01\n"
     ]
    },
    {
     "data": {
      "image/png": "[encoded data removed]",
      "text/plain": [
       "<Figure size 432x288 with 1 Axes>"
      ]
     },
     "metadata": {
      "needs_background": "light"
     },
     "output_type": "display_data"
    }
   ],
   "source": [
    "learn.load('stage_0')\n",
    "learn.lr_find()\n",
    "learn.recorder.plot(suggestion=True)"
   ]
  },
  {
   "cell_type": "code",
   "execution_count": 76,
   "metadata": {},
   "outputs": [],
   "source": [
    "epochs = 50         # ✳️ \n",
    "max_lr = 1e-1        # ✳️ \n",
    "warmup = False       # ✳️\n",
    "pct_start = .7       # ✳️\n",
    "metrics = [mean_absolute_error] # ✳️\n",
    "wd = 1e-2"
   ]
  },
  {
   "cell_type": "code",
   "execution_count": 77,
   "metadata": {},
   "outputs": [
    {
     "data": {
      "text/html": [
       "\n",
       "    <div>\n",
       "        <style>\n",
       "            /* Turns off some styling */\n",
       "            progress {\n",
       "                /* gets rid of default border in Firefox and Opera. */\n",
       "                border: none;\n",
       "                /* Needs to be in here for Safari polyfill so background images work as expected. */\n",
       "                background-size: auto;\n",
       "            }\n",
       "            .progress-bar-interrupted, .progress-bar-interrupted::-webkit-progress-bar {\n",
       "                background: #F44336;\n",
       "            }\n",
       "        </style>\n",
       "      <progress value='18' class='' max='50', style='width:300px; height:20px; vertical-align: middle;'></progress>\n",
       "      36.00% [18/50 09:26<16:46]\n",
       "    </div>\n",
       "    \n",
       "<table border=\"1\" class=\"dataframe\">\n",
       "  <thead>\n",
       "    <tr style=\"text-align: left;\">\n",
       "      <th>epoch</th>\n",
       "      <th>train_loss</th>\n",
       "      <th>valid_loss</th>\n",
       "      <th>mean_absolute_error</th>\n",
       "      <th>time</th>\n",
       "    </tr>\n",
       "  </thead>\n",
       "  <tbody>\n",
       "    <tr>\n",
       "      <td>0</td>\n",
       "      <td>6.218374</td>\n",
       "      <td>6.287014</td>\n",
       "      <td>6.251780</td>\n",
       "      <td>00:30</td>\n",
       "    </tr>\n",
       "    <tr>\n",
       "      <td>1</td>\n",
       "      <td>6.074411</td>\n",
       "      <td>6.346800</td>\n",
       "      <td>6.434933</td>\n",
       "      <td>00:30</td>\n",
       "    </tr>\n",
       "    <tr>\n",
       "      <td>2</td>\n",
       "      <td>6.206858</td>\n",
       "      <td>6.344857</td>\n",
       "      <td>6.351645</td>\n",
       "      <td>00:31</td>\n",
       "    </tr>\n",
       "    <tr>\n",
       "      <td>3</td>\n",
       "      <td>6.173813</td>\n",
       "      <td>6.305717</td>\n",
       "      <td>6.348516</td>\n",
       "      <td>00:31</td>\n",
       "    </tr>\n",
       "    <tr>\n",
       "      <td>4</td>\n",
       "      <td>6.111846</td>\n",
       "      <td>6.357029</td>\n",
       "      <td>6.337534</td>\n",
       "      <td>00:32</td>\n",
       "    </tr>\n",
       "    <tr>\n",
       "      <td>5</td>\n",
       "      <td>6.065244</td>\n",
       "      <td>6.303162</td>\n",
       "      <td>6.295411</td>\n",
       "      <td>00:31</td>\n",
       "    </tr>\n",
       "    <tr>\n",
       "      <td>6</td>\n",
       "      <td>6.058973</td>\n",
       "      <td>6.315233</td>\n",
       "      <td>6.315572</td>\n",
       "      <td>00:31</td>\n",
       "    </tr>\n",
       "    <tr>\n",
       "      <td>7</td>\n",
       "      <td>6.032767</td>\n",
       "      <td>6.312510</td>\n",
       "      <td>6.324657</td>\n",
       "      <td>00:31</td>\n",
       "    </tr>\n",
       "    <tr>\n",
       "      <td>8</td>\n",
       "      <td>6.160506</td>\n",
       "      <td>6.295669</td>\n",
       "      <td>6.250458</td>\n",
       "      <td>00:31</td>\n",
       "    </tr>\n",
       "    <tr>\n",
       "      <td>9</td>\n",
       "      <td>6.196882</td>\n",
       "      <td>6.301906</td>\n",
       "      <td>6.280305</td>\n",
       "      <td>00:31</td>\n",
       "    </tr>\n",
       "    <tr>\n",
       "      <td>10</td>\n",
       "      <td>6.072918</td>\n",
       "      <td>6.447175</td>\n",
       "      <td>6.465660</td>\n",
       "      <td>00:31</td>\n",
       "    </tr>\n",
       "    <tr>\n",
       "      <td>11</td>\n",
       "      <td>6.115719</td>\n",
       "      <td>6.302045</td>\n",
       "      <td>6.273054</td>\n",
       "      <td>00:31</td>\n",
       "    </tr>\n",
       "    <tr>\n",
       "      <td>12</td>\n",
       "      <td>6.177387</td>\n",
       "      <td>6.313870</td>\n",
       "      <td>6.354005</td>\n",
       "      <td>00:30</td>\n",
       "    </tr>\n",
       "    <tr>\n",
       "      <td>13</td>\n",
       "      <td>6.176000</td>\n",
       "      <td>6.261348</td>\n",
       "      <td>6.232923</td>\n",
       "      <td>00:32</td>\n",
       "    </tr>\n",
       "    <tr>\n",
       "      <td>14</td>\n",
       "      <td>6.117836</td>\n",
       "      <td>6.325643</td>\n",
       "      <td>6.356165</td>\n",
       "      <td>00:31</td>\n",
       "    </tr>\n",
       "    <tr>\n",
       "      <td>15</td>\n",
       "      <td>6.137880</td>\n",
       "      <td>6.337108</td>\n",
       "      <td>6.345487</td>\n",
       "      <td>00:31</td>\n",
       "    </tr>\n",
       "    <tr>\n",
       "      <td>16</td>\n",
       "      <td>6.008358</td>\n",
       "      <td>6.206276</td>\n",
       "      <td>6.053787</td>\n",
       "      <td>00:31</td>\n",
       "    </tr>\n",
       "    <tr>\n",
       "      <td>17</td>\n",
       "      <td>5.966565</td>\n",
       "      <td>6.334137</td>\n",
       "      <td>6.368525</td>\n",
       "      <td>00:32</td>\n",
       "    </tr>\n",
       "  </tbody>\n",
       "</table><p>\n",
       "\n",
       "    <div>\n",
       "        <style>\n",
       "            /* Turns off some styling */\n",
       "            progress {\n",
       "                /* gets rid of default border in Firefox and Opera. */\n",
       "                border: none;\n",
       "                /* Needs to be in here for Safari polyfill so background images work as expected. */\n",
       "                background-size: auto;\n",
       "            }\n",
       "            .progress-bar-interrupted, .progress-bar-interrupted::-webkit-progress-bar {\n",
       "                background: #F44336;\n",
       "            }\n",
       "        </style>\n",
       "      <progress value='0' class='progress-bar-interrupted' max='1122', style='width:300px; height:20px; vertical-align: middle;'></progress>\n",
       "      Interrupted\n",
       "    </div>\n",
       "    "
      ],
      "text/plain": [
       "<IPython.core.display.HTML object>"
      ]
     },
     "metadata": {},
     "output_type": "display_data"
    },
    {
     "ename": "KeyboardInterrupt",
     "evalue": "",
     "output_type": "error",
     "traceback": [
      "\u001b[0;31m---------------------------------------------------------------------------\u001b[0m",
      "\u001b[0;31mKeyboardInterrupt\u001b[0m                         Traceback (most recent call last)",
      "\u001b[0;32m<ipython-input-77-94cea9a4bda1>\u001b[0m in \u001b[0;36m<module>\u001b[0;34m\u001b[0m\n\u001b[1;32m      2\u001b[0m \u001b[0mlearn\u001b[0m\u001b[0;34m.\u001b[0m\u001b[0mload\u001b[0m\u001b[0;34m(\u001b[0m\u001b[0;34m'stage_0'\u001b[0m\u001b[0;34m)\u001b[0m\u001b[0;34m\u001b[0m\u001b[0;34m\u001b[0m\u001b[0m\n\u001b[1;32m      3\u001b[0m learn.fit_one_cycle(epochs, max_lr=max_lr, pct_start=pct_start, moms=(.95, .85) if warmup else (.95, .95),\n\u001b[0;32m----> 4\u001b[0;31m                     div_factor=25.0 if warmup else 1., wd=wd)\n\u001b[0m\u001b[1;32m      5\u001b[0m \u001b[0mlearn\u001b[0m\u001b[0;34m.\u001b[0m\u001b[0msave\u001b[0m\u001b[0;34m(\u001b[0m\u001b[0;34m'stage_1'\u001b[0m\u001b[0;34m)\u001b[0m\u001b[0;34m\u001b[0m\u001b[0;34m\u001b[0m\u001b[0m\n\u001b[1;32m      6\u001b[0m \u001b[0mlearn\u001b[0m\u001b[0;34m.\u001b[0m\u001b[0mrecorder\u001b[0m\u001b[0;34m.\u001b[0m\u001b[0mplot_lr\u001b[0m\u001b[0;34m(\u001b[0m\u001b[0;34m)\u001b[0m\u001b[0;34m\u001b[0m\u001b[0;34m\u001b[0m\u001b[0m\n",
      "\u001b[0;32m/opt/conda/envs/fastai/lib/python3.6/site-packages/fastai/train.py\u001b[0m in \u001b[0;36mfit_one_cycle\u001b[0;34m(learn, cyc_len, max_lr, moms, div_factor, pct_start, final_div, wd, callbacks, tot_epochs, start_epoch)\u001b[0m\n\u001b[1;32m     21\u001b[0m     callbacks.append(OneCycleScheduler(learn, max_lr, moms=moms, div_factor=div_factor, pct_start=pct_start,\n\u001b[1;32m     22\u001b[0m                                        final_div=final_div, tot_epochs=tot_epochs, start_epoch=start_epoch))\n\u001b[0;32m---> 23\u001b[0;31m     \u001b[0mlearn\u001b[0m\u001b[0;34m.\u001b[0m\u001b[0mfit\u001b[0m\u001b[0;34m(\u001b[0m\u001b[0mcyc_len\u001b[0m\u001b[0;34m,\u001b[0m \u001b[0mmax_lr\u001b[0m\u001b[0;34m,\u001b[0m \u001b[0mwd\u001b[0m\u001b[0;34m=\u001b[0m\u001b[0mwd\u001b[0m\u001b[0;34m,\u001b[0m \u001b[0mcallbacks\u001b[0m\u001b[0;34m=\u001b[0m\u001b[0mcallbacks\u001b[0m\u001b[0;34m)\u001b[0m\u001b[0;34m\u001b[0m\u001b[0;34m\u001b[0m\u001b[0m\n\u001b[0m\u001b[1;32m     24\u001b[0m \u001b[0;34m\u001b[0m\u001b[0m\n\u001b[1;32m     25\u001b[0m def fit_fc(learn:Learner, tot_epochs:int=1, lr:float=defaults.lr,  moms:Tuple[float,float]=(0.95,0.85), start_pct:float=0.72,\n",
      "\u001b[0;32m/opt/conda/envs/fastai/lib/python3.6/site-packages/fastai/basic_train.py\u001b[0m in \u001b[0;36mfit\u001b[0;34m(self, epochs, lr, wd, callbacks)\u001b[0m\n\u001b[1;32m    198\u001b[0m         \u001b[0;32melse\u001b[0m\u001b[0;34m:\u001b[0m \u001b[0mself\u001b[0m\u001b[0;34m.\u001b[0m\u001b[0mopt\u001b[0m\u001b[0;34m.\u001b[0m\u001b[0mlr\u001b[0m\u001b[0;34m,\u001b[0m\u001b[0mself\u001b[0m\u001b[0;34m.\u001b[0m\u001b[0mopt\u001b[0m\u001b[0;34m.\u001b[0m\u001b[0mwd\u001b[0m \u001b[0;34m=\u001b[0m \u001b[0mlr\u001b[0m\u001b[0;34m,\u001b[0m\u001b[0mwd\u001b[0m\u001b[0;34m\u001b[0m\u001b[0;34m\u001b[0m\u001b[0m\n\u001b[1;32m    199\u001b[0m         \u001b[0mcallbacks\u001b[0m \u001b[0;34m=\u001b[0m \u001b[0;34m[\u001b[0m\u001b[0mcb\u001b[0m\u001b[0;34m(\u001b[0m\u001b[0mself\u001b[0m\u001b[0;34m)\u001b[0m \u001b[0;32mfor\u001b[0m \u001b[0mcb\u001b[0m \u001b[0;32min\u001b[0m \u001b[0mself\u001b[0m\u001b[0;34m.\u001b[0m\u001b[0mcallback_fns\u001b[0m \u001b[0;34m+\u001b[0m \u001b[0mlistify\u001b[0m\u001b[0;34m(\u001b[0m\u001b[0mdefaults\u001b[0m\u001b[0;34m.\u001b[0m\u001b[0mextra_callback_fns\u001b[0m\u001b[0;34m)\u001b[0m\u001b[0;34m]\u001b[0m \u001b[0;34m+\u001b[0m \u001b[0mlistify\u001b[0m\u001b[0;34m(\u001b[0m\u001b[0mcallbacks\u001b[0m\u001b[0;34m)\u001b[0m\u001b[0;34m\u001b[0m\u001b[0;34m\u001b[0m\u001b[0m\n\u001b[0;32m--> 200\u001b[0;31m         \u001b[0mfit\u001b[0m\u001b[0;34m(\u001b[0m\u001b[0mepochs\u001b[0m\u001b[0;34m,\u001b[0m \u001b[0mself\u001b[0m\u001b[0;34m,\u001b[0m \u001b[0mmetrics\u001b[0m\u001b[0;34m=\u001b[0m\u001b[0mself\u001b[0m\u001b[0;34m.\u001b[0m\u001b[0mmetrics\u001b[0m\u001b[0;34m,\u001b[0m \u001b[0mcallbacks\u001b[0m\u001b[0;34m=\u001b[0m\u001b[0mself\u001b[0m\u001b[0;34m.\u001b[0m\u001b[0mcallbacks\u001b[0m\u001b[0;34m+\u001b[0m\u001b[0mcallbacks\u001b[0m\u001b[0;34m)\u001b[0m\u001b[0;34m\u001b[0m\u001b[0;34m\u001b[0m\u001b[0m\n\u001b[0m\u001b[1;32m    201\u001b[0m \u001b[0;34m\u001b[0m\u001b[0m\n\u001b[1;32m    202\u001b[0m     \u001b[0;32mdef\u001b[0m \u001b[0mcreate_opt\u001b[0m\u001b[0;34m(\u001b[0m\u001b[0mself\u001b[0m\u001b[0;34m,\u001b[0m \u001b[0mlr\u001b[0m\u001b[0;34m:\u001b[0m\u001b[0mFloats\u001b[0m\u001b[0;34m,\u001b[0m \u001b[0mwd\u001b[0m\u001b[0;34m:\u001b[0m\u001b[0mFloats\u001b[0m\u001b[0;34m=\u001b[0m\u001b[0;36m0.\u001b[0m\u001b[0;34m)\u001b[0m\u001b[0;34m->\u001b[0m\u001b[0;32mNone\u001b[0m\u001b[0;34m:\u001b[0m\u001b[0;34m\u001b[0m\u001b[0;34m\u001b[0m\u001b[0m\n",
      "\u001b[0;32m/opt/conda/envs/fastai/lib/python3.6/site-packages/fastai/basic_train.py\u001b[0m in \u001b[0;36mfit\u001b[0;34m(epochs, learn, callbacks, metrics)\u001b[0m\n\u001b[1;32m     99\u001b[0m             \u001b[0;32mfor\u001b[0m \u001b[0mxb\u001b[0m\u001b[0;34m,\u001b[0m\u001b[0myb\u001b[0m \u001b[0;32min\u001b[0m \u001b[0mprogress_bar\u001b[0m\u001b[0;34m(\u001b[0m\u001b[0mlearn\u001b[0m\u001b[0;34m.\u001b[0m\u001b[0mdata\u001b[0m\u001b[0;34m.\u001b[0m\u001b[0mtrain_dl\u001b[0m\u001b[0;34m,\u001b[0m \u001b[0mparent\u001b[0m\u001b[0;34m=\u001b[0m\u001b[0mpbar\u001b[0m\u001b[0;34m)\u001b[0m\u001b[0;34m:\u001b[0m\u001b[0;34m\u001b[0m\u001b[0;34m\u001b[0m\u001b[0m\n\u001b[1;32m    100\u001b[0m                 \u001b[0mxb\u001b[0m\u001b[0;34m,\u001b[0m \u001b[0myb\u001b[0m \u001b[0;34m=\u001b[0m \u001b[0mcb_handler\u001b[0m\u001b[0;34m.\u001b[0m\u001b[0mon_batch_begin\u001b[0m\u001b[0;34m(\u001b[0m\u001b[0mxb\u001b[0m\u001b[0;34m,\u001b[0m \u001b[0myb\u001b[0m\u001b[0;34m)\u001b[0m\u001b[0;34m\u001b[0m\u001b[0;34m\u001b[0m\u001b[0m\n\u001b[0;32m--> 101\u001b[0;31m                 \u001b[0mloss\u001b[0m \u001b[0;34m=\u001b[0m \u001b[0mloss_batch\u001b[0m\u001b[0;34m(\u001b[0m\u001b[0mlearn\u001b[0m\u001b[0;34m.\u001b[0m\u001b[0mmodel\u001b[0m\u001b[0;34m,\u001b[0m \u001b[0mxb\u001b[0m\u001b[0;34m,\u001b[0m \u001b[0myb\u001b[0m\u001b[0;34m,\u001b[0m \u001b[0mlearn\u001b[0m\u001b[0;34m.\u001b[0m\u001b[0mloss_func\u001b[0m\u001b[0;34m,\u001b[0m \u001b[0mlearn\u001b[0m\u001b[0;34m.\u001b[0m\u001b[0mopt\u001b[0m\u001b[0;34m,\u001b[0m \u001b[0mcb_handler\u001b[0m\u001b[0;34m)\u001b[0m\u001b[0;34m\u001b[0m\u001b[0;34m\u001b[0m\u001b[0m\n\u001b[0m\u001b[1;32m    102\u001b[0m                 \u001b[0;32mif\u001b[0m \u001b[0mcb_handler\u001b[0m\u001b[0;34m.\u001b[0m\u001b[0mon_batch_end\u001b[0m\u001b[0;34m(\u001b[0m\u001b[0mloss\u001b[0m\u001b[0;34m)\u001b[0m\u001b[0;34m:\u001b[0m \u001b[0;32mbreak\u001b[0m\u001b[0;34m\u001b[0m\u001b[0;34m\u001b[0m\u001b[0m\n\u001b[1;32m    103\u001b[0m \u001b[0;34m\u001b[0m\u001b[0m\n",
      "\u001b[0;32m/opt/conda/envs/fastai/lib/python3.6/site-packages/fastai/basic_train.py\u001b[0m in \u001b[0;36mloss_batch\u001b[0;34m(model, xb, yb, loss_func, opt, cb_handler)\u001b[0m\n\u001b[1;32m     24\u001b[0m     \u001b[0;32mif\u001b[0m \u001b[0;32mnot\u001b[0m \u001b[0mis_listy\u001b[0m\u001b[0;34m(\u001b[0m\u001b[0mxb\u001b[0m\u001b[0;34m)\u001b[0m\u001b[0;34m:\u001b[0m \u001b[0mxb\u001b[0m \u001b[0;34m=\u001b[0m \u001b[0;34m[\u001b[0m\u001b[0mxb\u001b[0m\u001b[0;34m]\u001b[0m\u001b[0;34m\u001b[0m\u001b[0;34m\u001b[0m\u001b[0m\n\u001b[1;32m     25\u001b[0m     \u001b[0;32mif\u001b[0m \u001b[0;32mnot\u001b[0m \u001b[0mis_listy\u001b[0m\u001b[0;34m(\u001b[0m\u001b[0myb\u001b[0m\u001b[0;34m)\u001b[0m\u001b[0;34m:\u001b[0m \u001b[0myb\u001b[0m \u001b[0;34m=\u001b[0m \u001b[0;34m[\u001b[0m\u001b[0myb\u001b[0m\u001b[0;34m]\u001b[0m\u001b[0;34m\u001b[0m\u001b[0;34m\u001b[0m\u001b[0m\n\u001b[0;32m---> 26\u001b[0;31m     \u001b[0mout\u001b[0m \u001b[0;34m=\u001b[0m \u001b[0mmodel\u001b[0m\u001b[0;34m(\u001b[0m\u001b[0;34m*\u001b[0m\u001b[0mxb\u001b[0m\u001b[0;34m)\u001b[0m\u001b[0;34m\u001b[0m\u001b[0;34m\u001b[0m\u001b[0m\n\u001b[0m\u001b[1;32m     27\u001b[0m     \u001b[0mout\u001b[0m \u001b[0;34m=\u001b[0m \u001b[0mcb_handler\u001b[0m\u001b[0;34m.\u001b[0m\u001b[0mon_loss_begin\u001b[0m\u001b[0;34m(\u001b[0m\u001b[0mout\u001b[0m\u001b[0;34m)\u001b[0m\u001b[0;34m\u001b[0m\u001b[0;34m\u001b[0m\u001b[0m\n\u001b[1;32m     28\u001b[0m \u001b[0;34m\u001b[0m\u001b[0m\n",
      "\u001b[0;32m/opt/conda/envs/fastai/lib/python3.6/site-packages/torch/nn/modules/module.py\u001b[0m in \u001b[0;36m__call__\u001b[0;34m(self, *input, **kwargs)\u001b[0m\n\u001b[1;32m    487\u001b[0m             \u001b[0mresult\u001b[0m \u001b[0;34m=\u001b[0m \u001b[0mself\u001b[0m\u001b[0;34m.\u001b[0m\u001b[0m_slow_forward\u001b[0m\u001b[0;34m(\u001b[0m\u001b[0;34m*\u001b[0m\u001b[0minput\u001b[0m\u001b[0;34m,\u001b[0m \u001b[0;34m**\u001b[0m\u001b[0mkwargs\u001b[0m\u001b[0;34m)\u001b[0m\u001b[0;34m\u001b[0m\u001b[0;34m\u001b[0m\u001b[0m\n\u001b[1;32m    488\u001b[0m         \u001b[0;32melse\u001b[0m\u001b[0;34m:\u001b[0m\u001b[0;34m\u001b[0m\u001b[0;34m\u001b[0m\u001b[0m\n\u001b[0;32m--> 489\u001b[0;31m             \u001b[0mresult\u001b[0m \u001b[0;34m=\u001b[0m \u001b[0mself\u001b[0m\u001b[0;34m.\u001b[0m\u001b[0mforward\u001b[0m\u001b[0;34m(\u001b[0m\u001b[0;34m*\u001b[0m\u001b[0minput\u001b[0m\u001b[0;34m,\u001b[0m \u001b[0;34m**\u001b[0m\u001b[0mkwargs\u001b[0m\u001b[0;34m)\u001b[0m\u001b[0;34m\u001b[0m\u001b[0;34m\u001b[0m\u001b[0m\n\u001b[0m\u001b[1;32m    490\u001b[0m         \u001b[0;32mfor\u001b[0m \u001b[0mhook\u001b[0m \u001b[0;32min\u001b[0m \u001b[0mself\u001b[0m\u001b[0;34m.\u001b[0m\u001b[0m_forward_hooks\u001b[0m\u001b[0;34m.\u001b[0m\u001b[0mvalues\u001b[0m\u001b[0;34m(\u001b[0m\u001b[0;34m)\u001b[0m\u001b[0;34m:\u001b[0m\u001b[0;34m\u001b[0m\u001b[0;34m\u001b[0m\u001b[0m\n\u001b[1;32m    491\u001b[0m             \u001b[0mhook_result\u001b[0m \u001b[0;34m=\u001b[0m \u001b[0mhook\u001b[0m\u001b[0;34m(\u001b[0m\u001b[0mself\u001b[0m\u001b[0;34m,\u001b[0m \u001b[0minput\u001b[0m\u001b[0;34m,\u001b[0m \u001b[0mresult\u001b[0m\u001b[0;34m)\u001b[0m\u001b[0;34m\u001b[0m\u001b[0;34m\u001b[0m\u001b[0m\n",
      "\u001b[0;32m/storage/timeseriesAI/torchtimeseries/models/InceptionTime.py\u001b[0m in \u001b[0;36mforward\u001b[0;34m(self, x)\u001b[0m\n\u001b[1;32m     91\u001b[0m \u001b[0;34m\u001b[0m\u001b[0m\n\u001b[1;32m     92\u001b[0m     \u001b[0;32mdef\u001b[0m \u001b[0mforward\u001b[0m\u001b[0;34m(\u001b[0m\u001b[0mself\u001b[0m\u001b[0;34m,\u001b[0m \u001b[0mx\u001b[0m\u001b[0;34m)\u001b[0m\u001b[0;34m:\u001b[0m\u001b[0;34m\u001b[0m\u001b[0;34m\u001b[0m\u001b[0m\n\u001b[0;32m---> 93\u001b[0;31m         \u001b[0mx\u001b[0m \u001b[0;34m=\u001b[0m \u001b[0mself\u001b[0m\u001b[0;34m.\u001b[0m\u001b[0mblock\u001b[0m\u001b[0;34m(\u001b[0m\u001b[0mx\u001b[0m\u001b[0;34m)\u001b[0m\u001b[0;34m\u001b[0m\u001b[0;34m\u001b[0m\u001b[0m\n\u001b[0m\u001b[1;32m     94\u001b[0m         \u001b[0mx\u001b[0m \u001b[0;34m=\u001b[0m \u001b[0mself\u001b[0m\u001b[0;34m.\u001b[0m\u001b[0mgap\u001b[0m\u001b[0;34m(\u001b[0m\u001b[0mx\u001b[0m\u001b[0;34m)\u001b[0m\u001b[0;34m.\u001b[0m\u001b[0msqueeze\u001b[0m\u001b[0;34m(\u001b[0m\u001b[0;34m-\u001b[0m\u001b[0;36m1\u001b[0m\u001b[0;34m)\u001b[0m\u001b[0;34m\u001b[0m\u001b[0;34m\u001b[0m\u001b[0m\n\u001b[1;32m     95\u001b[0m         \u001b[0mx\u001b[0m \u001b[0;34m=\u001b[0m \u001b[0mself\u001b[0m\u001b[0;34m.\u001b[0m\u001b[0mfc\u001b[0m\u001b[0;34m(\u001b[0m\u001b[0mx\u001b[0m\u001b[0;34m)\u001b[0m\u001b[0;34m\u001b[0m\u001b[0;34m\u001b[0m\u001b[0m\n",
      "\u001b[0;32m/opt/conda/envs/fastai/lib/python3.6/site-packages/torch/nn/modules/module.py\u001b[0m in \u001b[0;36m__call__\u001b[0;34m(self, *input, **kwargs)\u001b[0m\n\u001b[1;32m    487\u001b[0m             \u001b[0mresult\u001b[0m \u001b[0;34m=\u001b[0m \u001b[0mself\u001b[0m\u001b[0;34m.\u001b[0m\u001b[0m_slow_forward\u001b[0m\u001b[0;34m(\u001b[0m\u001b[0;34m*\u001b[0m\u001b[0minput\u001b[0m\u001b[0;34m,\u001b[0m \u001b[0;34m**\u001b[0m\u001b[0mkwargs\u001b[0m\u001b[0;34m)\u001b[0m\u001b[0;34m\u001b[0m\u001b[0;34m\u001b[0m\u001b[0m\n\u001b[1;32m    488\u001b[0m         \u001b[0;32melse\u001b[0m\u001b[0;34m:\u001b[0m\u001b[0;34m\u001b[0m\u001b[0;34m\u001b[0m\u001b[0m\n\u001b[0;32m--> 489\u001b[0;31m             \u001b[0mresult\u001b[0m \u001b[0;34m=\u001b[0m \u001b[0mself\u001b[0m\u001b[0;34m.\u001b[0m\u001b[0mforward\u001b[0m\u001b[0;34m(\u001b[0m\u001b[0;34m*\u001b[0m\u001b[0minput\u001b[0m\u001b[0;34m,\u001b[0m \u001b[0;34m**\u001b[0m\u001b[0mkwargs\u001b[0m\u001b[0;34m)\u001b[0m\u001b[0;34m\u001b[0m\u001b[0;34m\u001b[0m\u001b[0m\n\u001b[0m\u001b[1;32m    490\u001b[0m         \u001b[0;32mfor\u001b[0m \u001b[0mhook\u001b[0m \u001b[0;32min\u001b[0m \u001b[0mself\u001b[0m\u001b[0;34m.\u001b[0m\u001b[0m_forward_hooks\u001b[0m\u001b[0;34m.\u001b[0m\u001b[0mvalues\u001b[0m\u001b[0;34m(\u001b[0m\u001b[0;34m)\u001b[0m\u001b[0;34m:\u001b[0m\u001b[0;34m\u001b[0m\u001b[0;34m\u001b[0m\u001b[0m\n\u001b[1;32m    491\u001b[0m             \u001b[0mhook_result\u001b[0m \u001b[0;34m=\u001b[0m \u001b[0mhook\u001b[0m\u001b[0;34m(\u001b[0m\u001b[0mself\u001b[0m\u001b[0;34m,\u001b[0m \u001b[0minput\u001b[0m\u001b[0;34m,\u001b[0m \u001b[0mresult\u001b[0m\u001b[0;34m)\u001b[0m\u001b[0;34m\u001b[0m\u001b[0;34m\u001b[0m\u001b[0m\n",
      "\u001b[0;32m/storage/timeseriesAI/torchtimeseries/models/InceptionTime.py\u001b[0m in \u001b[0;36mforward\u001b[0;34m(self, x)\u001b[0m\n\u001b[1;32m     74\u001b[0m         \u001b[0mres\u001b[0m \u001b[0;34m=\u001b[0m \u001b[0mx\u001b[0m\u001b[0;34m\u001b[0m\u001b[0;34m\u001b[0m\u001b[0m\n\u001b[1;32m     75\u001b[0m         \u001b[0;32mfor\u001b[0m \u001b[0md\u001b[0m\u001b[0;34m,\u001b[0m \u001b[0ml\u001b[0m \u001b[0;32min\u001b[0m \u001b[0menumerate\u001b[0m\u001b[0;34m(\u001b[0m\u001b[0mrange\u001b[0m\u001b[0;34m(\u001b[0m\u001b[0mself\u001b[0m\u001b[0;34m.\u001b[0m\u001b[0mdepth\u001b[0m\u001b[0;34m)\u001b[0m\u001b[0;34m)\u001b[0m\u001b[0;34m:\u001b[0m\u001b[0;34m\u001b[0m\u001b[0;34m\u001b[0m\u001b[0m\n\u001b[0;32m---> 76\u001b[0;31m             \u001b[0mx\u001b[0m \u001b[0;34m=\u001b[0m \u001b[0mself\u001b[0m\u001b[0;34m.\u001b[0m\u001b[0minc_mods\u001b[0m\u001b[0;34m[\u001b[0m\u001b[0md\u001b[0m\u001b[0;34m]\u001b[0m\u001b[0;34m(\u001b[0m\u001b[0mx\u001b[0m\u001b[0;34m)\u001b[0m\u001b[0;34m\u001b[0m\u001b[0;34m\u001b[0m\u001b[0m\n\u001b[0m\u001b[1;32m     77\u001b[0m             \u001b[0;32mif\u001b[0m \u001b[0mself\u001b[0m\u001b[0;34m.\u001b[0m\u001b[0mresidual\u001b[0m \u001b[0;32mand\u001b[0m \u001b[0md\u001b[0m \u001b[0;34m%\u001b[0m \u001b[0;36m3\u001b[0m \u001b[0;34m==\u001b[0m \u001b[0;36m2\u001b[0m\u001b[0;34m:\u001b[0m\u001b[0;34m\u001b[0m\u001b[0;34m\u001b[0m\u001b[0m\n\u001b[1;32m     78\u001b[0m                 \u001b[0mres\u001b[0m \u001b[0;34m=\u001b[0m \u001b[0mself\u001b[0m\u001b[0;34m.\u001b[0m\u001b[0mres_layers\u001b[0m\u001b[0;34m[\u001b[0m\u001b[0md\u001b[0m\u001b[0;34m]\u001b[0m\u001b[0;34m(\u001b[0m\u001b[0mres\u001b[0m\u001b[0;34m)\u001b[0m\u001b[0;34m\u001b[0m\u001b[0;34m\u001b[0m\u001b[0m\n",
      "\u001b[0;32m/opt/conda/envs/fastai/lib/python3.6/site-packages/torch/nn/modules/module.py\u001b[0m in \u001b[0;36m__call__\u001b[0;34m(self, *input, **kwargs)\u001b[0m\n\u001b[1;32m    487\u001b[0m             \u001b[0mresult\u001b[0m \u001b[0;34m=\u001b[0m \u001b[0mself\u001b[0m\u001b[0;34m.\u001b[0m\u001b[0m_slow_forward\u001b[0m\u001b[0;34m(\u001b[0m\u001b[0;34m*\u001b[0m\u001b[0minput\u001b[0m\u001b[0;34m,\u001b[0m \u001b[0;34m**\u001b[0m\u001b[0mkwargs\u001b[0m\u001b[0;34m)\u001b[0m\u001b[0;34m\u001b[0m\u001b[0;34m\u001b[0m\u001b[0m\n\u001b[1;32m    488\u001b[0m         \u001b[0;32melse\u001b[0m\u001b[0;34m:\u001b[0m\u001b[0;34m\u001b[0m\u001b[0;34m\u001b[0m\u001b[0m\n\u001b[0;32m--> 489\u001b[0;31m             \u001b[0mresult\u001b[0m \u001b[0;34m=\u001b[0m \u001b[0mself\u001b[0m\u001b[0;34m.\u001b[0m\u001b[0mforward\u001b[0m\u001b[0;34m(\u001b[0m\u001b[0;34m*\u001b[0m\u001b[0minput\u001b[0m\u001b[0;34m,\u001b[0m \u001b[0;34m**\u001b[0m\u001b[0mkwargs\u001b[0m\u001b[0;34m)\u001b[0m\u001b[0;34m\u001b[0m\u001b[0;34m\u001b[0m\u001b[0m\n\u001b[0m\u001b[1;32m    490\u001b[0m         \u001b[0;32mfor\u001b[0m \u001b[0mhook\u001b[0m \u001b[0;32min\u001b[0m \u001b[0mself\u001b[0m\u001b[0;34m.\u001b[0m\u001b[0m_forward_hooks\u001b[0m\u001b[0;34m.\u001b[0m\u001b[0mvalues\u001b[0m\u001b[0;34m(\u001b[0m\u001b[0;34m)\u001b[0m\u001b[0;34m:\u001b[0m\u001b[0;34m\u001b[0m\u001b[0;34m\u001b[0m\u001b[0m\n\u001b[1;32m    491\u001b[0m             \u001b[0mhook_result\u001b[0m \u001b[0;34m=\u001b[0m \u001b[0mhook\u001b[0m\u001b[0;34m(\u001b[0m\u001b[0mself\u001b[0m\u001b[0;34m,\u001b[0m \u001b[0minput\u001b[0m\u001b[0;34m,\u001b[0m \u001b[0mresult\u001b[0m\u001b[0;34m)\u001b[0m\u001b[0;34m\u001b[0m\u001b[0;34m\u001b[0m\u001b[0m\n",
      "\u001b[0;32m/storage/timeseriesAI/torchtimeseries/models/InceptionTime.py\u001b[0m in \u001b[0;36mforward\u001b[0;34m(self, x)\u001b[0m\n\u001b[1;32m     41\u001b[0m             \u001b[0mout_\u001b[0m \u001b[0;34m=\u001b[0m \u001b[0mself\u001b[0m\u001b[0;34m.\u001b[0m\u001b[0mconv_layers\u001b[0m\u001b[0;34m[\u001b[0m\u001b[0mi\u001b[0m\u001b[0;34m]\u001b[0m\u001b[0;34m(\u001b[0m\u001b[0mx\u001b[0m\u001b[0;34m)\u001b[0m\u001b[0;34m\u001b[0m\u001b[0;34m\u001b[0m\u001b[0m\n\u001b[1;32m     42\u001b[0m             \u001b[0;32mif\u001b[0m \u001b[0mi\u001b[0m \u001b[0;34m==\u001b[0m \u001b[0;36m0\u001b[0m\u001b[0;34m:\u001b[0m \u001b[0mout\u001b[0m \u001b[0;34m=\u001b[0m \u001b[0mout_\u001b[0m\u001b[0;34m\u001b[0m\u001b[0;34m\u001b[0m\u001b[0m\n\u001b[0;32m---> 43\u001b[0;31m             \u001b[0;32melse\u001b[0m\u001b[0;34m:\u001b[0m \u001b[0mout\u001b[0m \u001b[0;34m=\u001b[0m \u001b[0mtorch\u001b[0m\u001b[0;34m.\u001b[0m\u001b[0mcat\u001b[0m\u001b[0;34m(\u001b[0m\u001b[0;34m(\u001b[0m\u001b[0mout\u001b[0m\u001b[0;34m,\u001b[0m \u001b[0mout_\u001b[0m\u001b[0;34m)\u001b[0m\u001b[0;34m,\u001b[0m \u001b[0;36m1\u001b[0m\u001b[0;34m)\u001b[0m\u001b[0;34m\u001b[0m\u001b[0;34m\u001b[0m\u001b[0m\n\u001b[0m\u001b[1;32m     44\u001b[0m         \u001b[0mmp\u001b[0m \u001b[0;34m=\u001b[0m \u001b[0mself\u001b[0m\u001b[0;34m.\u001b[0m\u001b[0mconv\u001b[0m\u001b[0;34m(\u001b[0m\u001b[0mself\u001b[0m\u001b[0;34m.\u001b[0m\u001b[0mmaxpool\u001b[0m\u001b[0;34m(\u001b[0m\u001b[0minput_tensor\u001b[0m\u001b[0;34m)\u001b[0m\u001b[0;34m)\u001b[0m\u001b[0;34m\u001b[0m\u001b[0;34m\u001b[0m\u001b[0m\n\u001b[1;32m     45\u001b[0m         \u001b[0minc_out\u001b[0m \u001b[0;34m=\u001b[0m \u001b[0mtorch\u001b[0m\u001b[0;34m.\u001b[0m\u001b[0mcat\u001b[0m\u001b[0;34m(\u001b[0m\u001b[0;34m(\u001b[0m\u001b[0mout\u001b[0m\u001b[0;34m,\u001b[0m \u001b[0mmp\u001b[0m\u001b[0;34m)\u001b[0m\u001b[0;34m,\u001b[0m \u001b[0;36m1\u001b[0m\u001b[0;34m)\u001b[0m\u001b[0;34m\u001b[0m\u001b[0;34m\u001b[0m\u001b[0m\n",
      "\u001b[0;31mKeyboardInterrupt\u001b[0m: "
     ]
    }
   ],
   "source": [
    "learn.metrics = metrics\n",
    "learn.load('stage_0')\n",
    "learn.fit_one_cycle(epochs, max_lr=max_lr, pct_start=pct_start, moms=(.95, .85) if warmup else (.95, .95),\n",
    "                    div_factor=25.0 if warmup else 1., wd=wd)\n",
    "learn.save('stage_1')\n",
    "learn.recorder.plot_lr()\n",
    "learn.recorder.plot_losses()\n",
    "learn.recorder.plot_metrics()"
   ]
  },
  {
   "cell_type": "code",
   "execution_count": null,
   "metadata": {},
   "outputs": [],
   "source": [
    "test_data = TimeSeriesList(X_test)\n",
    "db.add_test(test_data)"
   ]
  },
  {
   "cell_type": "code",
   "execution_count": null,
   "metadata": {},
   "outputs": [],
   "source": [
    "preds, _ = learn.get_preds(DatasetType.Test)"
   ]
  },
  {
   "cell_type": "code",
   "execution_count": null,
   "metadata": {
    "scrolled": true
   },
   "outputs": [],
   "source": [
    "mae(preds,torch.tensor(y_test))"
   ]
  },
  {
   "cell_type": "markdown",
   "metadata": {},
   "source": [
    "The model seems to train as intended, but doesn't learn anything useful. It even performs worse than a simple average over the window. It's not suprising that it wouldn't perform BETTER - there may just not be much information beyond the average. But it's odd that it performs so much WORSE - it ought to be able to learn to compute an average. So I suspect something is wrong in the setup."
   ]
  },
  {
   "cell_type": "code",
   "execution_count": 37,
   "metadata": {},
   "outputs": [],
   "source": [
    "# older make features, with various stuff I tested that I want to hold onto\n",
    "\n",
    "def make_features(pdf):\n",
    "    # categorical features\n",
    "#     pdf = pdf.assign(\n",
    "#         opponent=pdf['MATCHUP'].apply(lambda x: x.split()[-1]),\n",
    "#         team=pdf['TEAM_ABBREVIATION']\n",
    "#     )\n",
    "\n",
    "#     cat_features = ['team', 'opponent']\n",
    "\n",
    "    # create date features\n",
    "#     pdf = pdf.assign(\n",
    "#         dayofweek=pdf['date'].dt.weekday,\n",
    "#         quarter=pdf['date'].dt.quarter,\n",
    "#         month=pdf['date'].dt.month,\n",
    "#         year=pdf['date'].dt.year,\n",
    "#         dayofmonth=pdf['date'].dt.day,\n",
    "#         dayofyear=pdf['date'].dt.dayofyear,\n",
    "#         weekofyear=pdf['date'].dt.weekofyear,\n",
    "#         days_since_game=(pdf['date'] - pdf['date'].shift()).dt.days\n",
    "#     )\n",
    "\n",
    "    date_features = ['dayofweek', 'quarter', 'month', 'year',\n",
    "           'dayofmonth', 'dayofyear', 'weekofyear', 'days_since_game']\n",
    "\n",
    "    cont_features = ['MIN', 'FGM', 'FGA', 'FG_PCT', 'FG3M', 'FG3A', 'FG3_PCT', 'FTM',\n",
    "           'FTA', 'FT_PCT', 'OREB', 'DREB', 'REB', 'AST', 'TOV', 'STL', 'BLK',\n",
    "           'BLKA', 'PF', 'PFD', 'PTS', 'PLUS_MINUS', 'NBA_FANTASY_PTS']\n",
    "\n",
    "    # statistical features\n",
    "    focus = 'PTS'\n",
    "    \n",
    "    pdf = pdf.assign(\n",
    "        target=pdf[focus].shift(-1),\n",
    "        sample_mean=pdf[focus].expanding().mean(),\n",
    "        ewma=pdf[focus].ewm(alpha=0.1).mean(),\n",
    "        last_day=pdf[focus],\n",
    "        home=pdf['MATCHUP'].shift(-1).apply(lambda x: x if type(x)==np.float else int(x.split()[1]=='vs.'))\n",
    "    )\n",
    "    # you could also try these same sort of statistical features for other raw values\n",
    "    \n",
    "    stat_features = [last_day', 'sample_mean', 'ewma', 'home', 'target']\n",
    "    \n",
    "    #     features = pdf[cat_features + date_features + cont_features + stat_features].copy()\n",
    "    features = pdf[stat_features].copy()\n",
    "\n",
    "    features = features[1:-1] # drop rows with missing data\n",
    "\n",
    "    return features"
   ]
  }
 ],
 "metadata": {
  "kernelspec": {
   "display_name": "Python 3",
   "language": "python",
   "name": "python3"
  }
 },
 "nbformat": 4,
 "nbformat_minor": 2
}
