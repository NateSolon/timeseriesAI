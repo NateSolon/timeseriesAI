{
 "cells": [
  {
   "cell_type": "code",
   "execution_count": 2,
   "metadata": {},
   "outputs": [],
   "source": [
    "%matplotlib inline"
   ]
  },
  {
   "cell_type": "code",
   "execution_count": 3,
   "metadata": {},
   "outputs": [],
   "source": [
    "import pandas as pd\n",
    "import numpy as np\n",
    "import matplotlib.pyplot as plt"
   ]
  },
  {
   "cell_type": "code",
   "execution_count": 7,
   "metadata": {
    "scrolled": true
   },
   "outputs": [
    {
     "name": "stdout",
     "output_type": "stream",
     "text": [
      "Requirement already satisfied: keras in /opt/conda/envs/fastai/lib/python3.6/site-packages (2.3.1)\n",
      "Collecting tensorflow\n",
      "\u001b[?25l  Downloading https://files.pythonhosted.org/packages/de/f0/96fb2e0412ae9692dbf400e5b04432885f677ad6241c088ccc5fe7724d69/tensorflow-1.14.0-cp36-cp36m-manylinux1_x86_64.whl (109.2MB)\n",
      "\u001b[K    100% |████████████████████████████████| 109.2MB 403kB/s eta 0:00:01   35% |███████████▍                    | 38.8MB 49.5MB/s eta 0:00:02\n",
      "\u001b[?25hRequirement already satisfied: scipy>=0.14 in /opt/conda/envs/fastai/lib/python3.6/site-packages (from keras) (1.2.0)\n",
      "Requirement already satisfied: numpy>=1.9.1 in /opt/conda/envs/fastai/lib/python3.6/site-packages (from keras) (1.17.2)\n",
      "Requirement already satisfied: h5py in /opt/conda/envs/fastai/lib/python3.6/site-packages (from keras) (2.10.0)\n",
      "Requirement already satisfied: keras-applications>=1.0.6 in /opt/conda/envs/fastai/lib/python3.6/site-packages (from keras) (1.0.8)\n",
      "Requirement already satisfied: keras-preprocessing>=1.0.5 in /opt/conda/envs/fastai/lib/python3.6/site-packages (from keras) (1.1.0)\n",
      "Requirement already satisfied: six>=1.9.0 in /opt/conda/envs/fastai/lib/python3.6/site-packages (from keras) (1.12.0)\n",
      "Requirement already satisfied: pyyaml in /opt/conda/envs/fastai/lib/python3.6/site-packages (from keras) (3.13)\n",
      "Collecting absl-py>=0.7.0 (from tensorflow)\n",
      "\u001b[?25l  Downloading https://files.pythonhosted.org/packages/3b/72/e6e483e2db953c11efa44ee21c5fdb6505c4dffa447b4263ca8af6676b62/absl-py-0.8.1.tar.gz (103kB)\n",
      "\u001b[K    100% |████████████████████████████████| 112kB 40.4MB/s ta 0:00:01\n",
      "\u001b[?25hRequirement already satisfied: wheel>=0.26 in /opt/conda/envs/fastai/lib/python3.6/site-packages (from tensorflow) (0.32.3)\n",
      "Collecting wrapt>=1.11.1 (from tensorflow)\n",
      "  Downloading https://files.pythonhosted.org/packages/23/84/323c2415280bc4fc880ac5050dddfb3c8062c2552b34c2e512eb4aa68f79/wrapt-1.11.2.tar.gz\n",
      "Collecting astor>=0.6.0 (from tensorflow)\n",
      "  Downloading https://files.pythonhosted.org/packages/d1/4f/950dfae467b384fc96bc6469de25d832534f6b4441033c39f914efd13418/astor-0.8.0-py2.py3-none-any.whl\n",
      "Collecting tensorflow-estimator<1.15.0rc0,>=1.14.0rc0 (from tensorflow)\n",
      "\u001b[?25l  Downloading https://files.pythonhosted.org/packages/3c/d5/21860a5b11caf0678fbc8319341b0ae21a07156911132e0e71bffed0510d/tensorflow_estimator-1.14.0-py2.py3-none-any.whl (488kB)\n",
      "\u001b[K    100% |████████████████████████████████| 491kB 30.4MB/s ta 0:00:01\n",
      "\u001b[?25hCollecting gast>=0.2.0 (from tensorflow)\n",
      "  Downloading https://files.pythonhosted.org/packages/1f/04/4e36c33f8eb5c5b6c622a1f4859352a6acca7ab387257d4b3c191d23ec1d/gast-0.3.2.tar.gz\n",
      "Collecting tensorboard<1.15.0,>=1.14.0 (from tensorflow)\n",
      "\u001b[?25l  Downloading https://files.pythonhosted.org/packages/91/2d/2ed263449a078cd9c8a9ba50ebd50123adf1f8cfbea1492f9084169b89d9/tensorboard-1.14.0-py3-none-any.whl (3.1MB)\n",
      "\u001b[K    100% |████████████████████████████████| 3.2MB 12.0MB/s ta 0:00:01\n",
      "\u001b[?25hRequirement already satisfied: termcolor>=1.1.0 in /opt/conda/envs/fastai/lib/python3.6/site-packages (from tensorflow) (1.1.0)\n",
      "Collecting grpcio>=1.8.6 (from tensorflow)\n",
      "\u001b[?25l  Downloading https://files.pythonhosted.org/packages/93/42/76dbf5bd518428a9bdd73966f290457e9b561b718181027f36c2bec7feb1/grpcio-1.24.3-cp36-cp36m-manylinux1_x86_64.whl (2.3MB)\n",
      "\u001b[K    100% |████████████████████████████████| 2.3MB 18.5MB/s ta 0:00:01\n",
      "\u001b[?25hCollecting protobuf>=3.6.1 (from tensorflow)\n",
      "\u001b[?25l  Downloading https://files.pythonhosted.org/packages/a8/52/d8d2dbff74b8bf517c42db8d44c3f9ef6555e6f5d6caddfa3f207b9143df/protobuf-3.10.0-cp36-cp36m-manylinux1_x86_64.whl (1.3MB)\n",
      "\u001b[K    100% |████████████████████████████████| 1.3MB 22.3MB/s ta 0:00:01\n",
      "\u001b[?25hCollecting google-pasta>=0.1.6 (from tensorflow)\n",
      "\u001b[?25l  Downloading https://files.pythonhosted.org/packages/d0/33/376510eb8d6246f3c30545f416b2263eee461e40940c2a4413c711bdf62d/google_pasta-0.1.7-py3-none-any.whl (52kB)\n",
      "\u001b[K    100% |████████████████████████████████| 61kB 20.7MB/s ta 0:00:01\n",
      "\u001b[?25hCollecting setuptools>=41.0.0 (from tensorboard<1.15.0,>=1.14.0->tensorflow)\n",
      "\u001b[?25l  Downloading https://files.pythonhosted.org/packages/6a/9a/50fadfd53ec909e4399b67c74cc7f4e883488035cfcdb90b685758fa8b34/setuptools-41.4.0-py2.py3-none-any.whl (580kB)\n",
      "\u001b[K    100% |████████████████████████████████| 583kB 30.3MB/s ta 0:00:01\n",
      "\u001b[?25hCollecting markdown>=2.6.8 (from tensorboard<1.15.0,>=1.14.0->tensorflow)\n",
      "\u001b[?25l  Downloading https://files.pythonhosted.org/packages/c0/4e/fd492e91abdc2d2fcb70ef453064d980688762079397f779758e055f6575/Markdown-3.1.1-py2.py3-none-any.whl (87kB)\n",
      "\u001b[K    100% |████████████████████████████████| 92kB 32.0MB/s ta 0:00:01\n",
      "\u001b[?25hCollecting werkzeug>=0.11.15 (from tensorboard<1.15.0,>=1.14.0->tensorflow)\n",
      "\u001b[?25l  Downloading https://files.pythonhosted.org/packages/ce/42/3aeda98f96e85fd26180534d36570e4d18108d62ae36f87694b476b83d6f/Werkzeug-0.16.0-py2.py3-none-any.whl (327kB)\n",
      "\u001b[K    100% |████████████████████████████████| 327kB 28.8MB/s ta 0:00:01\n",
      "\u001b[?25hBuilding wheels for collected packages: absl-py, wrapt, gast\n",
      "  Running setup.py bdist_wheel for absl-py ... \u001b[?25ldone\n",
      "\u001b[?25h  Stored in directory: /root/.cache/pip/wheels/a7/15/a0/0a0561549ad11cdc1bc8fa1191a353efd30facf6bfb507aefc\n",
      "  Running setup.py bdist_wheel for wrapt ... \u001b[?25ldone\n",
      "\u001b[?25h  Stored in directory: /root/.cache/pip/wheels/d7/de/2e/efa132238792efb6459a96e85916ef8597fcb3d2ae51590dfd\n",
      "  Running setup.py bdist_wheel for gast ... \u001b[?25ldone\n",
      "\u001b[?25h  Stored in directory: /root/.cache/pip/wheels/59/38/c6/234dc39b4f6951a0768fbc02d5b7207137a5b1d9094f0d54bf\n",
      "Successfully built absl-py wrapt gast\n",
      "\u001b[31mthinc 6.12.1 has requirement wrapt<1.11.0,>=1.10.0, but you'll have wrapt 1.11.2 which is incompatible.\u001b[0m\n",
      "Installing collected packages: absl-py, wrapt, astor, tensorflow-estimator, gast, setuptools, protobuf, grpcio, markdown, werkzeug, tensorboard, google-pasta, tensorflow\n",
      "  Found existing installation: wrapt 1.10.11\n",
      "    Uninstalling wrapt-1.10.11:\n",
      "      Successfully uninstalled wrapt-1.10.11\n",
      "  Found existing installation: setuptools 40.6.3\n",
      "    Uninstalling setuptools-40.6.3:\n",
      "      Successfully uninstalled setuptools-40.6.3\n",
      "Successfully installed absl-py-0.8.1 astor-0.8.0 gast-0.3.2 google-pasta-0.1.7 grpcio-1.24.3 markdown-3.1.1 protobuf-3.10.0 setuptools-41.4.0 tensorboard-1.14.0 tensorflow-1.14.0 tensorflow-estimator-1.14.0 werkzeug-0.16.0 wrapt-1.11.2\n"
     ]
    }
   ],
   "source": [
    "# !pip install keras tensorflow"
   ]
  },
  {
   "cell_type": "code",
   "execution_count": 8,
   "metadata": {
    "scrolled": true
   },
   "outputs": [
    {
     "name": "stderr",
     "output_type": "stream",
     "text": [
      "Using TensorFlow backend.\n",
      "/opt/conda/envs/fastai/lib/python3.6/site-packages/tensorflow/python/framework/dtypes.py:516: FutureWarning: Passing (type, 1) or '1type' as a synonym of type is deprecated; in a future version of numpy, it will be understood as (type, (1,)) / '(1,)type'.\n",
      "  _np_qint8 = np.dtype([(\"qint8\", np.int8, 1)])\n",
      "/opt/conda/envs/fastai/lib/python3.6/site-packages/tensorflow/python/framework/dtypes.py:517: FutureWarning: Passing (type, 1) or '1type' as a synonym of type is deprecated; in a future version of numpy, it will be understood as (type, (1,)) / '(1,)type'.\n",
      "  _np_quint8 = np.dtype([(\"quint8\", np.uint8, 1)])\n",
      "/opt/conda/envs/fastai/lib/python3.6/site-packages/tensorflow/python/framework/dtypes.py:518: FutureWarning: Passing (type, 1) or '1type' as a synonym of type is deprecated; in a future version of numpy, it will be understood as (type, (1,)) / '(1,)type'.\n",
      "  _np_qint16 = np.dtype([(\"qint16\", np.int16, 1)])\n",
      "/opt/conda/envs/fastai/lib/python3.6/site-packages/tensorflow/python/framework/dtypes.py:519: FutureWarning: Passing (type, 1) or '1type' as a synonym of type is deprecated; in a future version of numpy, it will be understood as (type, (1,)) / '(1,)type'.\n",
      "  _np_quint16 = np.dtype([(\"quint16\", np.uint16, 1)])\n",
      "/opt/conda/envs/fastai/lib/python3.6/site-packages/tensorflow/python/framework/dtypes.py:520: FutureWarning: Passing (type, 1) or '1type' as a synonym of type is deprecated; in a future version of numpy, it will be understood as (type, (1,)) / '(1,)type'.\n",
      "  _np_qint32 = np.dtype([(\"qint32\", np.int32, 1)])\n",
      "/opt/conda/envs/fastai/lib/python3.6/site-packages/tensorflow/python/framework/dtypes.py:525: FutureWarning: Passing (type, 1) or '1type' as a synonym of type is deprecated; in a future version of numpy, it will be understood as (type, (1,)) / '(1,)type'.\n",
      "  np_resource = np.dtype([(\"resource\", np.ubyte, 1)])\n",
      "/opt/conda/envs/fastai/lib/python3.6/site-packages/tensorboard/compat/tensorflow_stub/dtypes.py:541: FutureWarning: Passing (type, 1) or '1type' as a synonym of type is deprecated; in a future version of numpy, it will be understood as (type, (1,)) / '(1,)type'.\n",
      "  _np_qint8 = np.dtype([(\"qint8\", np.int8, 1)])\n",
      "/opt/conda/envs/fastai/lib/python3.6/site-packages/tensorboard/compat/tensorflow_stub/dtypes.py:542: FutureWarning: Passing (type, 1) or '1type' as a synonym of type is deprecated; in a future version of numpy, it will be understood as (type, (1,)) / '(1,)type'.\n",
      "  _np_quint8 = np.dtype([(\"quint8\", np.uint8, 1)])\n",
      "/opt/conda/envs/fastai/lib/python3.6/site-packages/tensorboard/compat/tensorflow_stub/dtypes.py:543: FutureWarning: Passing (type, 1) or '1type' as a synonym of type is deprecated; in a future version of numpy, it will be understood as (type, (1,)) / '(1,)type'.\n",
      "  _np_qint16 = np.dtype([(\"qint16\", np.int16, 1)])\n",
      "/opt/conda/envs/fastai/lib/python3.6/site-packages/tensorboard/compat/tensorflow_stub/dtypes.py:544: FutureWarning: Passing (type, 1) or '1type' as a synonym of type is deprecated; in a future version of numpy, it will be understood as (type, (1,)) / '(1,)type'.\n",
      "  _np_quint16 = np.dtype([(\"quint16\", np.uint16, 1)])\n",
      "/opt/conda/envs/fastai/lib/python3.6/site-packages/tensorboard/compat/tensorflow_stub/dtypes.py:545: FutureWarning: Passing (type, 1) or '1type' as a synonym of type is deprecated; in a future version of numpy, it will be understood as (type, (1,)) / '(1,)type'.\n",
      "  _np_qint32 = np.dtype([(\"qint32\", np.int32, 1)])\n",
      "/opt/conda/envs/fastai/lib/python3.6/site-packages/tensorboard/compat/tensorflow_stub/dtypes.py:550: FutureWarning: Passing (type, 1) or '1type' as a synonym of type is deprecated; in a future version of numpy, it will be understood as (type, (1,)) / '(1,)type'.\n",
      "  np_resource = np.dtype([(\"resource\", np.ubyte, 1)])\n"
     ]
    }
   ],
   "source": [
    "from keras.models import Sequential\n",
    "from keras.layers import Dense, Flatten, LSTM, SimpleRNN"
   ]
  },
  {
   "cell_type": "code",
   "execution_count": null,
   "metadata": {},
   "outputs": [],
   "source": [
    "# !tar -xzvf data/nba.tar.gz -C data/"
   ]
  },
  {
   "cell_type": "code",
   "execution_count": 9,
   "metadata": {},
   "outputs": [
    {
     "data": {
      "text/html": [
       "<div>\n",
       "<style scoped>\n",
       "    .dataframe tbody tr th:only-of-type {\n",
       "        vertical-align: middle;\n",
       "    }\n",
       "\n",
       "    .dataframe tbody tr th {\n",
       "        vertical-align: top;\n",
       "    }\n",
       "\n",
       "    .dataframe thead th {\n",
       "        text-align: right;\n",
       "    }\n",
       "</style>\n",
       "<table border=\"1\" class=\"dataframe\">\n",
       "  <thead>\n",
       "    <tr style=\"text-align: right;\">\n",
       "      <th></th>\n",
       "      <th>SEASON_YEAR</th>\n",
       "      <th>PLAYER_ID</th>\n",
       "      <th>PLAYER_NAME</th>\n",
       "      <th>TEAM_ID</th>\n",
       "      <th>TEAM_ABBREVIATION</th>\n",
       "      <th>TEAM_NAME</th>\n",
       "      <th>GAME_ID</th>\n",
       "      <th>GAME_DATE</th>\n",
       "      <th>MATCHUP</th>\n",
       "      <th>WL</th>\n",
       "      <th>...</th>\n",
       "      <th>BLK</th>\n",
       "      <th>BLKA</th>\n",
       "      <th>PF</th>\n",
       "      <th>PFD</th>\n",
       "      <th>PTS</th>\n",
       "      <th>PLUS_MINUS</th>\n",
       "      <th>NBA_FANTASY_PTS</th>\n",
       "      <th>DD2</th>\n",
       "      <th>TD3</th>\n",
       "      <th>Season</th>\n",
       "    </tr>\n",
       "  </thead>\n",
       "  <tbody>\n",
       "    <tr>\n",
       "      <th>0</th>\n",
       "      <td>2018-19</td>\n",
       "      <td>1627215</td>\n",
       "      <td>Walter Lemon Jr.</td>\n",
       "      <td>1610612741</td>\n",
       "      <td>CHI</td>\n",
       "      <td>Chicago Bulls</td>\n",
       "      <td>21801224</td>\n",
       "      <td>2019-04-10</td>\n",
       "      <td>CHI @ PHI</td>\n",
       "      <td>L</td>\n",
       "      <td>...</td>\n",
       "      <td>0</td>\n",
       "      <td>3</td>\n",
       "      <td>2</td>\n",
       "      <td>1</td>\n",
       "      <td>20</td>\n",
       "      <td>-7</td>\n",
       "      <td>31.2</td>\n",
       "      <td>0</td>\n",
       "      <td>0</td>\n",
       "      <td>2018-19</td>\n",
       "    </tr>\n",
       "    <tr>\n",
       "      <th>1</th>\n",
       "      <td>2018-19</td>\n",
       "      <td>203210</td>\n",
       "      <td>JaMychal Green</td>\n",
       "      <td>1610612746</td>\n",
       "      <td>LAC</td>\n",
       "      <td>LA Clippers</td>\n",
       "      <td>21801229</td>\n",
       "      <td>2019-04-10</td>\n",
       "      <td>LAC vs. UTA</td>\n",
       "      <td>W</td>\n",
       "      <td>...</td>\n",
       "      <td>1</td>\n",
       "      <td>3</td>\n",
       "      <td>5</td>\n",
       "      <td>2</td>\n",
       "      <td>13</td>\n",
       "      <td>5</td>\n",
       "      <td>18.9</td>\n",
       "      <td>0</td>\n",
       "      <td>0</td>\n",
       "      <td>2018-19</td>\n",
       "    </tr>\n",
       "    <tr>\n",
       "      <th>2</th>\n",
       "      <td>2018-19</td>\n",
       "      <td>1628396</td>\n",
       "      <td>Tony Bradley</td>\n",
       "      <td>1610612762</td>\n",
       "      <td>UTA</td>\n",
       "      <td>Utah Jazz</td>\n",
       "      <td>21801229</td>\n",
       "      <td>2019-04-10</td>\n",
       "      <td>UTA @ LAC</td>\n",
       "      <td>L</td>\n",
       "      <td>...</td>\n",
       "      <td>2</td>\n",
       "      <td>0</td>\n",
       "      <td>4</td>\n",
       "      <td>1</td>\n",
       "      <td>15</td>\n",
       "      <td>-9</td>\n",
       "      <td>38.5</td>\n",
       "      <td>1</td>\n",
       "      <td>0</td>\n",
       "      <td>2018-19</td>\n",
       "    </tr>\n",
       "    <tr>\n",
       "      <th>3</th>\n",
       "      <td>2018-19</td>\n",
       "      <td>203471</td>\n",
       "      <td>Dennis Schroder</td>\n",
       "      <td>1610612760</td>\n",
       "      <td>OKC</td>\n",
       "      <td>Oklahoma City Thunder</td>\n",
       "      <td>21801226</td>\n",
       "      <td>2019-04-10</td>\n",
       "      <td>OKC @ MIL</td>\n",
       "      <td>W</td>\n",
       "      <td>...</td>\n",
       "      <td>0</td>\n",
       "      <td>0</td>\n",
       "      <td>5</td>\n",
       "      <td>4</td>\n",
       "      <td>32</td>\n",
       "      <td>14</td>\n",
       "      <td>52.5</td>\n",
       "      <td>0</td>\n",
       "      <td>0</td>\n",
       "      <td>2018-19</td>\n",
       "    </tr>\n",
       "    <tr>\n",
       "      <th>4</th>\n",
       "      <td>2018-19</td>\n",
       "      <td>203115</td>\n",
       "      <td>Will Barton</td>\n",
       "      <td>1610612743</td>\n",
       "      <td>DEN</td>\n",
       "      <td>Denver Nuggets</td>\n",
       "      <td>21801228</td>\n",
       "      <td>2019-04-10</td>\n",
       "      <td>DEN vs. MIN</td>\n",
       "      <td>W</td>\n",
       "      <td>...</td>\n",
       "      <td>1</td>\n",
       "      <td>0</td>\n",
       "      <td>1</td>\n",
       "      <td>1</td>\n",
       "      <td>10</td>\n",
       "      <td>9</td>\n",
       "      <td>31.8</td>\n",
       "      <td>0</td>\n",
       "      <td>0</td>\n",
       "      <td>2018-19</td>\n",
       "    </tr>\n",
       "  </tbody>\n",
       "</table>\n",
       "<p>5 rows × 36 columns</p>\n",
       "</div>"
      ],
      "text/plain": [
       "  SEASON_YEAR  PLAYER_ID       PLAYER_NAME     TEAM_ID TEAM_ABBREVIATION  \\\n",
       "0     2018-19    1627215  Walter Lemon Jr.  1610612741               CHI   \n",
       "1     2018-19     203210    JaMychal Green  1610612746               LAC   \n",
       "2     2018-19    1628396      Tony Bradley  1610612762               UTA   \n",
       "3     2018-19     203471   Dennis Schroder  1610612760               OKC   \n",
       "4     2018-19     203115       Will Barton  1610612743               DEN   \n",
       "\n",
       "               TEAM_NAME   GAME_ID   GAME_DATE      MATCHUP WL   ...     BLK  \\\n",
       "0          Chicago Bulls  21801224  2019-04-10    CHI @ PHI  L   ...       0   \n",
       "1            LA Clippers  21801229  2019-04-10  LAC vs. UTA  W   ...       1   \n",
       "2              Utah Jazz  21801229  2019-04-10    UTA @ LAC  L   ...       2   \n",
       "3  Oklahoma City Thunder  21801226  2019-04-10    OKC @ MIL  W   ...       0   \n",
       "4         Denver Nuggets  21801228  2019-04-10  DEN vs. MIN  W   ...       1   \n",
       "\n",
       "   BLKA  PF  PFD  PTS  PLUS_MINUS  NBA_FANTASY_PTS  DD2  TD3   Season  \n",
       "0     3   2    1   20          -7             31.2    0    0  2018-19  \n",
       "1     3   5    2   13           5             18.9    0    0  2018-19  \n",
       "2     0   4    1   15          -9             38.5    1    0  2018-19  \n",
       "3     0   5    4   32          14             52.5    0    0  2018-19  \n",
       "4     0   1    1   10           9             31.8    0    0  2018-19  \n",
       "\n",
       "[5 rows x 36 columns]"
      ]
     },
     "execution_count": 9,
     "metadata": {},
     "output_type": "execute_result"
    }
   ],
   "source": [
    "df = pd.read_csv('data/nba.csv')\n",
    "df.head()"
   ]
  },
  {
   "cell_type": "code",
   "execution_count": 10,
   "metadata": {},
   "outputs": [],
   "source": [
    "curry = df[df['PLAYER_NAME']=='Stephen Curry']\n",
    "curry = curry.assign(date=pd.to_datetime(curry['GAME_DATE']))\n",
    "curry.sort_values(by=['date'], inplace=True)\n",
    "curry = curry.reset_index(drop=True)"
   ]
  },
  {
   "cell_type": "code",
   "execution_count": 11,
   "metadata": {},
   "outputs": [
    {
     "data": {
      "text/html": [
       "<div>\n",
       "<style scoped>\n",
       "    .dataframe tbody tr th:only-of-type {\n",
       "        vertical-align: middle;\n",
       "    }\n",
       "\n",
       "    .dataframe tbody tr th {\n",
       "        vertical-align: top;\n",
       "    }\n",
       "\n",
       "    .dataframe thead th {\n",
       "        text-align: right;\n",
       "    }\n",
       "</style>\n",
       "<table border=\"1\" class=\"dataframe\">\n",
       "  <thead>\n",
       "    <tr style=\"text-align: right;\">\n",
       "      <th></th>\n",
       "      <th>SEASON_YEAR</th>\n",
       "      <th>PLAYER_ID</th>\n",
       "      <th>PLAYER_NAME</th>\n",
       "      <th>TEAM_ID</th>\n",
       "      <th>TEAM_ABBREVIATION</th>\n",
       "      <th>TEAM_NAME</th>\n",
       "      <th>GAME_ID</th>\n",
       "      <th>GAME_DATE</th>\n",
       "      <th>MATCHUP</th>\n",
       "      <th>WL</th>\n",
       "      <th>...</th>\n",
       "      <th>BLKA</th>\n",
       "      <th>PF</th>\n",
       "      <th>PFD</th>\n",
       "      <th>PTS</th>\n",
       "      <th>PLUS_MINUS</th>\n",
       "      <th>NBA_FANTASY_PTS</th>\n",
       "      <th>DD2</th>\n",
       "      <th>TD3</th>\n",
       "      <th>Season</th>\n",
       "      <th>date</th>\n",
       "    </tr>\n",
       "  </thead>\n",
       "  <tbody>\n",
       "    <tr>\n",
       "      <th>0</th>\n",
       "      <td>2009-10</td>\n",
       "      <td>201939</td>\n",
       "      <td>Stephen Curry</td>\n",
       "      <td>1610612744</td>\n",
       "      <td>GSW</td>\n",
       "      <td>Golden State Warriors</td>\n",
       "      <td>20900015</td>\n",
       "      <td>2009-10-28</td>\n",
       "      <td>GSW vs. HOU</td>\n",
       "      <td>L</td>\n",
       "      <td>...</td>\n",
       "      <td>1</td>\n",
       "      <td>2</td>\n",
       "      <td>2</td>\n",
       "      <td>14</td>\n",
       "      <td>7</td>\n",
       "      <td>36.9</td>\n",
       "      <td>0</td>\n",
       "      <td>0</td>\n",
       "      <td>2009-10</td>\n",
       "      <td>2009-10-28</td>\n",
       "    </tr>\n",
       "    <tr>\n",
       "      <th>1</th>\n",
       "      <td>2009-10</td>\n",
       "      <td>201939</td>\n",
       "      <td>Stephen Curry</td>\n",
       "      <td>1610612744</td>\n",
       "      <td>GSW</td>\n",
       "      <td>Golden State Warriors</td>\n",
       "      <td>20900030</td>\n",
       "      <td>2009-10-30</td>\n",
       "      <td>GSW @ PHX</td>\n",
       "      <td>L</td>\n",
       "      <td>...</td>\n",
       "      <td>1</td>\n",
       "      <td>5</td>\n",
       "      <td>4</td>\n",
       "      <td>12</td>\n",
       "      <td>-19</td>\n",
       "      <td>20.4</td>\n",
       "      <td>0</td>\n",
       "      <td>0</td>\n",
       "      <td>2009-10</td>\n",
       "      <td>2009-10-30</td>\n",
       "    </tr>\n",
       "    <tr>\n",
       "      <th>2</th>\n",
       "      <td>2009-10</td>\n",
       "      <td>201939</td>\n",
       "      <td>Stephen Curry</td>\n",
       "      <td>1610612744</td>\n",
       "      <td>GSW</td>\n",
       "      <td>Golden State Warriors</td>\n",
       "      <td>20900069</td>\n",
       "      <td>2009-11-04</td>\n",
       "      <td>GSW vs. MEM</td>\n",
       "      <td>W</td>\n",
       "      <td>...</td>\n",
       "      <td>0</td>\n",
       "      <td>4</td>\n",
       "      <td>0</td>\n",
       "      <td>7</td>\n",
       "      <td>-4</td>\n",
       "      <td>31.5</td>\n",
       "      <td>0</td>\n",
       "      <td>0</td>\n",
       "      <td>2009-10</td>\n",
       "      <td>2009-11-04</td>\n",
       "    </tr>\n",
       "    <tr>\n",
       "      <th>3</th>\n",
       "      <td>2009-10</td>\n",
       "      <td>201939</td>\n",
       "      <td>Stephen Curry</td>\n",
       "      <td>1610612744</td>\n",
       "      <td>GSW</td>\n",
       "      <td>Golden State Warriors</td>\n",
       "      <td>20900082</td>\n",
       "      <td>2009-11-06</td>\n",
       "      <td>GSW vs. LAC</td>\n",
       "      <td>L</td>\n",
       "      <td>...</td>\n",
       "      <td>0</td>\n",
       "      <td>6</td>\n",
       "      <td>4</td>\n",
       "      <td>5</td>\n",
       "      <td>-13</td>\n",
       "      <td>10.7</td>\n",
       "      <td>0</td>\n",
       "      <td>0</td>\n",
       "      <td>2009-10</td>\n",
       "      <td>2009-11-06</td>\n",
       "    </tr>\n",
       "    <tr>\n",
       "      <th>4</th>\n",
       "      <td>2009-10</td>\n",
       "      <td>201939</td>\n",
       "      <td>Stephen Curry</td>\n",
       "      <td>1610612744</td>\n",
       "      <td>GSW</td>\n",
       "      <td>Golden State Warriors</td>\n",
       "      <td>20900096</td>\n",
       "      <td>2009-11-08</td>\n",
       "      <td>GSW @ SAC</td>\n",
       "      <td>L</td>\n",
       "      <td>...</td>\n",
       "      <td>1</td>\n",
       "      <td>4</td>\n",
       "      <td>3</td>\n",
       "      <td>9</td>\n",
       "      <td>-5</td>\n",
       "      <td>17.8</td>\n",
       "      <td>0</td>\n",
       "      <td>0</td>\n",
       "      <td>2009-10</td>\n",
       "      <td>2009-11-08</td>\n",
       "    </tr>\n",
       "  </tbody>\n",
       "</table>\n",
       "<p>5 rows × 37 columns</p>\n",
       "</div>"
      ],
      "text/plain": [
       "  SEASON_YEAR  PLAYER_ID    PLAYER_NAME     TEAM_ID TEAM_ABBREVIATION  \\\n",
       "0     2009-10     201939  Stephen Curry  1610612744               GSW   \n",
       "1     2009-10     201939  Stephen Curry  1610612744               GSW   \n",
       "2     2009-10     201939  Stephen Curry  1610612744               GSW   \n",
       "3     2009-10     201939  Stephen Curry  1610612744               GSW   \n",
       "4     2009-10     201939  Stephen Curry  1610612744               GSW   \n",
       "\n",
       "               TEAM_NAME   GAME_ID   GAME_DATE      MATCHUP WL    ...      \\\n",
       "0  Golden State Warriors  20900015  2009-10-28  GSW vs. HOU  L    ...       \n",
       "1  Golden State Warriors  20900030  2009-10-30    GSW @ PHX  L    ...       \n",
       "2  Golden State Warriors  20900069  2009-11-04  GSW vs. MEM  W    ...       \n",
       "3  Golden State Warriors  20900082  2009-11-06  GSW vs. LAC  L    ...       \n",
       "4  Golden State Warriors  20900096  2009-11-08    GSW @ SAC  L    ...       \n",
       "\n",
       "   BLKA  PF  PFD  PTS  PLUS_MINUS  NBA_FANTASY_PTS  DD2  TD3   Season  \\\n",
       "0     1   2    2   14           7             36.9    0    0  2009-10   \n",
       "1     1   5    4   12         -19             20.4    0    0  2009-10   \n",
       "2     0   4    0    7          -4             31.5    0    0  2009-10   \n",
       "3     0   6    4    5         -13             10.7    0    0  2009-10   \n",
       "4     1   4    3    9          -5             17.8    0    0  2009-10   \n",
       "\n",
       "        date  \n",
       "0 2009-10-28  \n",
       "1 2009-10-30  \n",
       "2 2009-11-04  \n",
       "3 2009-11-06  \n",
       "4 2009-11-08  \n",
       "\n",
       "[5 rows x 37 columns]"
      ]
     },
     "execution_count": 11,
     "metadata": {},
     "output_type": "execute_result"
    }
   ],
   "source": [
    "curry.head()"
   ]
  },
  {
   "cell_type": "code",
   "execution_count": 12,
   "metadata": {},
   "outputs": [
    {
     "data": {
      "text/html": [
       "<div>\n",
       "<style scoped>\n",
       "    .dataframe tbody tr th:only-of-type {\n",
       "        vertical-align: middle;\n",
       "    }\n",
       "\n",
       "    .dataframe tbody tr th {\n",
       "        vertical-align: top;\n",
       "    }\n",
       "\n",
       "    .dataframe thead th {\n",
       "        text-align: right;\n",
       "    }\n",
       "</style>\n",
       "<table border=\"1\" class=\"dataframe\">\n",
       "  <thead>\n",
       "    <tr style=\"text-align: right;\">\n",
       "      <th></th>\n",
       "      <th>SEASON_YEAR</th>\n",
       "      <th>PLAYER_ID</th>\n",
       "      <th>PLAYER_NAME</th>\n",
       "      <th>TEAM_ID</th>\n",
       "      <th>TEAM_ABBREVIATION</th>\n",
       "      <th>TEAM_NAME</th>\n",
       "      <th>GAME_ID</th>\n",
       "      <th>GAME_DATE</th>\n",
       "      <th>MATCHUP</th>\n",
       "      <th>WL</th>\n",
       "      <th>...</th>\n",
       "      <th>BLKA</th>\n",
       "      <th>PF</th>\n",
       "      <th>PFD</th>\n",
       "      <th>PTS</th>\n",
       "      <th>PLUS_MINUS</th>\n",
       "      <th>NBA_FANTASY_PTS</th>\n",
       "      <th>DD2</th>\n",
       "      <th>TD3</th>\n",
       "      <th>Season</th>\n",
       "      <th>date</th>\n",
       "    </tr>\n",
       "  </thead>\n",
       "  <tbody>\n",
       "    <tr>\n",
       "      <th>689</th>\n",
       "      <td>2018-19</td>\n",
       "      <td>201939</td>\n",
       "      <td>Stephen Curry</td>\n",
       "      <td>1610612744</td>\n",
       "      <td>GSW</td>\n",
       "      <td>Golden State Warriors</td>\n",
       "      <td>21801164</td>\n",
       "      <td>2019-04-02</td>\n",
       "      <td>GSW vs. DEN</td>\n",
       "      <td>W</td>\n",
       "      <td>...</td>\n",
       "      <td>0</td>\n",
       "      <td>4</td>\n",
       "      <td>4</td>\n",
       "      <td>17</td>\n",
       "      <td>25</td>\n",
       "      <td>34.3</td>\n",
       "      <td>0</td>\n",
       "      <td>0</td>\n",
       "      <td>2018-19</td>\n",
       "      <td>2019-04-02</td>\n",
       "    </tr>\n",
       "    <tr>\n",
       "      <th>690</th>\n",
       "      <td>2018-19</td>\n",
       "      <td>201939</td>\n",
       "      <td>Stephen Curry</td>\n",
       "      <td>1610612744</td>\n",
       "      <td>GSW</td>\n",
       "      <td>Golden State Warriors</td>\n",
       "      <td>21801179</td>\n",
       "      <td>2019-04-04</td>\n",
       "      <td>GSW @ LAL</td>\n",
       "      <td>W</td>\n",
       "      <td>...</td>\n",
       "      <td>1</td>\n",
       "      <td>1</td>\n",
       "      <td>2</td>\n",
       "      <td>7</td>\n",
       "      <td>32</td>\n",
       "      <td>30.5</td>\n",
       "      <td>0</td>\n",
       "      <td>0</td>\n",
       "      <td>2018-19</td>\n",
       "      <td>2019-04-04</td>\n",
       "    </tr>\n",
       "    <tr>\n",
       "      <th>691</th>\n",
       "      <td>2018-19</td>\n",
       "      <td>201939</td>\n",
       "      <td>Stephen Curry</td>\n",
       "      <td>1610612744</td>\n",
       "      <td>GSW</td>\n",
       "      <td>Golden State Warriors</td>\n",
       "      <td>21801191</td>\n",
       "      <td>2019-04-05</td>\n",
       "      <td>GSW vs. CLE</td>\n",
       "      <td>W</td>\n",
       "      <td>...</td>\n",
       "      <td>0</td>\n",
       "      <td>1</td>\n",
       "      <td>4</td>\n",
       "      <td>40</td>\n",
       "      <td>5</td>\n",
       "      <td>56.7</td>\n",
       "      <td>0</td>\n",
       "      <td>0</td>\n",
       "      <td>2018-19</td>\n",
       "      <td>2019-04-05</td>\n",
       "    </tr>\n",
       "    <tr>\n",
       "      <th>692</th>\n",
       "      <td>2018-19</td>\n",
       "      <td>201939</td>\n",
       "      <td>Stephen Curry</td>\n",
       "      <td>1610612744</td>\n",
       "      <td>GSW</td>\n",
       "      <td>Golden State Warriors</td>\n",
       "      <td>21801205</td>\n",
       "      <td>2019-04-07</td>\n",
       "      <td>GSW vs. LAC</td>\n",
       "      <td>W</td>\n",
       "      <td>...</td>\n",
       "      <td>1</td>\n",
       "      <td>3</td>\n",
       "      <td>1</td>\n",
       "      <td>27</td>\n",
       "      <td>35</td>\n",
       "      <td>45.0</td>\n",
       "      <td>0</td>\n",
       "      <td>0</td>\n",
       "      <td>2018-19</td>\n",
       "      <td>2019-04-07</td>\n",
       "    </tr>\n",
       "    <tr>\n",
       "      <th>693</th>\n",
       "      <td>2018-19</td>\n",
       "      <td>201939</td>\n",
       "      <td>Stephen Curry</td>\n",
       "      <td>1610612744</td>\n",
       "      <td>GSW</td>\n",
       "      <td>Golden State Warriors</td>\n",
       "      <td>21801215</td>\n",
       "      <td>2019-04-09</td>\n",
       "      <td>GSW @ NOP</td>\n",
       "      <td>W</td>\n",
       "      <td>...</td>\n",
       "      <td>0</td>\n",
       "      <td>0</td>\n",
       "      <td>0</td>\n",
       "      <td>5</td>\n",
       "      <td>1</td>\n",
       "      <td>5.7</td>\n",
       "      <td>0</td>\n",
       "      <td>0</td>\n",
       "      <td>2018-19</td>\n",
       "      <td>2019-04-09</td>\n",
       "    </tr>\n",
       "  </tbody>\n",
       "</table>\n",
       "<p>5 rows × 37 columns</p>\n",
       "</div>"
      ],
      "text/plain": [
       "    SEASON_YEAR  PLAYER_ID    PLAYER_NAME     TEAM_ID TEAM_ABBREVIATION  \\\n",
       "689     2018-19     201939  Stephen Curry  1610612744               GSW   \n",
       "690     2018-19     201939  Stephen Curry  1610612744               GSW   \n",
       "691     2018-19     201939  Stephen Curry  1610612744               GSW   \n",
       "692     2018-19     201939  Stephen Curry  1610612744               GSW   \n",
       "693     2018-19     201939  Stephen Curry  1610612744               GSW   \n",
       "\n",
       "                 TEAM_NAME   GAME_ID   GAME_DATE      MATCHUP WL    ...      \\\n",
       "689  Golden State Warriors  21801164  2019-04-02  GSW vs. DEN  W    ...       \n",
       "690  Golden State Warriors  21801179  2019-04-04    GSW @ LAL  W    ...       \n",
       "691  Golden State Warriors  21801191  2019-04-05  GSW vs. CLE  W    ...       \n",
       "692  Golden State Warriors  21801205  2019-04-07  GSW vs. LAC  W    ...       \n",
       "693  Golden State Warriors  21801215  2019-04-09    GSW @ NOP  W    ...       \n",
       "\n",
       "     BLKA  PF  PFD  PTS  PLUS_MINUS  NBA_FANTASY_PTS  DD2  TD3   Season  \\\n",
       "689     0   4    4   17          25             34.3    0    0  2018-19   \n",
       "690     1   1    2    7          32             30.5    0    0  2018-19   \n",
       "691     0   1    4   40           5             56.7    0    0  2018-19   \n",
       "692     1   3    1   27          35             45.0    0    0  2018-19   \n",
       "693     0   0    0    5           1              5.7    0    0  2018-19   \n",
       "\n",
       "          date  \n",
       "689 2019-04-02  \n",
       "690 2019-04-04  \n",
       "691 2019-04-05  \n",
       "692 2019-04-07  \n",
       "693 2019-04-09  \n",
       "\n",
       "[5 rows x 37 columns]"
      ]
     },
     "execution_count": 12,
     "metadata": {},
     "output_type": "execute_result"
    }
   ],
   "source": [
    "curry.tail()"
   ]
  },
  {
   "cell_type": "code",
   "execution_count": 13,
   "metadata": {
    "scrolled": true
   },
   "outputs": [
    {
     "data": {
      "text/plain": [
       "<matplotlib.axes._subplots.AxesSubplot at 0x7f678d6aa1d0>"
      ]
     },
     "execution_count": 13,
     "metadata": {},
     "output_type": "execute_result"
    },
    {
     "data": {
      "image/png": "[encoded data removed]",
      "text/plain": [
       "<Figure size 1080x360 with 1 Axes>"
      ]
     },
     "metadata": {
      "needs_background": "light"
     },
     "output_type": "display_data"
    }
   ],
   "source": [
    "curry['PTS'].plot(figsize=(15,5))"
   ]
  },
  {
   "cell_type": "code",
   "execution_count": 15,
   "metadata": {},
   "outputs": [],
   "source": [
    "#export\n",
    "def mae(pred, targ): return (pred-targ).abs().mean()\n",
    "\n",
    "def normalize(x,m,s):\n",
    "    return (x-m)/s\n",
    "\n",
    "def denormalize(x,m,s):\n",
    "    return (x*s)+m"
   ]
  },
  {
   "cell_type": "code",
   "execution_count": 16,
   "metadata": {},
   "outputs": [],
   "source": [
    "#export\n",
    "def create_ts_dataset(data, lookback=10):\n",
    "    xs,ys = [],[]\n",
    "    for i in range(lookback, len(data)):\n",
    "        xs.append(data[i-lookback:i])\n",
    "        ys.append(data[i])\n",
    "    X = np.array(xs)\n",
    "    y = np.array(ys)\n",
    "    return X, y"
   ]
  },
  {
   "cell_type": "code",
   "execution_count": 26,
   "metadata": {},
   "outputs": [],
   "source": [
    "pts = np.array(curry['PTS'])"
   ]
  },
  {
   "cell_type": "code",
   "execution_count": 27,
   "metadata": {},
   "outputs": [
    {
     "data": {
      "text/plain": [
       "485"
      ]
     },
     "execution_count": 27,
     "metadata": {},
     "output_type": "execute_result"
    }
   ],
   "source": [
    "split = int(.7*len(pts)); split"
   ]
  },
  {
   "cell_type": "code",
   "execution_count": 28,
   "metadata": {},
   "outputs": [],
   "source": [
    "train = pts[:split]\n",
    "test = pts[split:]"
   ]
  },
  {
   "cell_type": "code",
   "execution_count": 29,
   "metadata": {},
   "outputs": [],
   "source": [
    "m = train.mean()\n",
    "s = train.std()\n",
    "train = normalize(train, m, s)\n",
    "test = normalize(test, m, s)"
   ]
  },
  {
   "cell_type": "code",
   "execution_count": 30,
   "metadata": {},
   "outputs": [
    {
     "data": {
      "text/plain": [
       "(22.25979381443299, 9.805244334147563)"
      ]
     },
     "execution_count": 30,
     "metadata": {},
     "output_type": "execute_result"
    }
   ],
   "source": [
    "m,s"
   ]
  },
  {
   "cell_type": "code",
   "execution_count": 31,
   "metadata": {},
   "outputs": [
    {
     "data": {
      "text/plain": [
       "((485,), (209,))"
      ]
     },
     "execution_count": 31,
     "metadata": {},
     "output_type": "execute_result"
    }
   ],
   "source": [
    "train.shape, test.shape"
   ]
  },
  {
   "cell_type": "code",
   "execution_count": 32,
   "metadata": {},
   "outputs": [],
   "source": [
    "X_train, y_train = create_ts_dataset(train)\n",
    "X_test, y_test = create_ts_dataset(test)"
   ]
  },
  {
   "cell_type": "code",
   "execution_count": 33,
   "metadata": {},
   "outputs": [
    {
     "data": {
      "text/plain": [
       "((475, 10), (475,))"
      ]
     },
     "execution_count": 33,
     "metadata": {},
     "output_type": "execute_result"
    }
   ],
   "source": [
    "X_train.shape, y_train.shape"
   ]
  },
  {
   "cell_type": "code",
   "execution_count": 34,
   "metadata": {},
   "outputs": [
    {
     "data": {
      "text/plain": [
       "((199, 10), (199,))"
      ]
     },
     "execution_count": 34,
     "metadata": {},
     "output_type": "execute_result"
    }
   ],
   "source": [
    "X_test.shape, y_test.shape"
   ]
  },
  {
   "cell_type": "code",
   "execution_count": 35,
   "metadata": {},
   "outputs": [],
   "source": [
    "X_train = X_train[:,:,np.newaxis]\n",
    "X_test = X_test[:,:,np.newaxis]"
   ]
  },
  {
   "cell_type": "code",
   "execution_count": 36,
   "metadata": {},
   "outputs": [
    {
     "data": {
      "text/plain": [
       "((475, 10, 1), (199, 10, 1))"
      ]
     },
     "execution_count": 36,
     "metadata": {},
     "output_type": "execute_result"
    }
   ],
   "source": [
    "X_train.shape, X_test.shape"
   ]
  },
  {
   "cell_type": "code",
   "execution_count": 40,
   "metadata": {},
   "outputs": [
    {
     "name": "stdout",
     "output_type": "stream",
     "text": [
      "WARNING:tensorflow:From /opt/conda/envs/fastai/lib/python3.6/site-packages/keras/backend/tensorflow_backend.py:422: The name tf.global_variables is deprecated. Please use tf.compat.v1.global_variables instead.\n",
      "\n",
      "Train on 475 samples, validate on 199 samples\n",
      "Epoch 1/100\n",
      "475/475 [==============================] - 1s 1ms/step - loss: 0.8654 - val_loss: 0.7884\n",
      "Epoch 2/100\n",
      "475/475 [==============================] - 0s 449us/step - loss: 0.8326 - val_loss: 0.7600\n",
      "Epoch 3/100\n",
      "475/475 [==============================] - 0s 448us/step - loss: 0.8091 - val_loss: 0.7393\n",
      "Epoch 4/100\n",
      "475/475 [==============================] - 0s 440us/step - loss: 0.7931 - val_loss: 0.7226\n",
      "Epoch 5/100\n",
      "475/475 [==============================] - 0s 446us/step - loss: 0.7820 - val_loss: 0.7116\n",
      "Epoch 6/100\n",
      "475/475 [==============================] - 0s 427us/step - loss: 0.7748 - val_loss: 0.7053\n",
      "Epoch 7/100\n",
      "475/475 [==============================] - 0s 423us/step - loss: 0.7696 - val_loss: 0.7015\n",
      "Epoch 8/100\n",
      "475/475 [==============================] - 0s 433us/step - loss: 0.7657 - val_loss: 0.6989\n",
      "Epoch 9/100\n",
      "475/475 [==============================] - 0s 418us/step - loss: 0.7627 - val_loss: 0.6978\n",
      "Epoch 10/100\n",
      "475/475 [==============================] - 0s 427us/step - loss: 0.7609 - val_loss: 0.6966\n",
      "Epoch 11/100\n",
      "475/475 [==============================] - 0s 434us/step - loss: 0.7586 - val_loss: 0.6980\n",
      "Epoch 12/100\n",
      "475/475 [==============================] - 0s 430us/step - loss: 0.7568 - val_loss: 0.6989\n",
      "Epoch 13/100\n",
      "475/475 [==============================] - 0s 407us/step - loss: 0.7558 - val_loss: 0.6997\n",
      "Epoch 14/100\n",
      "475/475 [==============================] - 0s 433us/step - loss: 0.7555 - val_loss: 0.6996\n",
      "Epoch 15/100\n",
      "475/475 [==============================] - 0s 453us/step - loss: 0.7548 - val_loss: 0.6965\n",
      "Epoch 16/100\n",
      "475/475 [==============================] - 0s 426us/step - loss: 0.7549 - val_loss: 0.6985\n",
      "Epoch 17/100\n",
      "475/475 [==============================] - 0s 436us/step - loss: 0.7539 - val_loss: 0.6999\n",
      "Epoch 18/100\n",
      "475/475 [==============================] - 0s 449us/step - loss: 0.7533 - val_loss: 0.6984\n",
      "Epoch 19/100\n",
      "475/475 [==============================] - 0s 424us/step - loss: 0.7521 - val_loss: 0.6979\n",
      "Epoch 20/100\n",
      "475/475 [==============================] - 0s 444us/step - loss: 0.7519 - val_loss: 0.6970\n",
      "Epoch 21/100\n",
      "475/475 [==============================] - 0s 433us/step - loss: 0.7510 - val_loss: 0.6974\n",
      "Epoch 22/100\n",
      "475/475 [==============================] - 0s 441us/step - loss: 0.7510 - val_loss: 0.6974\n",
      "Epoch 23/100\n",
      "475/475 [==============================] - 0s 418us/step - loss: 0.7511 - val_loss: 0.6949\n",
      "Epoch 24/100\n",
      "475/475 [==============================] - 0s 430us/step - loss: 0.7500 - val_loss: 0.6974\n",
      "Epoch 25/100\n",
      "475/475 [==============================] - 0s 416us/step - loss: 0.7485 - val_loss: 0.6964\n",
      "Epoch 26/100\n",
      "475/475 [==============================] - 0s 432us/step - loss: 0.7486 - val_loss: 0.6957\n",
      "Epoch 27/100\n",
      "475/475 [==============================] - 0s 456us/step - loss: 0.7477 - val_loss: 0.6957\n",
      "Epoch 28/100\n",
      "475/475 [==============================] - 0s 418us/step - loss: 0.7477 - val_loss: 0.6967\n",
      "Epoch 29/100\n",
      "475/475 [==============================] - 0s 419us/step - loss: 0.7467 - val_loss: 0.6950\n",
      "Epoch 30/100\n",
      "475/475 [==============================] - 0s 434us/step - loss: 0.7465 - val_loss: 0.6935\n",
      "Epoch 31/100\n",
      "475/475 [==============================] - 0s 444us/step - loss: 0.7459 - val_loss: 0.6955\n",
      "Epoch 32/100\n",
      "475/475 [==============================] - 0s 425us/step - loss: 0.7452 - val_loss: 0.6955\n",
      "Epoch 33/100\n",
      "475/475 [==============================] - 0s 434us/step - loss: 0.7443 - val_loss: 0.6953\n",
      "Epoch 34/100\n",
      "475/475 [==============================] - 0s 439us/step - loss: 0.7430 - val_loss: 0.6942\n",
      "Epoch 35/100\n",
      "475/475 [==============================] - 0s 438us/step - loss: 0.7432 - val_loss: 0.6938\n",
      "Epoch 36/100\n",
      "475/475 [==============================] - 0s 445us/step - loss: 0.7434 - val_loss: 0.6955\n",
      "Epoch 37/100\n",
      "475/475 [==============================] - 0s 443us/step - loss: 0.7422 - val_loss: 0.6940\n",
      "Epoch 38/100\n",
      "475/475 [==============================] - 0s 428us/step - loss: 0.7422 - val_loss: 0.6943\n",
      "Epoch 39/100\n",
      "475/475 [==============================] - 0s 427us/step - loss: 0.7421 - val_loss: 0.6953\n",
      "Epoch 40/100\n",
      "475/475 [==============================] - 0s 455us/step - loss: 0.7414 - val_loss: 0.6949\n",
      "Epoch 41/100\n",
      "475/475 [==============================] - 0s 446us/step - loss: 0.7410 - val_loss: 0.6955\n",
      "Epoch 42/100\n",
      "475/475 [==============================] - 0s 422us/step - loss: 0.7407 - val_loss: 0.6966\n",
      "Epoch 43/100\n",
      "475/475 [==============================] - 0s 439us/step - loss: 0.7402 - val_loss: 0.6946\n",
      "Epoch 44/100\n",
      "475/475 [==============================] - 0s 441us/step - loss: 0.7396 - val_loss: 0.6958\n",
      "Epoch 45/100\n",
      "475/475 [==============================] - 0s 412us/step - loss: 0.7390 - val_loss: 0.6944\n",
      "Epoch 46/100\n",
      "475/475 [==============================] - 0s 427us/step - loss: 0.7389 - val_loss: 0.6956\n",
      "Epoch 47/100\n",
      "475/475 [==============================] - 0s 430us/step - loss: 0.7391 - val_loss: 0.6937\n",
      "Epoch 48/100\n",
      "475/475 [==============================] - 0s 430us/step - loss: 0.7387 - val_loss: 0.6944\n",
      "Epoch 49/100\n",
      "475/475 [==============================] - 0s 437us/step - loss: 0.7390 - val_loss: 0.6955\n",
      "Epoch 50/100\n",
      "475/475 [==============================] - 0s 429us/step - loss: 0.7376 - val_loss: 0.6949\n",
      "Epoch 51/100\n",
      "475/475 [==============================] - 0s 429us/step - loss: 0.7372 - val_loss: 0.6938\n",
      "Epoch 52/100\n",
      "475/475 [==============================] - 0s 423us/step - loss: 0.7375 - val_loss: 0.6943\n",
      "Epoch 53/100\n",
      "475/475 [==============================] - 0s 439us/step - loss: 0.7362 - val_loss: 0.6940\n",
      "Epoch 54/100\n",
      "475/475 [==============================] - 0s 422us/step - loss: 0.7369 - val_loss: 0.6950\n",
      "Epoch 55/100\n",
      "475/475 [==============================] - 0s 421us/step - loss: 0.7361 - val_loss: 0.6950\n",
      "Epoch 56/100\n",
      "475/475 [==============================] - 0s 447us/step - loss: 0.7361 - val_loss: 0.6937\n",
      "Epoch 57/100\n",
      "475/475 [==============================] - 0s 407us/step - loss: 0.7350 - val_loss: 0.6940\n",
      "Epoch 58/100\n",
      "475/475 [==============================] - 0s 427us/step - loss: 0.7350 - val_loss: 0.6950\n",
      "Epoch 59/100\n",
      "475/475 [==============================] - 0s 442us/step - loss: 0.7352 - val_loss: 0.6945\n",
      "Epoch 60/100\n",
      "475/475 [==============================] - 0s 423us/step - loss: 0.7354 - val_loss: 0.6925\n",
      "Epoch 61/100\n",
      "475/475 [==============================] - 0s 426us/step - loss: 0.7355 - val_loss: 0.6967\n",
      "Epoch 62/100\n",
      "475/475 [==============================] - 0s 426us/step - loss: 0.7351 - val_loss: 0.6946\n",
      "Epoch 63/100\n",
      "475/475 [==============================] - 0s 457us/step - loss: 0.7341 - val_loss: 0.6920\n",
      "Epoch 64/100\n",
      "475/475 [==============================] - 0s 453us/step - loss: 0.7334 - val_loss: 0.6939\n",
      "Epoch 65/100\n",
      "475/475 [==============================] - 0s 445us/step - loss: 0.7338 - val_loss: 0.6962\n",
      "Epoch 66/100\n",
      "475/475 [==============================] - 0s 429us/step - loss: 0.7329 - val_loss: 0.6936\n",
      "Epoch 67/100\n",
      "475/475 [==============================] - 0s 421us/step - loss: 0.7325 - val_loss: 0.6931\n",
      "Epoch 68/100\n",
      "475/475 [==============================] - 0s 422us/step - loss: 0.7335 - val_loss: 0.6948\n",
      "Epoch 69/100\n",
      "475/475 [==============================] - 0s 425us/step - loss: 0.7328 - val_loss: 0.6942\n",
      "Epoch 70/100\n",
      "475/475 [==============================] - 0s 420us/step - loss: 0.7325 - val_loss: 0.6948\n",
      "Epoch 71/100\n",
      "475/475 [==============================] - 0s 426us/step - loss: 0.7319 - val_loss: 0.6944\n",
      "Epoch 72/100\n",
      "475/475 [==============================] - 0s 431us/step - loss: 0.7319 - val_loss: 0.6954\n",
      "Epoch 73/100\n",
      "475/475 [==============================] - 0s 414us/step - loss: 0.7319 - val_loss: 0.6965\n",
      "Epoch 74/100\n",
      "475/475 [==============================] - 0s 430us/step - loss: 0.7316 - val_loss: 0.6968\n",
      "Epoch 75/100\n",
      "475/475 [==============================] - 0s 417us/step - loss: 0.7329 - val_loss: 0.6930\n",
      "Epoch 76/100\n",
      "475/475 [==============================] - 0s 450us/step - loss: 0.7313 - val_loss: 0.6945\n",
      "Epoch 77/100\n"
     ]
    },
    {
     "name": "stdout",
     "output_type": "stream",
     "text": [
      "475/475 [==============================] - 0s 416us/step - loss: 0.7311 - val_loss: 0.6963\n",
      "Epoch 78/100\n",
      "475/475 [==============================] - 0s 418us/step - loss: 0.7315 - val_loss: 0.6957\n",
      "Epoch 79/100\n",
      "475/475 [==============================] - 0s 445us/step - loss: 0.7306 - val_loss: 0.6977\n",
      "Epoch 80/100\n",
      "475/475 [==============================] - 0s 437us/step - loss: 0.7299 - val_loss: 0.6933\n",
      "Epoch 81/100\n",
      "475/475 [==============================] - 0s 421us/step - loss: 0.7314 - val_loss: 0.6957\n",
      "Epoch 82/100\n",
      "475/475 [==============================] - 0s 432us/step - loss: 0.7330 - val_loss: 0.6979\n",
      "Epoch 83/100\n",
      "475/475 [==============================] - 0s 424us/step - loss: 0.7303 - val_loss: 0.6963\n",
      "Epoch 84/100\n",
      "475/475 [==============================] - 0s 470us/step - loss: 0.7305 - val_loss: 0.6979\n",
      "Epoch 85/100\n",
      "475/475 [==============================] - 0s 484us/step - loss: 0.7305 - val_loss: 0.6952\n",
      "Epoch 86/100\n",
      "475/475 [==============================] - 0s 435us/step - loss: 0.7303 - val_loss: 0.6950\n",
      "Epoch 87/100\n",
      "475/475 [==============================] - 0s 443us/step - loss: 0.7292 - val_loss: 0.6965\n",
      "Epoch 88/100\n",
      "475/475 [==============================] - 0s 447us/step - loss: 0.7295 - val_loss: 0.6951\n",
      "Epoch 89/100\n",
      "475/475 [==============================] - 0s 431us/step - loss: 0.7287 - val_loss: 0.6982\n",
      "Epoch 90/100\n",
      "475/475 [==============================] - 0s 436us/step - loss: 0.7294 - val_loss: 0.7010\n",
      "Epoch 91/100\n",
      "475/475 [==============================] - 0s 423us/step - loss: 0.7304 - val_loss: 0.7005\n",
      "Epoch 92/100\n",
      "475/475 [==============================] - 0s 429us/step - loss: 0.7288 - val_loss: 0.6968\n",
      "Epoch 93/100\n",
      "475/475 [==============================] - 0s 432us/step - loss: 0.7280 - val_loss: 0.7029\n",
      "Epoch 94/100\n",
      "475/475 [==============================] - 0s 434us/step - loss: 0.7274 - val_loss: 0.7004\n",
      "Epoch 95/100\n",
      "475/475 [==============================] - 0s 449us/step - loss: 0.7294 - val_loss: 0.6998\n",
      "Epoch 96/100\n",
      "475/475 [==============================] - 0s 423us/step - loss: 0.7275 - val_loss: 0.7045\n",
      "Epoch 97/100\n",
      "475/475 [==============================] - 0s 431us/step - loss: 0.7272 - val_loss: 0.6990\n",
      "Epoch 98/100\n",
      "475/475 [==============================] - 0s 410us/step - loss: 0.7268 - val_loss: 0.7021\n",
      "Epoch 99/100\n",
      "475/475 [==============================] - 0s 428us/step - loss: 0.7257 - val_loss: 0.7006\n",
      "Epoch 100/100\n",
      "475/475 [==============================] - 0s 421us/step - loss: 0.7274 - val_loss: 0.7022\n"
     ]
    },
    {
     "data": {
      "text/plain": [
       "<keras.callbacks.callbacks.History at 0x7f6788551748>"
      ]
     },
     "execution_count": 40,
     "metadata": {},
     "output_type": "execute_result"
    }
   ],
   "source": [
    "# simple RNN\n",
    "model = Sequential()\n",
    "model.add(SimpleRNN(5, input_shape=(X_train.shape[1],1)))\n",
    "model.add(Dense(1))\n",
    "model.compile(loss='mae', optimizer='adam')\n",
    "model.fit(X_train, y_train, epochs=100, batch_size=10, validation_data=(X_test, y_test))"
   ]
  },
  {
   "cell_type": "code",
   "execution_count": 41,
   "metadata": {},
   "outputs": [],
   "source": [
    "preds = model.predict(X_test)"
   ]
  },
  {
   "cell_type": "code",
   "execution_count": 48,
   "metadata": {
    "scrolled": true
   },
   "outputs": [
    {
     "data": {
      "text/plain": [
       "<matplotlib.axes._subplots.AxesSubplot at 0x7f67743d4a90>"
      ]
     },
     "execution_count": 48,
     "metadata": {},
     "output_type": "execute_result"
    },
    {
     "data": {
      "image/png": "[encoded data removed]",
      "text/plain": [
       "<Figure size 1080x360 with 1 Axes>"
      ]
     },
     "metadata": {
      "needs_background": "light"
     },
     "output_type": "display_data"
    }
   ],
   "source": [
    "test_df = pd.DataFrame({'predicted':denormalize(preds.ravel(),m,s), 'actual':denormalize(y_test,m,s)})\n",
    "test_df.plot(figsize=(15,5))"
   ]
  },
  {
   "cell_type": "code",
   "execution_count": 49,
   "metadata": {
    "scrolled": true
   },
   "outputs": [
    {
     "data": {
      "text/plain": [
       "6.885084765640335"
      ]
     },
     "execution_count": 49,
     "metadata": {},
     "output_type": "execute_result"
    }
   ],
   "source": [
    "mae(test_df['predicted'], test_df['actual'])"
   ]
  },
  {
   "cell_type": "code",
   "execution_count": 50,
   "metadata": {
    "scrolled": true
   },
   "outputs": [
    {
     "data": {
      "text/plain": [
       "6.925387025953091"
      ]
     },
     "execution_count": 50,
     "metadata": {},
     "output_type": "execute_result"
    }
   ],
   "source": [
    "mae(test_df['actual'].shift().ewm(alpha=0.1).mean(), test_df['actual'])"
   ]
  },
  {
   "cell_type": "code",
   "execution_count": 51,
   "metadata": {},
   "outputs": [],
   "source": [
    "#export\n",
    "def get_sin():\n",
    "    return np.sin(np.arange(50,step=0.1))"
   ]
  },
  {
   "cell_type": "code",
   "execution_count": 54,
   "metadata": {},
   "outputs": [
    {
     "data": {
      "text/plain": [
       "[<matplotlib.lines.Line2D at 0x7f67504ea438>]"
      ]
     },
     "execution_count": 54,
     "metadata": {},
     "output_type": "execute_result"
    },
    {
     "data": {
      "image/png": "[encoded data removed]",
      "text/plain": [
       "<Figure size 432x288 with 1 Axes>"
      ]
     },
     "metadata": {
      "needs_background": "light"
     },
     "output_type": "display_data"
    }
   ],
   "source": [
    "plt.plot(get_sin())"
   ]
  },
  {
   "cell_type": "code",
   "execution_count": 56,
   "metadata": {},
   "outputs": [
    {
     "name": "stdout",
     "output_type": "stream",
     "text": [
      "Converted keras_rnn.ipynb to exp/nb_keras.py\r\n"
     ]
    }
   ],
   "source": [
    "# !python notebook2script.py keras_rnn.ipynb"
   ]
  }
 ],
 "metadata": {
  "kernelspec": {
   "display_name": "Python 3",
   "language": "python",
   "name": "python3"
  },
  "language_info": {
   "codemirror_mode": {
    "name": "ipython",
    "version": 3
   },
   "file_extension": ".py",
   "mimetype": "text/x-python",
   "name": "python",
   "nbconvert_exporter": "python",
   "pygments_lexer": "ipython3",
   "version": "3.6.7"
  }
 },
 "nbformat": 4,
 "nbformat_minor": 2
}
